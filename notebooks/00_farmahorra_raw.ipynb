{
 "cells": [
  {
   "cell_type": "markdown",
   "metadata": {
    "application/vnd.databricks.v1+cell": {
     "cellMetadata": {
      "byteLimit": 2048000,
      "rowLimit": 10000
     },
     "inputWidgets": {},
     "nuid": "62206707-6915-40f2-a907-f40fb3c8eeb2",
     "showTitle": false,
     "tableResultSettingsMap": {},
     "title": ""
    }
   },
   "source": [
    "\n",
    "# Ingesta de órdenes de FarmAhorra en Raw\n"
   ]
  },
  {
   "cell_type": "markdown",
   "metadata": {
    "application/vnd.databricks.v1+cell": {
     "cellMetadata": {
      "byteLimit": 2048000,
      "rowLimit": 10000
     },
     "inputWidgets": {},
     "nuid": "77dece20-8391-4ba3-a716-58f2276527b8",
     "showTitle": false,
     "tableResultSettingsMap": {},
     "title": ""
    }
   },
   "source": [
    "## 0. Prerequisitos\n"
   ]
  },
  {
   "cell_type": "code",
   "execution_count": 0,
   "metadata": {
    "application/vnd.databricks.v1+cell": {
     "cellMetadata": {
      "byteLimit": 2048000,
      "rowLimit": 10000
     },
     "inputWidgets": {},
     "nuid": "50723821-9fdc-4332-9911-437c6e4252c9",
     "showTitle": false,
     "tableResultSettingsMap": {},
     "title": ""
    }
   },
   "outputs": [
    {
     "output_type": "stream",
     "name": "stdout",
     "output_type": "stream",
     "text": [
      "\u001B[33mWARNING: pymongo 4.14.1 does not provide the extra 'srv'\u001B[0m\u001B[33m\n\u001B[0m\u001B[43mNote: you may need to restart the kernel using %restart_python or dbutils.library.restartPython() to use updated packages.\u001B[0m\n"
     ]
    }
   ],
   "source": [
    "# 0) PRE-REQUISITOS\n",
    "# - PyMongo para Cosmos (API Mongo)\n",
    "# - dateutil para parsear fechas ISO\n",
    "%pip install --quiet \"pymongo[srv]\" python-dateutil\n",
    "\n",
    "import time, uuid, datetime as dt\n",
    "from dateutil import parser as dateparser\n",
    "from pymongo import MongoClient"
   ]
  },
  {
   "cell_type": "markdown",
   "metadata": {
    "application/vnd.databricks.v1+cell": {
     "cellMetadata": {
      "byteLimit": 2048000,
      "rowLimit": 10000
     },
     "inputWidgets": {},
     "nuid": "7d95f0aa-3855-4c34-a330-a26ffab49e1f",
     "showTitle": false,
     "tableResultSettingsMap": {},
     "title": ""
    }
   },
   "source": [
    "## 1. Definición y carga de credenciales"
   ]
  },
  {
   "cell_type": "code",
   "execution_count": 0,
   "metadata": {
    "application/vnd.databricks.v1+cell": {
     "cellMetadata": {
      "byteLimit": 2048000,
      "rowLimit": 10000
     },
     "inputWidgets": {},
     "nuid": "7f0251c2-9ce6-4937-bd2b-e88acca51b71",
     "showTitle": false,
     "tableResultSettingsMap": {},
     "title": ""
    }
   },
   "outputs": [
    {
     "output_type": "stream",
     "name": "stdout",
     "output_type": "stream",
     "text": [
      "Credenciales cargadas\n"
     ]
    }
   ],
   "source": [
    "# Widgets para pegar las credenciales de Cosmos (Mongo vCore)\n",
    "dbutils.widgets.text(\"COSMOS_URI\",  \"\")\n",
    "dbutils.widgets.text(\"COSMOS_USER\", \"\")\n",
    "dbutils.widgets.text(\"COSMOS_PASS\", \"\")\n",
    "\n",
    "COSMOS_URI  = dbutils.widgets.get(\"COSMOS_URI\").strip()\n",
    "COSMOS_USER = dbutils.widgets.get(\"COSMOS_USER\").strip()\n",
    "COSMOS_PASS = dbutils.widgets.get(\"COSMOS_PASS\").strip()\n",
    "\n",
    "assert COSMOS_URI and COSMOS_USER and COSMOS_PASS, \"Faltan credenciales en los widgets.\"\n",
    "print(\"Credenciales cargadas\")"
   ]
  },
  {
   "cell_type": "markdown",
   "metadata": {
    "application/vnd.databricks.v1+cell": {
     "cellMetadata": {
      "byteLimit": 2048000,
      "rowLimit": 10000
     },
     "inputWidgets": {},
     "nuid": "3fd6ac8e-7cc9-4a2f-b0c9-1d99d59dbb74",
     "showTitle": false,
     "tableResultSettingsMap": {},
     "title": ""
    }
   },
   "source": [
    "## 2. Definición del contrato operativo"
   ]
  },
  {
   "cell_type": "code",
   "execution_count": 0,
   "metadata": {
    "application/vnd.databricks.v1+cell": {
     "cellMetadata": {
      "byteLimit": 2048000,
      "rowLimit": 10000
     },
     "inputWidgets": {},
     "nuid": "702ff09a-5219-4edf-89a2-440e01151719",
     "showTitle": false,
     "tableResultSettingsMap": {},
     "title": ""
    }
   },
   "outputs": [
    {
     "output_type": "execute_result",
     "data": {
      "text/plain": [
       "{'db_raw': 'farma.raw',\n",
       " 'db_bronze': 'farma.bronze',\n",
       " 'raw_path': 'abfss://datalake@adlsfarmahorra.dfs.core.windows.net/farma/raw/__unitystorage/schemas/8c784cab-51b3-40d8-bc1a-0806b69779a5/orders_farmahorra',\n",
       " 'checkpoints_dir': 'abfss://datalake@adlsfarmahorra.dfs.core.windows.net/farma/raw/__unitystorage/schemas/_checkpoints/orders_farmahorra',\n",
       " 'wm_table': 'farma.raw.ingest_watermarks',\n",
       " 'wm_source': 'orders_farmahorra',\n",
       " 'wm_field': 'confirmed_at',\n",
       " 'wm_initial': '1970-01-01T00:00:00Z',\n",
       " 'wm_delay_minutes': 120,\n",
       " 'raw_partition_col': 'ingest_date',\n",
       " 'batch_max_docs': 20000}"
      ]
     },
     "execution_count": 5,
     "metadata": {},
     "output_type": "execute_result"
    }
   ],
   "source": [
    "# Descubre la ruta física del schema RAW para no hardcodear\n",
    "raw_loc = (\n",
    "    spark.sql(\"DESCRIBE SCHEMA EXTENDED farma.raw\")\n",
    "         .where(\"database_description_item = 'Location'\")\n",
    "         .collect()[0][\"database_description_value\"]\n",
    ")\n",
    "assert raw_loc, \"No se puede resolver la ubicación de farma.raw\"\n",
    "farma_base = raw_loc.rsplit(\"/\", 1)[0]\n",
    "\n",
    "# Diccionario de configuración\n",
    "cfg = {\n",
    "    \"db_raw\":    \"farma.raw\",\n",
    "    \"db_bronze\": \"farma.bronze\",\n",
    "    \"raw_path\":  f\"{raw_loc}/orders_farmahorra\",  # JSON aterrice acá\n",
    "    \"checkpoints_dir\": f\"{farma_base}/_checkpoints/orders_farmahorra\",\n",
    "\n",
    "    # Definción de watermarks\n",
    "    \"wm_table\":  \"farma.raw.ingest_watermarks\", # guarda último confirmed_at\n",
    "    \"wm_source\": \"orders_farmahorra\",\n",
    "    \"wm_field\":  \"confirmed_at\", # fecha de confirmacion de orden\n",
    "    \"wm_initial\": \"1970-01-01T00:00:00Z\",\n",
    "    \"wm_delay_minutes\": 120,  # tolerancia late arrivals\n",
    "    \"raw_partition_col\": \"ingest_date\", # YYYY-MM-DD\n",
    "    \"batch_max_docs\": 20000 # max docs por batch\n",
    "}\n",
    "\n",
    "cfg"
   ]
  },
  {
   "cell_type": "markdown",
   "metadata": {
    "application/vnd.databricks.v1+cell": {
     "cellMetadata": {
      "byteLimit": 2048000,
      "rowLimit": 10000
     },
     "inputWidgets": {},
     "nuid": "5c009d78-fa5c-4a82-85e9-a8f9aec1e312",
     "showTitle": false,
     "tableResultSettingsMap": {},
     "title": ""
    }
   },
   "source": [
    "## 3. Conectividad y testing"
   ]
  },
  {
   "cell_type": "code",
   "execution_count": 0,
   "metadata": {
    "application/vnd.databricks.v1+cell": {
     "cellMetadata": {
      "byteLimit": 2048000,
      "implicitDf": true,
      "rowLimit": 10000
     },
     "inputWidgets": {},
     "nuid": "98850b74-2f10-4863-97df-fd66fffb0b8b",
     "showTitle": false,
     "tableResultSettingsMap": {},
     "title": ""
    }
   },
   "outputs": [],
   "source": [
    "%sql\n",
    "USE CATALOG farma;\n",
    "USE SCHEMA raw;"
   ]
  },
  {
   "cell_type": "code",
   "execution_count": 0,
   "metadata": {
    "application/vnd.databricks.v1+cell": {
     "cellMetadata": {
      "byteLimit": 2048000,
      "rowLimit": 10000
     },
     "inputWidgets": {},
     "nuid": "df2a9bba-8a35-4022-9fc0-12931961da05",
     "showTitle": false,
     "tableResultSettingsMap": {},
     "title": ""
    }
   },
   "outputs": [
    {
     "output_type": "stream",
     "name": "stderr",
     "output_type": "stream",
     "text": [
      "/home/spark-f377f95b-0998-4d28-bd5f-b6/.ipykernel/6530/command-6929307799441503-2866843892:2: UserWarning: You appear to be connected to a CosmosDB cluster. For more information regarding feature compatibility and support please visit https://www.mongodb.com/supportability/cosmosdb\n  client = MongoClient(COSMOS_URI, username=COSMOS_USER, password=COSMOS_PASS, tls=True)\n/local_disk0/.ephemeral_nfs/envs/pythonEnv-f377f95b-0998-4d28-bd5f-b696bbd656f4/lib/python3.12/site-packages/pymongo/synchronous/mongo_client.py:1752: UserWarning: You appear to be connected to a CosmosDB cluster. For more information regarding feature compatibility and support please visit https://www.mongodb.com/supportability/cosmosdb\n  self._resolve_srv()\n"
     ]
    },
    {
     "output_type": "stream",
     "name": "stdout",
     "output_type": "stream",
     "text": [
      "Conexión con base de datos Cosmos: exitosa, docs encontrados: 300\n"
     ]
    }
   ],
   "source": [
    "# 3.a) Conexión a Cosmos (Mongo API)\n",
    "client = MongoClient(COSMOS_URI, username=COSMOS_USER, password=COSMOS_PASS, tls=True)\n",
    "mongo_db = client[\"fa_db\"]\n",
    "coll = mongo_db[\"orders_farmahorra\"]\n",
    "print(\"Conexión con base de datos Cosmos: exitosa, docs encontrados:\", coll.estimated_document_count())"
   ]
  },
  {
   "cell_type": "code",
   "execution_count": 0,
   "metadata": {
    "application/vnd.databricks.v1+cell": {
     "cellMetadata": {
      "byteLimit": 2048000,
      "rowLimit": 10000
     },
     "inputWidgets": {},
     "nuid": "8c5a9ae2-3e6d-4a01-a203-2ce6d707417a",
     "showTitle": false,
     "tableResultSettingsMap": {},
     "title": ""
    }
   },
   "outputs": [
    {
     "output_type": "stream",
     "name": "stdout",
     "output_type": "stream",
     "text": [
      "abfss://datalake@adlsfarmahorra.dfs.core.windows.net/farma/raw/orders_farmahorra\nabfss://datalake@adlsfarmahorra.dfs.core.windows.net/farma/raw/_checkpoints/orders_farmahorra\nabfss://datalake@adlsfarmahorra.dfs.core.windows.net/farma/raw/_tmp\nEscritura en ADLS exitosa:  abfss://datalake@adlsfarmahorra.dfs.core.windows.net/farma/raw/_tmp/_ping_1757652140\n"
     ]
    }
   ],
   "source": [
    "# 3.b) Escritura de prueba a ADLS\n",
    "EXTERNAL_BASE = \"abfss://datalake@adlsfarmahorra.dfs.core.windows.net/farma\"\n",
    "\n",
    "cfg[\"raw_path\"]        = f\"{EXTERNAL_BASE}/raw/orders_farmahorra\"\n",
    "cfg[\"checkpoints_dir\"] = f\"{EXTERNAL_BASE}/raw/_checkpoints/orders_farmahorra\"\n",
    "cfg[\"tmp_dir\"]         = f\"{EXTERNAL_BASE}/raw/_tmp\"\n",
    "\n",
    "# sanity check:\n",
    "print(cfg[\"raw_path\"])\n",
    "print(cfg[\"checkpoints_dir\"])\n",
    "print(cfg[\"tmp_dir\"])\n",
    "\n",
    "# Prueba de escritura\n",
    "test_path = f\"{cfg['tmp_dir'].rstrip('/')}/_ping_{int(time.time())}\"\n",
    "spark.createDataFrame([{\"ok\": True, \"ts\": dt.datetime.now(dt.timezone.utc).isoformat()}]) \\\n",
    "     .write.mode(\"overwrite\").parquet(test_path)\n",
    "print(\"Escritura en ADLS exitosa: \", test_path)\n"
   ]
  },
  {
   "cell_type": "markdown",
   "metadata": {
    "application/vnd.databricks.v1+cell": {
     "cellMetadata": {
      "byteLimit": 2048000,
      "rowLimit": 10000
     },
     "inputWidgets": {},
     "nuid": "e2e7b45a-0de0-4545-868a-3f0363d8cd3c",
     "showTitle": false,
     "tableResultSettingsMap": {},
     "title": ""
    }
   },
   "source": [
    "## 4. Ingesta Incremental en Raw"
   ]
  },
  {
   "cell_type": "code",
   "execution_count": 0,
   "metadata": {
    "application/vnd.databricks.v1+cell": {
     "cellMetadata": {
      "byteLimit": 2048000,
      "rowLimit": 10000
     },
     "inputWidgets": {},
     "nuid": "5a1532ed-a278-4399-8057-8d07b8040e74",
     "showTitle": false,
     "tableResultSettingsMap": {},
     "title": ""
    }
   },
   "outputs": [
    {
     "output_type": "stream",
     "name": "stdout",
     "output_type": "stream",
     "text": [
      "WM actual: 1970-01-01 00:00:00 | WM efectivo: 1969-12-31T22:00:00Z\nRAW escrito: 300 filas: abfss://datalake@adlsfarmahorra.dfs.core.windows.net/farma/raw/orders_farmahorra/ingest_date=2025-09-12\nWatermark actualizado a: 2025-09-11T05:47:55.788433+00:00\n"
     ]
    }
   ],
   "source": [
    "import datetime as dt\n",
    "from dateutil import parser as dateparser\n",
    "\n",
    "# 4.1) Tabla de watermark (vive como Delta gobernado por UC)\n",
    "#     Guarda por cada \"source\" el último confirmed_at procesado.\n",
    "spark.sql(f\"\"\"\n",
    "  CREATE TABLE IF NOT EXISTS {cfg['wm_table']} (\n",
    "    source STRING,\n",
    "    last_confirmed_at TIMESTAMP -- último confirmed_at ya procesado\n",
    "  ) USING DELTA\n",
    "\"\"\")\n",
    "exists = spark.sql(f\"SELECT 1 FROM {cfg['wm_table']} WHERE source = '{cfg['wm_source']}' LIMIT 1\").count() > 0\n",
    "if not exists:\n",
    "    spark.sql(f\"\"\"\n",
    "      INSERT INTO {cfg['wm_table']}\n",
    "      VALUES ('{cfg['wm_source']}', TIMESTAMP('{cfg['wm_initial']}'))\n",
    "    \"\"\")\n",
    "\n",
    "# 4.2) Lee watermark actual y aplica delay (tolerancia de llegadas tardías).\n",
    "# WM efectivo = WM actual - wm_delay_minutes\n",
    "last_wm = spark.sql(f\"SELECT last_confirmed_at FROM {cfg['wm_table']} WHERE source = '{cfg['wm_source']}'\").collect()[0][0]\n",
    "wm_effective = (last_wm - dt.timedelta(minutes=cfg[\"wm_delay_minutes\"])).strftime(\"%Y-%m-%dT%H:%M:%SZ\")\n",
    "print(\"WM actual:\", last_wm, \"| WM efectivo:\", wm_effective)\n",
    "\n",
    "# 4.3) Trae de Cosmos sólo documentos con confirmed_at > WM efectivo, ordenados ascendentemente (o sea los documentos más recientes no procesados)\n",
    "q = { cfg[\"wm_field\"]: {\"$gt\": wm_effective} }\n",
    "cursor = coll.find(q).sort(cfg[\"wm_field\"], 1).limit(cfg[\"batch_max_docs\"])\n",
    "docs = list(cursor)\n",
    "\n",
    "if not docs:\n",
    "    print(\"No hay documentos nuevos.\")\n",
    "else:\n",
    "    # Normalización:\n",
    "    # Convierte tipos no serializables: ObjectId a str, datetime a ISO-8601 (UTC),\n",
    "    # y se aplica recursivamente sobre dicts.\n",
    "    def norm(d):\n",
    "        out = {}\n",
    "        for k, v in d.items():\n",
    "            if k == \"_id\":\n",
    "                out[\"_id\"] = str(v)\n",
    "            elif isinstance(v, dt.datetime):\n",
    "                out[k] = v.astimezone(dt.timezone.utc).isoformat()\n",
    "            elif isinstance(v, list):\n",
    "                out[k] = [norm(x) if isinstance(x, dict) else x for x in v]\n",
    "            elif isinstance(v, dict):\n",
    "                out[k] = norm(v)\n",
    "            else:\n",
    "                out[k] = v\n",
    "        return out\n",
    "\n",
    "    rows = [norm(d) for d in docs]\n",
    "    df = spark.createDataFrame(rows)\n",
    "\n",
    "    # Partición por fecha de ingesta (UTC)\n",
    "    ingest_date = dt.datetime.now(dt.timezone.utc).date().isoformat()\n",
    "    dest = f\"{cfg['raw_path']}/{cfg['raw_partition_col']}={ingest_date}\"\n",
    "\n",
    "    # Escribe en RAW como JSON (append). En RAW se aceptan posibles duplicados\n",
    "    df.write.mode(\"append\").json(dest)\n",
    "    print(f\"RAW escrito: {df.count()} filas: {dest}\")\n",
    "\n",
    "    # Actualiza watermark al máximo confirmed_at observado\n",
    "    def to_utc(s):\n",
    "        try:\n",
    "            d = dateparser.isoparse(s)\n",
    "            if d.tzinfo is None:\n",
    "                d = d.replace(tzinfo=dt.timezone.utc)\n",
    "            return d.astimezone(dt.timezone.utc)\n",
    "        except Exception:\n",
    "            return None\n",
    "\n",
    "    max_ts = None\n",
    "    for d in rows:\n",
    "        val = d.get(cfg[\"wm_field\"])\n",
    "        if not val: \n",
    "            continue\n",
    "        ts = to_utc(val)\n",
    "        if ts and (max_ts is None or ts > max_ts):\n",
    "            max_ts = ts\n",
    "\n",
    "    if max_ts:\n",
    "        # Upsert del nuevo watermark\n",
    "        max_iso = max_ts.strftime(\"%Y-%m-%d %H:%M:%S\")\n",
    "        spark.sql(f\"\"\"\n",
    "          MERGE INTO {cfg['wm_table']} t\n",
    "          USING (SELECT '{cfg['wm_source']}' AS source, TIMESTAMP('{max_iso}') AS ts) s\n",
    "          ON t.source = s.source\n",
    "          WHEN MATCHED THEN UPDATE SET last_confirmed_at = s.ts\n",
    "          WHEN NOT MATCHED THEN INSERT (source, last_confirmed_at) VALUES (s.source, s.ts)\n",
    "        \"\"\")\n",
    "        print(\"Watermark actualizado a:\", max_ts.isoformat())\n",
    "    else:\n",
    "        # No vino ningún confirmed_at válido: no se actualiza el watermark\n",
    "        print(\"No encontré confirmed_at válido; watermark sin cambios.\")\n"
   ]
  },
  {
   "cell_type": "markdown",
   "metadata": {
    "application/vnd.databricks.v1+cell": {
     "cellMetadata": {
      "byteLimit": 2048000,
      "rowLimit": 10000
     },
     "inputWidgets": {},
     "nuid": "69d64bbb-5fee-44a9-a938-1375cb42e341",
     "showTitle": false,
     "tableResultSettingsMap": {},
     "title": ""
    }
   },
   "source": [
    "Revisión de algunas órdenes ingestadas y almacenadas en Raw:"
   ]
  },
  {
   "cell_type": "code",
   "execution_count": 0,
   "metadata": {
    "application/vnd.databricks.v1+cell": {
     "cellMetadata": {
      "byteLimit": 2048000,
      "rowLimit": 10000
     },
     "inputWidgets": {},
     "nuid": "fb9ce0f5-961d-4b20-8a8e-2625241d214b",
     "showTitle": false,
     "tableResultSettingsMap": {},
     "title": ""
    }
   },
   "outputs": [
    {
     "output_type": "display_data",
     "data": {
      "text/html": [
       "<style scoped>\n",
       "  .table-result-container {\n",
       "    max-height: 300px;\n",
       "    overflow: auto;\n",
       "  }\n",
       "  table, th, td {\n",
       "    border: 1px solid black;\n",
       "    border-collapse: collapse;\n",
       "  }\n",
       "  th, td {\n",
       "    padding: 5px;\n",
       "  }\n",
       "  th {\n",
       "    text-align: left;\n",
       "  }\n",
       "</style><div class='table-result-container'><table class='table-result'><thead style='background-color: white'><tr><th>_id</th><th>client_id</th><th>confirmed_at</th><th>discount</th><th>discount_pct</th><th>external_order_id</th><th>farmacia_order_id</th><th>id_farmacia</th><th>items</th><th>source</th><th>subtotal</th><th>total</th></tr></thead><tbody><tr><td>68c26105d0fc5a696f14dcbb</td><td>CLI-272</td><td>2025-09-11T05:41:25.425406+00:00</td><td>0.04</td><td>5.0</td><td>FAC-002-00038</td><td>a79afa84-2078-42ea-b2b5-6d6642207db8</td><td>farma_002</td><td>List(List(NASAL SPRAY 0.05%, Oxymetazoline Hydrochloride, 0.84, 70000000101, 1, 0.84))</td><td>farmahorra</td><td>0.84</td><td>0.8</td></tr><tr><td>68c26106d0fc5a696f14dcbc</td><td>CLI-250</td><td>2025-09-11T05:41:26.063227+00:00</td><td>0.31</td><td>5.0</td><td>FAC-002-00039</td><td>233c864e-272b-478b-a9a6-6e61b1037b2f</td><td>farma_002</td><td>List(List(MIDODRINE HCL 10 MG TABLET, Midodrine Hydrochloride, 6.22, 00904681907, 1, 6.22))</td><td>farmahorra</td><td>6.22</td><td>5.91</td></tr><tr><td>68c26106d0fc5a696f14dcbd</td><td>CLI-377</td><td>2025-09-11T05:41:26.690969+00:00</td><td>0.11</td><td>5.0</td><td>FAC-001-00040</td><td>2bd2d702-dda2-4558-9728-59ec1dbaed13</td><td>farma_001</td><td>List(List(BACITRACIN 500 UNIT/GM OINTMNT, Bacitracin, 2.22, 68001047746, 2, 1.11))</td><td>farmahorra</td><td>2.22</td><td>2.11</td></tr><tr><td>68c26107d0fc5a696f14dcbe</td><td>CLI-451</td><td>2025-09-11T05:41:27.329124+00:00</td><td>46.31</td><td>5.0</td><td>FAC-002-00041</td><td>b9e223df-d809-41e1-b28f-03c0bac5c38b</td><td>farma_002</td><td>List(List(FIORICET 50-300-40 MG CAPSULE, Butalbital, Acetaminophen, and Caffeine, 926.16, 52544008001, 1, 926.16))</td><td>farmahorra</td><td>926.16</td><td>879.85</td></tr><tr><td>68c26108d0fc5a696f14dcbf</td><td>CLI-782</td><td>2025-09-11T05:41:27.965556+00:00</td><td>0.13</td><td>5.0</td><td>FAC-001-00042</td><td>9b22a4b0-c703-428a-b8cc-431adfeb2ef1</td><td>farma_001</td><td>List(List(PIOGLITAZONE HCL 15 MG TABLET, PIOGLITAZONE HYDROCHLORIDE, 2.57, 62135080430, 1, 2.57))</td><td>farmahorra</td><td>2.57</td><td>2.44</td></tr></tbody></table></div>"
      ]
     },
     "metadata": {
      "application/vnd.databricks.v1+output": {
       "addedWidgets": {},
       "aggData": [],
       "aggError": "",
       "aggOverflow": false,
       "aggSchema": [],
       "aggSeriesLimitReached": false,
       "aggType": "",
       "arguments": {},
       "columnCustomDisplayInfos": {},
       "data": [
        [
         "68c26105d0fc5a696f14dcbb",
         "CLI-272",
         "2025-09-11T05:41:25.425406+00:00",
         0.04,
         5.0,
         "FAC-002-00038",
         "a79afa84-2078-42ea-b2b5-6d6642207db8",
         "farma_002",
         [
          [
           "NASAL SPRAY 0.05%",
           "Oxymetazoline Hydrochloride",
           "0.84",
           "70000000101",
           "1",
           "0.84"
          ]
         ],
         "farmahorra",
         0.84,
         0.8
        ],
        [
         "68c26106d0fc5a696f14dcbc",
         "CLI-250",
         "2025-09-11T05:41:26.063227+00:00",
         0.31,
         5.0,
         "FAC-002-00039",
         "233c864e-272b-478b-a9a6-6e61b1037b2f",
         "farma_002",
         [
          [
           "MIDODRINE HCL 10 MG TABLET",
           "Midodrine Hydrochloride",
           "6.22",
           "00904681907",
           "1",
           "6.22"
          ]
         ],
         "farmahorra",
         6.22,
         5.91
        ],
        [
         "68c26106d0fc5a696f14dcbd",
         "CLI-377",
         "2025-09-11T05:41:26.690969+00:00",
         0.11,
         5.0,
         "FAC-001-00040",
         "2bd2d702-dda2-4558-9728-59ec1dbaed13",
         "farma_001",
         [
          [
           "BACITRACIN 500 UNIT/GM OINTMNT",
           "Bacitracin",
           "2.22",
           "68001047746",
           "2",
           "1.11"
          ]
         ],
         "farmahorra",
         2.22,
         2.11
        ],
        [
         "68c26107d0fc5a696f14dcbe",
         "CLI-451",
         "2025-09-11T05:41:27.329124+00:00",
         46.31,
         5.0,
         "FAC-002-00041",
         "b9e223df-d809-41e1-b28f-03c0bac5c38b",
         "farma_002",
         [
          [
           "FIORICET 50-300-40 MG CAPSULE",
           "Butalbital, Acetaminophen, and Caffeine",
           "926.16",
           "52544008001",
           "1",
           "926.16"
          ]
         ],
         "farmahorra",
         926.16,
         879.85
        ],
        [
         "68c26108d0fc5a696f14dcbf",
         "CLI-782",
         "2025-09-11T05:41:27.965556+00:00",
         0.13,
         5.0,
         "FAC-001-00042",
         "9b22a4b0-c703-428a-b8cc-431adfeb2ef1",
         "farma_001",
         [
          [
           "PIOGLITAZONE HCL 15 MG TABLET",
           "PIOGLITAZONE HYDROCHLORIDE",
           "2.57",
           "62135080430",
           "1",
           "2.57"
          ]
         ],
         "farmahorra",
         2.57,
         2.44
        ]
       ],
       "datasetInfos": [],
       "dbfsResultPath": null,
       "isJsonSchema": true,
       "metadata": {},
       "overflow": false,
       "plotOptions": {
        "customPlotOptions": {},
        "displayType": "table",
        "pivotAggregation": null,
        "pivotColumns": null,
        "xColumns": null,
        "yColumns": null
       },
       "removedWidgets": [],
       "schema": [
        {
         "metadata": "{}",
         "name": "_id",
         "type": "\"string\""
        },
        {
         "metadata": "{}",
         "name": "client_id",
         "type": "\"string\""
        },
        {
         "metadata": "{}",
         "name": "confirmed_at",
         "type": "\"string\""
        },
        {
         "metadata": "{}",
         "name": "discount",
         "type": "\"double\""
        },
        {
         "metadata": "{}",
         "name": "discount_pct",
         "type": "\"double\""
        },
        {
         "metadata": "{}",
         "name": "external_order_id",
         "type": "\"string\""
        },
        {
         "metadata": "{}",
         "name": "farmacia_order_id",
         "type": "\"string\""
        },
        {
         "metadata": "{}",
         "name": "id_farmacia",
         "type": "\"string\""
        },
        {
         "metadata": "{}",
         "name": "items",
         "type": "{\"containsNull\":true,\"elementType\":{\"fields\":[{\"metadata\":{},\"name\":\"descripcion\",\"nullable\":true,\"type\":\"string\"},{\"metadata\":{},\"name\":\"generic_name\",\"nullable\":true,\"type\":\"string\"},{\"metadata\":{},\"name\":\"line_total\",\"nullable\":true,\"type\":\"string\"},{\"metadata\":{},\"name\":\"package_ndc_11\",\"nullable\":true,\"type\":\"string\"},{\"metadata\":{},\"name\":\"quantity\",\"nullable\":true,\"type\":\"string\"},{\"metadata\":{},\"name\":\"unit_price\",\"nullable\":true,\"type\":\"string\"}],\"type\":\"struct\"},\"type\":\"array\"}"
        },
        {
         "metadata": "{}",
         "name": "source",
         "type": "\"string\""
        },
        {
         "metadata": "{}",
         "name": "subtotal",
         "type": "\"double\""
        },
        {
         "metadata": "{}",
         "name": "total",
         "type": "\"double\""
        }
       ],
       "type": "table"
      }
     },
     "output_type": "display_data"
    }
   ],
   "source": [
    "display(spark.read.json(f\"{cfg['raw_path']}/*/*\").limit(5))"
   ]
  }
 ],
 "metadata": {
  "application/vnd.databricks.v1+notebook": {
   "computePreferences": null,
   "dashboards": [],
   "environmentMetadata": {
    "base_environment": "",
    "environment_version": "3"
   },
   "inputWidgetPreferences": null,
   "language": "python",
   "notebookMetadata": {
    "mostRecentlyExecutedCommandWithImplicitDF": {
     "commandId": 8621832803439252,
     "dataframes": [
      "_sqldf"
     ]
    },
    "pythonIndentUnit": 4
   },
   "notebookName": "00_farmahorra_raw",
   "widgets": {
    "COSMOS_PASS": {
     "currentValue": "Master$123",
     "nuid": "e3b47fef-dbab-4e3b-b66a-90da6f4b54c0",
     "typedWidgetInfo": {
      "autoCreated": false,
      "defaultValue": "",
      "label": null,
      "name": "COSMOS_PASS",
      "options": {
       "widgetDisplayType": "Text",
       "validationRegex": null
      },
      "parameterDataType": "String"
     },
     "widgetInfo": {
      "widgetType": "text",
      "defaultValue": "",
      "label": null,
      "name": "COSMOS_PASS",
      "options": {
       "widgetType": "text",
       "autoCreated": null,
       "validationRegex": null
      }
     }
    },
    "COSMOS_URI": {
     "currentValue": "mongodb+srv://mongodb-products.global.mongocluster.cosmos.azure.com/?tls=true&authMechanism=SCRAM-SHA-256&retrywrites=false&maxIdleTimeMS=120000",
     "nuid": "dca5154e-5c6e-4051-b395-1423cec52fe7",
     "typedWidgetInfo": {
      "autoCreated": false,
      "defaultValue": "",
      "label": null,
      "name": "COSMOS_URI",
      "options": {
       "widgetDisplayType": "Text",
       "validationRegex": null
      },
      "parameterDataType": "String"
     },
     "widgetInfo": {
      "widgetType": "text",
      "defaultValue": "",
      "label": null,
      "name": "COSMOS_URI",
      "options": {
       "widgetType": "text",
       "autoCreated": null,
       "validationRegex": null
      }
     }
    },
    "COSMOS_USER": {
     "currentValue": "mongesam",
     "nuid": "3ccdd148-5aae-457e-aa70-d3e4f1fb39e9",
     "typedWidgetInfo": {
      "autoCreated": false,
      "defaultValue": "",
      "label": null,
      "name": "COSMOS_USER",
      "options": {
       "widgetDisplayType": "Text",
       "validationRegex": null
      },
      "parameterDataType": "String"
     },
     "widgetInfo": {
      "widgetType": "text",
      "defaultValue": "",
      "label": null,
      "name": "COSMOS_USER",
      "options": {
       "widgetType": "text",
       "autoCreated": null,
       "validationRegex": null
      }
     }
    }
   }
  },
  "language_info": {
   "name": "python"
  }
 },
 "nbformat": 4,
 "nbformat_minor": 0
}