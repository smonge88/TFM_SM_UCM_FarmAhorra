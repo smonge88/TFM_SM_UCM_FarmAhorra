{
 "cells": [
  {
   "cell_type": "markdown",
   "metadata": {
    "application/vnd.databricks.v1+cell": {
     "cellMetadata": {
      "byteLimit": 2048000,
      "rowLimit": 10000
     },
     "inputWidgets": {},
     "nuid": "9128fc7b-a015-4169-be5a-71f283def800",
     "showTitle": false,
     "tableResultSettingsMap": {},
     "title": ""
    }
   },
   "source": [
    "\n",
    "# Movimiento de órdenes de FarmAhorra de Bronze a Silver"
   ]
  },
  {
   "cell_type": "markdown",
   "metadata": {
    "application/vnd.databricks.v1+cell": {
     "cellMetadata": {
      "byteLimit": 2048000,
      "rowLimit": 10000
     },
     "inputWidgets": {},
     "nuid": "788aa5de-36b0-4e2f-ad0e-513a7edada6b",
     "showTitle": false,
     "tableResultSettingsMap": {},
     "title": ""
    }
   },
   "source": [
    "## 0. Prerequisitos"
   ]
  },
  {
   "cell_type": "code",
   "execution_count": 0,
   "metadata": {
    "application/vnd.databricks.v1+cell": {
     "cellMetadata": {
      "byteLimit": 2048000,
      "rowLimit": 10000
     },
     "inputWidgets": {},
     "nuid": "01b1c61b-62f9-4ee9-b7cf-a84e6f99519e",
     "showTitle": false,
     "tableResultSettingsMap": {},
     "title": ""
    }
   },
   "outputs": [],
   "source": [
    "from pyspark.sql import functions as F, types as T\n",
    "from delta.tables import DeltaTable\n",
    "\n",
    "BRONZE = \"farma.bronze.orders\"\n",
    "SILVER = \"farma.silver.orders\""
   ]
  },
  {
   "cell_type": "markdown",
   "metadata": {
    "application/vnd.databricks.v1+cell": {
     "cellMetadata": {
      "byteLimit": 2048000,
      "rowLimit": 10000
     },
     "inputWidgets": {},
     "nuid": "0fff5422-5e3f-4556-8c4c-76483bc568c7",
     "showTitle": false,
     "tableResultSettingsMap": {},
     "title": ""
    }
   },
   "source": [
    "## 1. Contexto Unity-Catalog"
   ]
  },
  {
   "cell_type": "code",
   "execution_count": 0,
   "metadata": {
    "application/vnd.databricks.v1+cell": {
     "cellMetadata": {
      "byteLimit": 2048000,
      "implicitDf": true,
      "rowLimit": 10000
     },
     "inputWidgets": {},
     "nuid": "c48fa5a6-e703-41b1-a8b1-ea7f11570742",
     "showTitle": false,
     "tableResultSettingsMap": {},
     "title": ""
    }
   },
   "outputs": [],
   "source": [
    "%sql\n",
    "USE CATALOG farma;\n",
    "CREATE SCHEMA IF NOT EXISTS silver;\n",
    "USE SCHEMA silver;"
   ]
  },
  {
   "cell_type": "markdown",
   "metadata": {
    "application/vnd.databricks.v1+cell": {
     "cellMetadata": {
      "byteLimit": 2048000,
      "rowLimit": 10000
     },
     "inputWidgets": {},
     "nuid": "f53e12da-c2d7-43ea-9b1d-43e15115a251",
     "showTitle": false,
     "tableResultSettingsMap": {},
     "title": ""
    }
   },
   "source": [
    "## 2. Carga desde Bronze y limpieza"
   ]
  },
  {
   "cell_type": "code",
   "execution_count": 0,
   "metadata": {
    "application/vnd.databricks.v1+cell": {
     "cellMetadata": {
      "byteLimit": 2048000,
      "rowLimit": 10000
     },
     "inputWidgets": {},
     "nuid": "5a659307-4ea1-46e8-9fcd-cb718bae6c6f",
     "showTitle": false,
     "tableResultSettingsMap": {},
     "title": ""
    }
   },
   "outputs": [
    {
     "output_type": "stream",
     "name": "stdout",
     "output_type": "stream",
     "text": [
      "Silver actualizado → farma.silver.orders | filas: 400\n"
     ]
    }
   ],
   "source": [
    "b = spark.table(BRONZE)\n",
    "\n",
    "silver_df = (\n",
    "    b\n",
    "    # Derivados de order_datr y order_hour\n",
    "    .withColumn(\"order_date\", F.to_date(\"confirmed_at\"))\n",
    "    .withColumn(\"order_hour\", F.date_format(\"confirmed_at\", \"HH\").cast(\"int\"))\n",
    "    # Filtro: confirmed_at no nulo\n",
    "    .where(F.col(\"confirmed_at\").isNotNull())\n",
    "    # Quita columnas innecesarias\n",
    "    .drop(\"farmacia_order_id\", \"line_total\", \"items_count\")\n",
    "    # Ordena columnas para lectura más cómoda\n",
    "    .select(\n",
    "        \"mongo_id\",\n",
    "        \"external_order_id\",\"id_farmacia\",\"client_id\",\n",
    "        \"discount_pct\",\"subtotal\",\"discount\",\"total\",\n",
    "        \"confirmed_at\",\"order_date\",\"order_hour\",\n",
    "        \"package_ndc_11\",\"quantity\",\"unit_price\",\"descripcion\",\"generic_name\",\n",
    "        \"source\",\"_load_ts\"\n",
    "    )\n",
    ")\n",
    "\n",
    "# Upsert por mongo_id\n",
    "if spark.catalog.tableExists(SILVER):\n",
    "    DeltaTable.forName(spark, SILVER).alias(\"t\") \\\n",
    "      .merge(silver_df.alias(\"s\"), \"t.mongo_id = s.mongo_id\") \\\n",
    "      .whenMatchedUpdateAll() \\\n",
    "      .whenNotMatchedInsertAll() \\\n",
    "      .execute()\n",
    "else:\n",
    "    silver_df.write.format(\"delta\").saveAsTable(SILVER)\n",
    "\n",
    "print(\"Silver actualizado →\", SILVER, \"| filas:\", spark.table(SILVER).count())"
   ]
  },
  {
   "cell_type": "markdown",
   "metadata": {
    "application/vnd.databricks.v1+cell": {
     "cellMetadata": {
      "byteLimit": 2048000,
      "rowLimit": 10000
     },
     "inputWidgets": {},
     "nuid": "f4383a46-0890-4338-9ff8-14845c7c7a95",
     "showTitle": false,
     "tableResultSettingsMap": {},
     "title": ""
    }
   },
   "source": [
    "## 3. Verificaciones"
   ]
  },
  {
   "cell_type": "code",
   "execution_count": 0,
   "metadata": {
    "application/vnd.databricks.v1+cell": {
     "cellMetadata": {
      "byteLimit": 2048000,
      "implicitDf": true,
      "rowLimit": 10000
     },
     "inputWidgets": {},
     "nuid": "4a58717f-6c68-4683-9b20-2b3ea205fb6c",
     "showTitle": false,
     "tableResultSettingsMap": {},
     "title": ""
    }
   },
   "outputs": [
    {
     "output_type": "display_data",
     "data": {
      "text/html": [
       "<style scoped>\n",
       "  .table-result-container {\n",
       "    max-height: 300px;\n",
       "    overflow: auto;\n",
       "  }\n",
       "  table, th, td {\n",
       "    border: 1px solid black;\n",
       "    border-collapse: collapse;\n",
       "  }\n",
       "  th, td {\n",
       "    padding: 5px;\n",
       "  }\n",
       "  th {\n",
       "    text-align: left;\n",
       "  }\n",
       "</style><div class='table-result-container'><table class='table-result'><thead style='background-color: white'><tr><th>mongo_id</th><th>order_date</th><th>order_hour</th><th>total</th></tr></thead><tbody><tr><td>68c3ac5864d6cb878be4b37c</td><td>2025-09-12</td><td>5</td><td>2.04</td></tr><tr><td>68c3ac5764d6cb878be4b37b</td><td>2025-09-12</td><td>5</td><td>1469.46</td></tr><tr><td>68c3ac5664d6cb878be4b37a</td><td>2025-09-12</td><td>5</td><td>74.78</td></tr><tr><td>68c3ac5664d6cb878be4b379</td><td>2025-09-12</td><td>5</td><td>63.08</td></tr><tr><td>68c3ac5564d6cb878be4b378</td><td>2025-09-12</td><td>5</td><td>4.57</td></tr><tr><td>68c3ac5464d6cb878be4b377</td><td>2025-09-12</td><td>5</td><td>100.13</td></tr><tr><td>68c3ac5464d6cb878be4b376</td><td>2025-09-12</td><td>5</td><td>149.74</td></tr><tr><td>68c3ac5364d6cb878be4b375</td><td>2025-09-12</td><td>5</td><td>19.76</td></tr><tr><td>68c3ac5264d6cb878be4b374</td><td>2025-09-12</td><td>5</td><td>13.21</td></tr><tr><td>68c3ac5264d6cb878be4b373</td><td>2025-09-12</td><td>5</td><td>46.15</td></tr></tbody></table></div>"
      ]
     },
     "metadata": {
      "application/vnd.databricks.v1+output": {
       "addedWidgets": {},
       "aggData": [],
       "aggError": "",
       "aggOverflow": false,
       "aggSchema": [],
       "aggSeriesLimitReached": false,
       "aggType": "",
       "arguments": {},
       "columnCustomDisplayInfos": {},
       "data": [
        [
         "68c3ac5864d6cb878be4b37c",
         "2025-09-12",
         5,
         2.04
        ],
        [
         "68c3ac5764d6cb878be4b37b",
         "2025-09-12",
         5,
         1469.46
        ],
        [
         "68c3ac5664d6cb878be4b37a",
         "2025-09-12",
         5,
         74.78
        ],
        [
         "68c3ac5664d6cb878be4b379",
         "2025-09-12",
         5,
         63.08
        ],
        [
         "68c3ac5564d6cb878be4b378",
         "2025-09-12",
         5,
         4.57
        ],
        [
         "68c3ac5464d6cb878be4b377",
         "2025-09-12",
         5,
         100.13
        ],
        [
         "68c3ac5464d6cb878be4b376",
         "2025-09-12",
         5,
         149.74
        ],
        [
         "68c3ac5364d6cb878be4b375",
         "2025-09-12",
         5,
         19.76
        ],
        [
         "68c3ac5264d6cb878be4b374",
         "2025-09-12",
         5,
         13.21
        ],
        [
         "68c3ac5264d6cb878be4b373",
         "2025-09-12",
         5,
         46.15
        ]
       ],
       "datasetInfos": [
        {
         "name": "_sqldf",
         "schema": {
          "fields": [
           {
            "metadata": {},
            "name": "mongo_id",
            "nullable": true,
            "type": "string"
           },
           {
            "metadata": {},
            "name": "order_date",
            "nullable": true,
            "type": "date"
           },
           {
            "metadata": {},
            "name": "order_hour",
            "nullable": true,
            "type": "integer"
           },
           {
            "metadata": {},
            "name": "total",
            "nullable": true,
            "type": "double"
           }
          ],
          "type": "struct"
         },
         "tableIdentifier": null,
         "typeStr": "pyspark.sql.connect.dataframe.DataFrame"
        }
       ],
       "dbfsResultPath": null,
       "isJsonSchema": true,
       "metadata": {
        "createTempViewForImplicitDf": true,
        "dataframeName": "_sqldf",
        "executionCount": 5
       },
       "overflow": false,
       "plotOptions": {
        "customPlotOptions": {},
        "displayType": "table",
        "pivotAggregation": null,
        "pivotColumns": null,
        "xColumns": null,
        "yColumns": null
       },
       "removedWidgets": [],
       "schema": [
        {
         "metadata": "{}",
         "name": "mongo_id",
         "type": "\"string\""
        },
        {
         "metadata": "{}",
         "name": "order_date",
         "type": "\"date\""
        },
        {
         "metadata": "{}",
         "name": "order_hour",
         "type": "\"integer\""
        },
        {
         "metadata": "{}",
         "name": "total",
         "type": "\"double\""
        }
       ],
       "type": "table"
      }
     },
     "output_type": "display_data"
    }
   ],
   "source": [
    "%sql\n",
    "SELECT COUNT(*) AS n FROM farma.silver.orders;\n",
    "\n",
    "SELECT mongo_id, order_date, order_hour, total\n",
    "FROM farma.silver.orders\n",
    "ORDER BY confirmed_at DESC\n",
    "LIMIT 10;"
   ]
  }
 ],
 "metadata": {
  "application/vnd.databricks.v1+notebook": {
   "computePreferences": null,
   "dashboards": [],
   "environmentMetadata": {
    "base_environment": "",
    "environment_version": "3"
   },
   "inputWidgetPreferences": null,
   "language": "python",
   "notebookMetadata": {
    "mostRecentlyExecutedCommandWithImplicitDF": {
     "commandId": 6539710604141351,
     "dataframes": [
      "_sqldf"
     ]
    },
    "pythonIndentUnit": 4
   },
   "notebookName": "02_farmahorra_silver",
   "widgets": {}
  },
  "language_info": {
   "name": "python"
  }
 },
 "nbformat": 4,
 "nbformat_minor": 0
}