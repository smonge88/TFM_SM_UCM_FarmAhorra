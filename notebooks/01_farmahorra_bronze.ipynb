{
 "cells": [
  {
   "cell_type": "markdown",
   "metadata": {
    "application/vnd.databricks.v1+cell": {
     "cellMetadata": {
      "byteLimit": 2048000,
      "rowLimit": 10000
     },
     "inputWidgets": {},
     "nuid": "bc48ad51-51e6-4526-a9f5-0601c478c18f",
     "showTitle": false,
     "tableResultSettingsMap": {},
     "title": ""
    }
   },
   "source": [
    "\n",
    "# Movimiento de órdenes de FarmAhorra de Raw a Bronze"
   ]
  },
  {
   "cell_type": "markdown",
   "metadata": {
    "application/vnd.databricks.v1+cell": {
     "cellMetadata": {
      "byteLimit": 2048000,
      "rowLimit": 10000
     },
     "inputWidgets": {},
     "nuid": "2cd64e23-2ae5-4deb-b2b8-352b5179371a",
     "showTitle": false,
     "tableResultSettingsMap": {},
     "title": ""
    }
   },
   "source": [
    "## 0. Prerequisitos"
   ]
  },
  {
   "cell_type": "code",
   "execution_count": 0,
   "metadata": {
    "application/vnd.databricks.v1+cell": {
     "cellMetadata": {
      "byteLimit": 2048000,
      "rowLimit": 10000
     },
     "inputWidgets": {},
     "nuid": "c3033873-a637-4958-aa4e-8b7a25e76adf",
     "showTitle": false,
     "tableResultSettingsMap": {},
     "title": ""
    }
   },
   "outputs": [],
   "source": [
    "from pyspark.sql import functions as F, types as T\n",
    "from delta.tables import DeltaTable\n",
    "from pyspark.sql.window import Window"
   ]
  },
  {
   "cell_type": "markdown",
   "metadata": {
    "application/vnd.databricks.v1+cell": {
     "cellMetadata": {
      "byteLimit": 2048000,
      "rowLimit": 10000
     },
     "inputWidgets": {},
     "nuid": "e924a096-f1f0-40c1-bda4-dbd7c7c14db6",
     "showTitle": false,
     "tableResultSettingsMap": {},
     "title": ""
    }
   },
   "source": [
    "## 1. Contexto Unity-Catalog"
   ]
  },
  {
   "cell_type": "code",
   "execution_count": 0,
   "metadata": {
    "application/vnd.databricks.v1+cell": {
     "cellMetadata": {
      "byteLimit": 2048000,
      "implicitDf": true,
      "rowLimit": 10000
     },
     "inputWidgets": {},
     "nuid": "1e671a0d-cb95-4f17-b768-32427e140083",
     "showTitle": false,
     "tableResultSettingsMap": {},
     "title": ""
    }
   },
   "outputs": [],
   "source": [
    "%sql\n",
    "USE CATALOG farma;\n",
    "CREATE SCHEMA IF NOT EXISTS bronze;\n",
    "USE SCHEMA bronze;"
   ]
  },
  {
   "cell_type": "markdown",
   "metadata": {
    "application/vnd.databricks.v1+cell": {
     "cellMetadata": {
      "byteLimit": 2048000,
      "rowLimit": 10000
     },
     "inputWidgets": {},
     "nuid": "4ee58ecf-79b0-4100-b0b9-a19a8d7d7f57",
     "showTitle": false,
     "tableResultSettingsMap": {},
     "title": ""
    }
   },
   "source": [
    "## 2. Definición del contrato operativo"
   ]
  },
  {
   "cell_type": "code",
   "execution_count": 0,
   "metadata": {
    "application/vnd.databricks.v1+cell": {
     "cellMetadata": {
      "byteLimit": 2048000,
      "rowLimit": 10000
     },
     "inputWidgets": {},
     "nuid": "915ed049-4161-4832-adc6-a7bf1fee5265",
     "showTitle": false,
     "tableResultSettingsMap": {},
     "title": ""
    }
   },
   "outputs": [],
   "source": [
    "# Config para Bronze\n",
    "EXTERNAL_BASE = \"abfss://datalake@adlsfarmahorra.dfs.core.windows.net/farma\"\n",
    "\n",
    "cfg = {\n",
    "    \"raw_path\": f\"{EXTERNAL_BASE}/raw/orders_farmahorra\",  # de aquí leemos JSON\n",
    "    \"bronze_orders_tbl\": \"farma.bronze.orders\",\n",
    "    \"bronze_items_tbl\":  \"farma.bronze.order_items\",\n",
    "}"
   ]
  },
  {
   "cell_type": "markdown",
   "metadata": {
    "application/vnd.databricks.v1+cell": {
     "cellMetadata": {
      "byteLimit": 2048000,
      "rowLimit": 10000
     },
     "inputWidgets": {},
     "nuid": "61f3566f-72cc-4856-aa01-62e304ada1ee",
     "showTitle": false,
     "tableResultSettingsMap": {},
     "title": ""
    }
   },
   "source": [
    "## 3. Creación y actualización de tabla farma.bronze.orders"
   ]
  },
  {
   "cell_type": "code",
   "execution_count": 0,
   "metadata": {
    "application/vnd.databricks.v1+cell": {
     "cellMetadata": {
      "byteLimit": 2048000,
      "rowLimit": 10000
     },
     "inputWidgets": {},
     "nuid": "03643488-346d-4384-8471-8dca0d6a6b2e",
     "showTitle": false,
     "tableResultSettingsMap": {},
     "title": ""
    }
   },
   "outputs": [
    {
     "output_type": "stream",
     "name": "stdout",
     "output_type": "stream",
     "text": [
      "Bronze actualizado:  farma.bronze.orders  y filas: 400\n"
     ]
    }
   ],
   "source": [
    "# 1) Lee todo RAW (JSON)\n",
    "raw_glob = f\"{cfg['raw_path']}/*/*\"   # .../orders_farmahorra/ingest_date=YYYY-MM-DD/part-*.json\n",
    "raw_df = spark.read.json(raw_glob)\n",
    "\n",
    "# 2) Normaliza campos de órdenes\n",
    "# Esquema esperado para items (array de struct)\n",
    "items_cast_expr = \"\"\"\n",
    "transform(items, i ->\n",
    "  named_struct(\n",
    "    'package_ndc_11', cast(i.package_ndc_11 as string),\n",
    "    'quantity',       cast(i.quantity       as int),\n",
    "    'unit_price',     cast(i.unit_price     as double),\n",
    "    'line_total',     cast(i.line_total     as double),\n",
    "    'descripcion',    cast(i.descripcion    as string),\n",
    "    'generic_name',   cast(i.generic_name   as string)\n",
    "  )\n",
    ")\n",
    "\"\"\"\n",
    "\n",
    "bronze_df = (\n",
    "    raw_df\n",
    "      .withColumnRenamed(\"_id\", \"mongo_id\")\n",
    "      .withColumn(\"discount_pct\", F.col(\"discount_pct\").cast(\"int\"))\n",
    "      .withColumn(\"subtotal\",     F.col(\"subtotal\").cast(\"double\"))\n",
    "      .withColumn(\"discount\",     F.col(\"discount\").cast(\"double\"))\n",
    "      .withColumn(\"total\",        F.col(\"total\").cast(\"double\"))\n",
    "      .withColumn(\"confirmed_at\", F.to_timestamp(\"confirmed_at\"))\n",
    "      .withColumn(\"items\", F.expr(items_cast_expr))\n",
    "      # Tomamos el primer (y único) item; si el array está vacío → null\n",
    "      .withColumn(\"first_item\", F.element_at(F.col(\"items\"), 1))\n",
    "      # Aplanamos campos del item\n",
    "      .withColumn(\"package_ndc_11\", F.col(\"first_item.package_ndc_11\"))\n",
    "      .withColumn(\"quantity\",       F.col(\"first_item.quantity\"))\n",
    "      .withColumn(\"unit_price\",     F.col(\"first_item.unit_price\"))\n",
    "      .withColumn(\"line_total\",     F.col(\"first_item.line_total\"))\n",
    "      .withColumn(\"descripcion\",    F.col(\"first_item.descripcion\"))\n",
    "      .withColumn(\"generic_name\",   F.col(\"first_item.generic_name\"))\n",
    "      .withColumn(\"items_count\",    F.size(\"items\"))           # para validar que sea 1\n",
    "      .withColumn(\"confirmed_date\", F.to_date(\"confirmed_at\"))\n",
    "      .withColumn(\"_load_ts\",       F.current_timestamp())\n",
    "      .drop(\"first_item\", \"items\")  # ya no necesitamos el array\n",
    "      .select(\n",
    "          \"mongo_id\",\n",
    "          \"external_order_id\",\"farmacia_order_id\",\"id_farmacia\",\"client_id\",\n",
    "          \"discount_pct\",\"subtotal\",\"discount\",\"total\",\n",
    "          \"confirmed_at\",\"confirmed_date\",\"source\",\n",
    "          \"package_ndc_11\",\"quantity\",\"unit_price\",\"line_total\",\"descripcion\",\"generic_name\",\n",
    "          \"items_count\", \"_load_ts\"\n",
    "      )\n",
    ")\n",
    "\n",
    "# 3) Dedupe por mongo_id para escoger la versión de orden más reciente\n",
    "w = Window.partitionBy(\"mongo_id\").orderBy(\n",
    "        F.col(\"confirmed_at\").desc_nulls_last(),\n",
    "        F.col(\"_load_ts\").desc()  # desempate\n",
    ")\n",
    "bronze_src = (bronze_df\n",
    "              .withColumn(\"_rn\", F.row_number().over(w))\n",
    "              .where(\"_rn = 1\")\n",
    "              .drop(\"_rn\"))\n",
    "\n",
    "# 4) Crea y actualiza la tabla Delta en Bronze ----\n",
    "target_tbl = \"farma.bronze.orders\"\n",
    "\n",
    "if spark.catalog.tableExists(target_tbl):\n",
    "    # UPSERT por clave\n",
    "    tgt = DeltaTable.forName(spark, target_tbl)\n",
    "    (tgt.alias(\"t\")\n",
    "        .merge(bronze_src.alias(\"s\"), \"t.mongo_id = s.mongo_id\")\n",
    "        .whenMatchedUpdateAll()\n",
    "        .whenNotMatchedInsertAll()\n",
    "        .execute())\n",
    "else:\n",
    "    # Primera carga: crea la tabla gestionada por UC en farma.bronze\n",
    "    bronze_src.write.format(\"delta\").saveAsTable(target_tbl)\n",
    "\n",
    "print(\"Bronze actualizado: \", target_tbl, \" y filas:\", spark.table(target_tbl).count())\n"
   ]
  },
  {
   "cell_type": "markdown",
   "metadata": {
    "application/vnd.databricks.v1+cell": {
     "cellMetadata": {
      "byteLimit": 2048000,
      "rowLimit": 10000
     },
     "inputWidgets": {},
     "nuid": "38c0c550-1944-41cd-b1fe-8f156f224d9a",
     "showTitle": false,
     "tableResultSettingsMap": {},
     "title": ""
    }
   },
   "source": [
    "## 4. Verificaciones"
   ]
  },
  {
   "cell_type": "code",
   "execution_count": 0,
   "metadata": {
    "application/vnd.databricks.v1+cell": {
     "cellMetadata": {
      "byteLimit": 2048000,
      "implicitDf": true,
      "rowLimit": 10000
     },
     "inputWidgets": {},
     "nuid": "b4c48630-36e8-4072-8e7c-c6d0bc3afb8c",
     "showTitle": false,
     "tableResultSettingsMap": {},
     "title": ""
    }
   },
   "outputs": [
    {
     "output_type": "display_data",
     "data": {
      "text/html": [
       "<style scoped>\n",
       "  .table-result-container {\n",
       "    max-height: 300px;\n",
       "    overflow: auto;\n",
       "  }\n",
       "  table, th, td {\n",
       "    border: 1px solid black;\n",
       "    border-collapse: collapse;\n",
       "  }\n",
       "  th, td {\n",
       "    padding: 5px;\n",
       "  }\n",
       "  th {\n",
       "    text-align: left;\n",
       "  }\n",
       "</style><div class='table-result-container'><table class='table-result'><thead style='background-color: white'><tr><th>external_order_id</th><th>package_ndc_11</th><th>quantity</th><th>unit_price</th><th>line_total</th><th>total</th></tr></thead><tbody><tr><td>FAC-002-00400</td><td>68462018449</td><td>1</td><td>2.15</td><td>2.15</td><td>2.04</td></tr><tr><td>FAC-001-00399</td><td>00093206450</td><td>2</td><td>773.4</td><td>1546.8</td><td>1469.46</td></tr><tr><td>FAC-002-00398</td><td>52709170103</td><td>2</td><td>39.36</td><td>78.72</td><td>74.78</td></tr><tr><td>FAC-003-00397</td><td>70010002703</td><td>1</td><td>66.4</td><td>66.4</td><td>63.08</td></tr><tr><td>FAC-003-00396</td><td>68084080521</td><td>1</td><td>4.81</td><td>4.81</td><td>4.57</td></tr><tr><td>FAC-002-00395</td><td>51672423501</td><td>2</td><td>52.7</td><td>105.4</td><td>100.13</td></tr><tr><td>FAC-002-00394</td><td>51672405104</td><td>2</td><td>78.81</td><td>157.62</td><td>149.74</td></tr><tr><td>FAC-003-00393</td><td>00378027493</td><td>2</td><td>10.4</td><td>20.8</td><td>19.76</td></tr><tr><td>FAC-003-00392</td><td>57237005820</td><td>2</td><td>6.95</td><td>13.9</td><td>13.21</td></tr><tr><td>FAC-002-00391</td><td>64380026101</td><td>2</td><td>24.29</td><td>48.58</td><td>46.15</td></tr><tr><td>FAC-003-00390</td><td>27808015601</td><td>1</td><td>4.44</td><td>4.44</td><td>4.22</td></tr><tr><td>FAC-003-00389</td><td>46122043240</td><td>1</td><td>4.87</td><td>4.87</td><td>4.63</td></tr><tr><td>FAC-001-00388</td><td>65862015630</td><td>2</td><td>3.79</td><td>7.58</td><td>7.2</td></tr><tr><td>FAC-002-00387</td><td>68382078201</td><td>1</td><td>18.09</td><td>18.09</td><td>17.19</td></tr><tr><td>FAC-003-00386</td><td>24385047152</td><td>2</td><td>6.79</td><td>13.58</td><td>12.9</td></tr><tr><td>FAC-001-00385</td><td>51801001230</td><td>1</td><td>18.2</td><td>18.2</td><td>17.29</td></tr><tr><td>FAC-002-00384</td><td>55253080130</td><td>1</td><td>10.21</td><td>10.21</td><td>9.7</td></tr><tr><td>FAC-001-00383</td><td>42385094590</td><td>2</td><td>31.86</td><td>63.72</td><td>60.53</td></tr><tr><td>FAC-002-00382</td><td>70700016117</td><td>1</td><td>2.43</td><td>2.43</td><td>2.31</td></tr><tr><td>FAC-001-00381</td><td>16714007106</td><td>1</td><td>44.41</td><td>44.41</td><td>42.19</td></tr></tbody></table></div>"
      ]
     },
     "metadata": {
      "application/vnd.databricks.v1+output": {
       "addedWidgets": {},
       "aggData": [],
       "aggError": "",
       "aggOverflow": false,
       "aggSchema": [],
       "aggSeriesLimitReached": false,
       "aggType": "",
       "arguments": {},
       "columnCustomDisplayInfos": {},
       "data": [
        [
         "FAC-002-00400",
         "68462018449",
         1,
         2.15,
         2.15,
         2.04
        ],
        [
         "FAC-001-00399",
         "00093206450",
         2,
         773.4,
         1546.8,
         1469.46
        ],
        [
         "FAC-002-00398",
         "52709170103",
         2,
         39.36,
         78.72,
         74.78
        ],
        [
         "FAC-003-00397",
         "70010002703",
         1,
         66.4,
         66.4,
         63.08
        ],
        [
         "FAC-003-00396",
         "68084080521",
         1,
         4.81,
         4.81,
         4.57
        ],
        [
         "FAC-002-00395",
         "51672423501",
         2,
         52.7,
         105.4,
         100.13
        ],
        [
         "FAC-002-00394",
         "51672405104",
         2,
         78.81,
         157.62,
         149.74
        ],
        [
         "FAC-003-00393",
         "00378027493",
         2,
         10.4,
         20.8,
         19.76
        ],
        [
         "FAC-003-00392",
         "57237005820",
         2,
         6.95,
         13.9,
         13.21
        ],
        [
         "FAC-002-00391",
         "64380026101",
         2,
         24.29,
         48.58,
         46.15
        ],
        [
         "FAC-003-00390",
         "27808015601",
         1,
         4.44,
         4.44,
         4.22
        ],
        [
         "FAC-003-00389",
         "46122043240",
         1,
         4.87,
         4.87,
         4.63
        ],
        [
         "FAC-001-00388",
         "65862015630",
         2,
         3.79,
         7.58,
         7.2
        ],
        [
         "FAC-002-00387",
         "68382078201",
         1,
         18.09,
         18.09,
         17.19
        ],
        [
         "FAC-003-00386",
         "24385047152",
         2,
         6.79,
         13.58,
         12.9
        ],
        [
         "FAC-001-00385",
         "51801001230",
         1,
         18.2,
         18.2,
         17.29
        ],
        [
         "FAC-002-00384",
         "55253080130",
         1,
         10.21,
         10.21,
         9.7
        ],
        [
         "FAC-001-00383",
         "42385094590",
         2,
         31.86,
         63.72,
         60.53
        ],
        [
         "FAC-002-00382",
         "70700016117",
         1,
         2.43,
         2.43,
         2.31
        ],
        [
         "FAC-001-00381",
         "16714007106",
         1,
         44.41,
         44.41,
         42.19
        ]
       ],
       "datasetInfos": [
        {
         "name": "_sqldf",
         "schema": {
          "fields": [
           {
            "metadata": {},
            "name": "external_order_id",
            "nullable": true,
            "type": "string"
           },
           {
            "metadata": {},
            "name": "package_ndc_11",
            "nullable": true,
            "type": "string"
           },
           {
            "metadata": {},
            "name": "quantity",
            "nullable": true,
            "type": "integer"
           },
           {
            "metadata": {},
            "name": "unit_price",
            "nullable": true,
            "type": "double"
           },
           {
            "metadata": {},
            "name": "line_total",
            "nullable": true,
            "type": "double"
           },
           {
            "metadata": {},
            "name": "total",
            "nullable": true,
            "type": "double"
           }
          ],
          "type": "struct"
         },
         "tableIdentifier": null,
         "typeStr": "pyspark.sql.connect.dataframe.DataFrame"
        }
       ],
       "dbfsResultPath": null,
       "isJsonSchema": true,
       "metadata": {
        "createTempViewForImplicitDf": true,
        "dataframeName": "_sqldf",
        "executionCount": 6
       },
       "overflow": false,
       "plotOptions": {
        "customPlotOptions": {},
        "displayType": "table",
        "pivotAggregation": null,
        "pivotColumns": null,
        "xColumns": null,
        "yColumns": null
       },
       "removedWidgets": [],
       "schema": [
        {
         "metadata": "{}",
         "name": "external_order_id",
         "type": "\"string\""
        },
        {
         "metadata": "{}",
         "name": "package_ndc_11",
         "type": "\"string\""
        },
        {
         "metadata": "{}",
         "name": "quantity",
         "type": "\"integer\""
        },
        {
         "metadata": "{}",
         "name": "unit_price",
         "type": "\"double\""
        },
        {
         "metadata": "{}",
         "name": "line_total",
         "type": "\"double\""
        },
        {
         "metadata": "{}",
         "name": "total",
         "type": "\"double\""
        }
       ],
       "type": "table"
      }
     },
     "output_type": "display_data"
    }
   ],
   "source": [
    "%sql\n",
    "-- Deben existir y ser consultables\n",
    "SELECT COUNT(*) FROM farma.bronze.orders;\n",
    "\n",
    "-- Muestra 20 registros\n",
    "SELECT external_order_id, package_ndc_11, quantity, unit_price, line_total, total\n",
    "FROM farma.bronze.orders\n",
    "ORDER BY confirmed_at DESC\n",
    "LIMIT 20;"
   ]
  }
 ],
 "metadata": {
  "application/vnd.databricks.v1+notebook": {
   "computePreferences": null,
   "dashboards": [],
   "environmentMetadata": {
    "base_environment": "",
    "environment_version": "3"
   },
   "inputWidgetPreferences": null,
   "language": "python",
   "notebookMetadata": {
    "mostRecentlyExecutedCommandWithImplicitDF": {
     "commandId": 6649811717841253,
     "dataframes": [
      "_sqldf"
     ]
    },
    "pythonIndentUnit": 4
   },
   "notebookName": "01_farmahorra_bronze",
   "widgets": {}
  },
  "language_info": {
   "name": "python"
  }
 },
 "nbformat": 4,
 "nbformat_minor": 0
}