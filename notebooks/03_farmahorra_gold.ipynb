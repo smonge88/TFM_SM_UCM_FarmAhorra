{
 "cells": [
  {
   "cell_type": "markdown",
   "metadata": {
    "application/vnd.databricks.v1+cell": {
     "cellMetadata": {
      "byteLimit": 2048000,
      "rowLimit": 10000
     },
     "inputWidgets": {},
     "nuid": "a1577093-1656-4d13-94c9-53b67ba07689",
     "showTitle": false,
     "tableResultSettingsMap": {},
     "title": ""
    }
   },
   "source": [
    "# Movimiento de órdenes de FarmAhorra de Silver a Gold"
   ]
  },
  {
   "cell_type": "markdown",
   "metadata": {
    "application/vnd.databricks.v1+cell": {
     "cellMetadata": {
      "byteLimit": 2048000,
      "rowLimit": 10000
     },
     "inputWidgets": {},
     "nuid": "aa349521-1a58-4a5a-9c24-a5e2ee20da74",
     "showTitle": false,
     "tableResultSettingsMap": {},
     "title": ""
    }
   },
   "source": [
    "## 1. Contexto Unity-Catalog"
   ]
  },
  {
   "cell_type": "code",
   "execution_count": 0,
   "metadata": {
    "application/vnd.databricks.v1+cell": {
     "cellMetadata": {
      "byteLimit": 2048000,
      "implicitDf": true,
      "rowLimit": 10000
     },
     "inputWidgets": {},
     "nuid": "c90f39f0-9f0e-4a39-bbe8-b70598420821",
     "showTitle": false,
     "tableResultSettingsMap": {},
     "title": ""
    }
   },
   "outputs": [],
   "source": [
    "%sql\n",
    "USE CATALOG farma;\n",
    "CREATE SCHEMA IF NOT EXISTS gold;\n",
    "USE SCHEMA gold;"
   ]
  },
  {
   "cell_type": "markdown",
   "metadata": {
    "application/vnd.databricks.v1+cell": {
     "cellMetadata": {
      "byteLimit": 2048000,
      "rowLimit": 10000
     },
     "inputWidgets": {},
     "nuid": "c1684b11-2a17-4985-babe-19b3e0d71126",
     "showTitle": false,
     "tableResultSettingsMap": {},
     "title": ""
    }
   },
   "source": [
    "## 2. Creación de Tabla base con KPI diarios (calculados por día y farmacia)"
   ]
  },
  {
   "cell_type": "code",
   "execution_count": 0,
   "metadata": {
    "application/vnd.databricks.v1+cell": {
     "cellMetadata": {
      "byteLimit": 2048000,
      "implicitDf": true,
      "rowLimit": 10000
     },
     "inputWidgets": {},
     "nuid": "cdea04ca-f441-45dd-98da-ddb929f83ba5",
     "showTitle": false,
     "tableResultSettingsMap": {},
     "title": ""
    }
   },
   "outputs": [
    {
     "output_type": "display_data",
     "data": {
      "text/html": [
       "<style scoped>\n",
       "  .table-result-container {\n",
       "    max-height: 300px;\n",
       "    overflow: auto;\n",
       "  }\n",
       "  table, th, td {\n",
       "    border: 1px solid black;\n",
       "    border-collapse: collapse;\n",
       "  }\n",
       "  th, td {\n",
       "    padding: 5px;\n",
       "  }\n",
       "  th {\n",
       "    text-align: left;\n",
       "  }\n",
       "</style><div class='table-result-container'><table class='table-result'><thead style='background-color: white'><tr><th>num_affected_rows</th><th>num_inserted_rows</th></tr></thead><tbody></tbody></table></div>"
      ]
     },
     "metadata": {
      "application/vnd.databricks.v1+output": {
       "addedWidgets": {},
       "aggData": [],
       "aggError": "",
       "aggOverflow": false,
       "aggSchema": [],
       "aggSeriesLimitReached": false,
       "aggType": "",
       "arguments": {},
       "columnCustomDisplayInfos": {},
       "data": [],
       "datasetInfos": [
        {
         "name": "_sqldf",
         "schema": {
          "fields": [
           {
            "metadata": {},
            "name": "num_affected_rows",
            "nullable": true,
            "type": "long"
           },
           {
            "metadata": {},
            "name": "num_inserted_rows",
            "nullable": true,
            "type": "long"
           }
          ],
          "type": "struct"
         },
         "tableIdentifier": null,
         "typeStr": "pyspark.sql.connect.dataframe.DataFrame"
        }
       ],
       "dbfsResultPath": null,
       "isJsonSchema": true,
       "metadata": {
        "createTempViewForImplicitDf": true,
        "dataframeName": "_sqldf",
        "executionCount": 3
       },
       "overflow": false,
       "plotOptions": {
        "customPlotOptions": {},
        "displayType": "table",
        "pivotAggregation": null,
        "pivotColumns": null,
        "xColumns": null,
        "yColumns": null
       },
       "removedWidgets": [],
       "schema": [
        {
         "metadata": "{}",
         "name": "num_affected_rows",
         "type": "\"long\""
        },
        {
         "metadata": "{}",
         "name": "num_inserted_rows",
         "type": "\"long\""
        }
       ],
       "type": "table"
      }
     },
     "output_type": "display_data"
    }
   ],
   "source": [
    "%sql\n",
    "CREATE OR REPLACE TABLE farma.gold.daily_kpis_by_pharmacy_base AS\n",
    "SELECT\n",
    "  order_date,\n",
    "  id_farmacia,\n",
    "  COUNT(*) AS orders_cnt,\n",
    "  COUNT(DISTINCT client_id) AS customers_cnt,\n",
    "  SUM(COALESCE(subtotal, 0.0)) AS gross_sales, -- ventas sin descuento\n",
    "  SUM(COALESCE(discount, 0.0)) AS discount_amt,\n",
    "  SUM(COALESCE(total, 0.0)) AS net_sales, -- ventas con descuento aplicado\n",
    "  CASE WHEN SUM(COALESCE(subtotal, 0.0)) > 0\n",
    "       THEN SUM(COALESCE(discount, 0.0)) / SUM(COALESCE(subtotal, 0.0))\n",
    "       ELSE 0.0 END AS discount_rate, -- tasa de descuento\n",
    "  CASE WHEN COUNT(*) > 0\n",
    "       THEN SUM(COALESCE(total, 0.0)) / COUNT(*)\n",
    "       ELSE 0.0 END AS avg_order_value -- costo promedio de orden\n",
    "FROM farma.silver.orders\n",
    "GROUP BY order_date, id_farmacia;"
   ]
  },
  {
   "cell_type": "markdown",
   "metadata": {
    "application/vnd.databricks.v1+cell": {
     "cellMetadata": {
      "byteLimit": 2048000,
      "rowLimit": 10000
     },
     "inputWidgets": {},
     "nuid": "531e9fe5-631b-46cb-80f5-ed27ca82aa62",
     "showTitle": false,
     "tableResultSettingsMap": {},
     "title": ""
    }
   },
   "source": [
    "## 3. Creación de vista con KPIs acumulados diarios por farmacia"
   ]
  },
  {
   "cell_type": "code",
   "execution_count": 0,
   "metadata": {
    "application/vnd.databricks.v1+cell": {
     "cellMetadata": {
      "byteLimit": 2048000,
      "implicitDf": true,
      "rowLimit": 10000
     },
     "inputWidgets": {},
     "nuid": "e5c1ea49-631e-41d6-acf6-e3d1f1d41d76",
     "showTitle": false,
     "tableResultSettingsMap": {},
     "title": ""
    }
   },
   "outputs": [],
   "source": [
    "%sql\n",
    "CREATE OR REPLACE VIEW farma.gold.daily_kpis_by_pharmacy_cum AS\n",
    "SELECT\n",
    "  order_date,\n",
    "  id_farmacia,\n",
    "  orders_cnt,\n",
    "  customers_cnt,\n",
    "  gross_sales,\n",
    "  discount_amt,\n",
    "  net_sales,\n",
    "  discount_rate,\n",
    "  avg_order_value,\n",
    "  SUM(orders_cnt) OVER (PARTITION BY id_farmacia ORDER BY order_date) AS cum_orders_cnt,\n",
    "  SUM(net_sales) OVER (PARTITION BY id_farmacia ORDER BY order_date) AS cum_net_sales,\n",
    "  SUM(discount_amt) OVER (PARTITION BY id_farmacia ORDER BY order_date) AS cum_discount_amt\n",
    "FROM farma.gold.daily_kpis_by_pharmacy_base;\n"
   ]
  },
  {
   "cell_type": "markdown",
   "metadata": {
    "application/vnd.databricks.v1+cell": {
     "cellMetadata": {
      "byteLimit": 2048000,
      "rowLimit": 10000
     },
     "inputWidgets": {},
     "nuid": "6d0a02e3-9e4e-42c4-8b4e-f76fec555e70",
     "showTitle": false,
     "tableResultSettingsMap": {},
     "title": ""
    }
   },
   "source": [
    "## 4. Creación de tabla para cálculo de métricas por cliente"
   ]
  },
  {
   "cell_type": "code",
   "execution_count": 0,
   "metadata": {
    "application/vnd.databricks.v1+cell": {
     "cellMetadata": {
      "byteLimit": 2048000,
      "implicitDf": true,
      "rowLimit": 10000
     },
     "inputWidgets": {},
     "nuid": "f3f71d59-d6d6-4797-917b-c76956e30ddb",
     "showTitle": false,
     "tableResultSettingsMap": {},
     "title": ""
    }
   },
   "outputs": [
    {
     "output_type": "display_data",
     "data": {
      "text/html": [
       "<style scoped>\n",
       "  .table-result-container {\n",
       "    max-height: 300px;\n",
       "    overflow: auto;\n",
       "  }\n",
       "  table, th, td {\n",
       "    border: 1px solid black;\n",
       "    border-collapse: collapse;\n",
       "  }\n",
       "  th, td {\n",
       "    padding: 5px;\n",
       "  }\n",
       "  th {\n",
       "    text-align: left;\n",
       "  }\n",
       "</style><div class='table-result-container'><table class='table-result'><thead style='background-color: white'><tr><th>num_affected_rows</th><th>num_inserted_rows</th></tr></thead><tbody></tbody></table></div>"
      ]
     },
     "metadata": {
      "application/vnd.databricks.v1+output": {
       "addedWidgets": {},
       "aggData": [],
       "aggError": "",
       "aggOverflow": false,
       "aggSchema": [],
       "aggSeriesLimitReached": false,
       "aggType": "",
       "arguments": {},
       "columnCustomDisplayInfos": {},
       "data": [],
       "datasetInfos": [
        {
         "name": "_sqldf",
         "schema": {
          "fields": [
           {
            "metadata": {},
            "name": "num_affected_rows",
            "nullable": true,
            "type": "long"
           },
           {
            "metadata": {},
            "name": "num_inserted_rows",
            "nullable": true,
            "type": "long"
           }
          ],
          "type": "struct"
         },
         "tableIdentifier": null,
         "typeStr": "pyspark.sql.connect.dataframe.DataFrame"
        }
       ],
       "dbfsResultPath": null,
       "isJsonSchema": true,
       "metadata": {
        "createTempViewForImplicitDf": true,
        "dataframeName": "_sqldf",
        "executionCount": 5
       },
       "overflow": false,
       "plotOptions": {
        "customPlotOptions": {},
        "displayType": "table",
        "pivotAggregation": null,
        "pivotColumns": null,
        "xColumns": null,
        "yColumns": null
       },
       "removedWidgets": [],
       "schema": [
        {
         "metadata": "{}",
         "name": "num_affected_rows",
         "type": "\"long\""
        },
        {
         "metadata": "{}",
         "name": "num_inserted_rows",
         "type": "\"long\""
        }
       ],
       "type": "table"
      }
     },
     "output_type": "display_data"
    }
   ],
   "source": [
    "%sql\n",
    "CREATE OR REPLACE TABLE farma.gold.client_lifetime AS\n",
    "SELECT\n",
    "  client_id,\n",
    "  MIN(order_date) AS first_order_date,\n",
    "  MAX(order_date) AS last_order_date,\n",
    "  COUNT(*) AS orders_cnt,\n",
    "  SUM(COALESCE(total, 0.0))  AS net_sales,\n",
    "  CASE WHEN COUNT(*) > 0\n",
    "       THEN SUM(COALESCE(total, 0.0)) / COUNT(*)\n",
    "       ELSE 0.0 END  AS avg_order_value\n",
    "FROM farma.silver.orders\n",
    "GROUP BY client_id;\n"
   ]
  },
  {
   "cell_type": "markdown",
   "metadata": {
    "application/vnd.databricks.v1+cell": {
     "cellMetadata": {},
     "inputWidgets": {},
     "nuid": "2bf10b23-0ca5-4aa6-9816-10feba933ca7",
     "showTitle": false,
     "tableResultSettingsMap": {},
     "title": ""
    }
   },
   "source": [
    "## 5. Creación de vista para enlistar ventas y ordenes por clientes"
   ]
  },
  {
   "cell_type": "code",
   "execution_count": 0,
   "metadata": {
    "application/vnd.databricks.v1+cell": {
     "cellMetadata": {
      "byteLimit": 2048000,
      "implicitDf": true,
      "rowLimit": 10000
     },
     "inputWidgets": {},
     "nuid": "6f917fce-1de5-4104-9a46-1a2588937bbf",
     "showTitle": false,
     "tableResultSettingsMap": {},
     "title": ""
    }
   },
   "outputs": [],
   "source": [
    "%sql\n",
    "CREATE OR REPLACE VIEW farma.gold.top_clients_by_orders AS\n",
    "SELECT\n",
    "  client_id,\n",
    "  first_order_date,\n",
    "  last_order_date,\n",
    "  orders_cnt,\n",
    "  net_sales,\n",
    "  avg_order_value,\n",
    "  DENSE_RANK() OVER (ORDER BY orders_cnt DESC, net_sales DESC, client_id) AS rnk_by_orders\n",
    "FROM farma.gold.client_lifetime;"
   ]
  },
  {
   "cell_type": "markdown",
   "metadata": {
    "application/vnd.databricks.v1+cell": {
     "cellMetadata": {
      "byteLimit": 2048000,
      "rowLimit": 10000
     },
     "inputWidgets": {},
     "nuid": "2731d6b3-1f44-4c5d-9bd6-e08aa6921b62",
     "showTitle": false,
     "tableResultSettingsMap": {},
     "title": ""
    }
   },
   "source": [
    "## 6. Creación de tabla con productos más vendidos por farmacia"
   ]
  },
  {
   "cell_type": "code",
   "execution_count": 0,
   "metadata": {
    "application/vnd.databricks.v1+cell": {
     "cellMetadata": {
      "byteLimit": 2048000,
      "implicitDf": true,
      "rowLimit": 10000
     },
     "inputWidgets": {},
     "nuid": "59d2eecd-e7e2-4da7-ac73-dd450691b0b9",
     "showTitle": false,
     "tableResultSettingsMap": {},
     "title": ""
    }
   },
   "outputs": [
    {
     "output_type": "display_data",
     "data": {
      "text/html": [
       "<style scoped>\n",
       "  .table-result-container {\n",
       "    max-height: 300px;\n",
       "    overflow: auto;\n",
       "  }\n",
       "  table, th, td {\n",
       "    border: 1px solid black;\n",
       "    border-collapse: collapse;\n",
       "  }\n",
       "  th, td {\n",
       "    padding: 5px;\n",
       "  }\n",
       "  th {\n",
       "    text-align: left;\n",
       "  }\n",
       "</style><div class='table-result-container'><table class='table-result'><thead style='background-color: white'><tr><th>num_affected_rows</th><th>num_inserted_rows</th></tr></thead><tbody></tbody></table></div>"
      ]
     },
     "metadata": {
      "application/vnd.databricks.v1+output": {
       "addedWidgets": {},
       "aggData": [],
       "aggError": "",
       "aggOverflow": false,
       "aggSchema": [],
       "aggSeriesLimitReached": false,
       "aggType": "",
       "arguments": {},
       "columnCustomDisplayInfos": {},
       "data": [],
       "datasetInfos": [
        {
         "name": "_sqldf",
         "schema": {
          "fields": [
           {
            "metadata": {},
            "name": "num_affected_rows",
            "nullable": true,
            "type": "long"
           },
           {
            "metadata": {},
            "name": "num_inserted_rows",
            "nullable": true,
            "type": "long"
           }
          ],
          "type": "struct"
         },
         "tableIdentifier": null,
         "typeStr": "pyspark.sql.connect.dataframe.DataFrame"
        }
       ],
       "dbfsResultPath": null,
       "isJsonSchema": true,
       "metadata": {
        "createTempViewForImplicitDf": true,
        "dataframeName": "_sqldf",
        "executionCount": 2
       },
       "overflow": false,
       "plotOptions": {
        "customPlotOptions": {},
        "displayType": "table",
        "pivotAggregation": null,
        "pivotColumns": null,
        "xColumns": null,
        "yColumns": null
       },
       "removedWidgets": [],
       "schema": [
        {
         "metadata": "{}",
         "name": "num_affected_rows",
         "type": "\"long\""
        },
        {
         "metadata": "{}",
         "name": "num_inserted_rows",
         "type": "\"long\""
        }
       ],
       "type": "table"
      }
     },
     "output_type": "display_data"
    }
   ],
   "source": [
    "%sql\n",
    "-- Tabla base: ventas y unidades por producto x farmacia\n",
    "CREATE OR REPLACE TABLE farma.gold.product_lifetime_by_pharmacy AS\n",
    "SELECT\n",
    "  id_farmacia,\n",
    "  package_ndc_11,\n",
    "  descripcion AS product_name,\n",
    "  COUNT(*)                             AS orders_cnt,\n",
    "  SUM(COALESCE(quantity, 0))           AS units_sold,\n",
    "  SUM(COALESCE(total, 0.0))            AS sales_usd\n",
    "FROM farma.silver.orders\n",
    "WHERE package_ndc_11 IS NOT NULL\n",
    "GROUP BY id_farmacia, package_ndc_11, descripcion;"
   ]
  },
  {
   "cell_type": "markdown",
   "metadata": {
    "application/vnd.databricks.v1+cell": {
     "cellMetadata": {},
     "inputWidgets": {},
     "nuid": "75df0a42-fa6e-4509-9b6a-c162f2449679",
     "showTitle": false,
     "tableResultSettingsMap": {},
     "title": ""
    }
   },
   "source": [
    "## 7. Creación de vista con ránking de productos por farmacia"
   ]
  },
  {
   "cell_type": "code",
   "execution_count": 0,
   "metadata": {
    "application/vnd.databricks.v1+cell": {
     "cellMetadata": {
      "byteLimit": 2048000,
      "implicitDf": true,
      "rowLimit": 10000
     },
     "inputWidgets": {},
     "nuid": "665a6fa1-90b4-48d4-ab06-4e70eb12c9b1",
     "showTitle": false,
     "tableResultSettingsMap": {},
     "title": ""
    }
   },
   "outputs": [],
   "source": [
    "%sql\n",
    "-- Vista con ranking por farmacia\n",
    "CREATE OR REPLACE VIEW farma.gold.top_products_by_pharmacy AS\n",
    "SELECT\n",
    "  *,\n",
    "  DENSE_RANK() OVER (\n",
    "    PARTITION BY id_farmacia\n",
    "    ORDER BY sales_usd DESC, units_sold DESC, package_ndc_11\n",
    "  ) AS rnk_by_sales_in_pharmacy\n",
    "FROM farma.gold.product_lifetime_by_pharmacy;"
   ]
  },
  {
   "cell_type": "markdown",
   "metadata": {
    "application/vnd.databricks.v1+cell": {
     "cellMetadata": {
      "byteLimit": 2048000,
      "rowLimit": 10000
     },
     "inputWidgets": {},
     "nuid": "1160b552-1e81-4715-8af9-5795bbfda0d7",
     "showTitle": false,
     "tableResultSettingsMap": {},
     "title": ""
    }
   },
   "source": [
    "## 8. Verificaciones"
   ]
  },
  {
   "cell_type": "code",
   "execution_count": 0,
   "metadata": {
    "application/vnd.databricks.v1+cell": {
     "cellMetadata": {
      "byteLimit": 2048000,
      "implicitDf": true,
      "rowLimit": 10000
     },
     "inputWidgets": {},
     "nuid": "c7681a05-a4d1-4b29-92f8-895a6c323fb9",
     "showTitle": false,
     "tableResultSettingsMap": {},
     "title": ""
    }
   },
   "outputs": [
    {
     "output_type": "display_data",
     "data": {
      "text/html": [
       "<style scoped>\n",
       "  .table-result-container {\n",
       "    max-height: 300px;\n",
       "    overflow: auto;\n",
       "  }\n",
       "  table, th, td {\n",
       "    border: 1px solid black;\n",
       "    border-collapse: collapse;\n",
       "  }\n",
       "  th, td {\n",
       "    padding: 5px;\n",
       "  }\n",
       "  th {\n",
       "    text-align: left;\n",
       "  }\n",
       "</style><div class='table-result-container'><table class='table-result'><thead style='background-color: white'><tr><th>client_id</th><th>first_order_date</th><th>last_order_date</th><th>orders_cnt</th><th>net_sales</th><th>avg_order_value</th><th>rnk_by_orders</th></tr></thead><tbody><tr><td>CLI-365</td><td>2025-09-11</td><td>2025-09-12</td><td>4</td><td>593.7099999999999</td><td>148.42749999999998</td><td>1</td></tr><tr><td>CLI-580</td><td>2025-09-11</td><td>2025-09-12</td><td>3</td><td>1966.94</td><td>655.6466666666666</td><td>2</td></tr><tr><td>CLI-462</td><td>2025-09-11</td><td>2025-09-12</td><td>3</td><td>1107.86</td><td>369.28666666666663</td><td>3</td></tr><tr><td>CLI-129</td><td>2025-09-11</td><td>2025-09-12</td><td>3</td><td>436.81</td><td>145.60333333333332</td><td>4</td></tr><tr><td>CLI-823</td><td>2025-09-11</td><td>2025-09-11</td><td>3</td><td>302.26</td><td>100.75333333333333</td><td>5</td></tr><tr><td>CLI-102</td><td>2025-09-11</td><td>2025-09-11</td><td>3</td><td>232.95</td><td>77.64999999999999</td><td>6</td></tr><tr><td>CLI-246</td><td>2025-09-11</td><td>2025-09-12</td><td>3</td><td>164.16000000000003</td><td>54.720000000000006</td><td>7</td></tr><tr><td>CLI-788</td><td>2025-09-11</td><td>2025-09-12</td><td>3</td><td>151.44</td><td>50.48</td><td>8</td></tr><tr><td>CLI-028</td><td>2025-09-12</td><td>2025-09-12</td><td>3</td><td>87.49</td><td>29.16333333333333</td><td>9</td></tr><tr><td>CLI-447</td><td>2025-09-11</td><td>2025-09-12</td><td>3</td><td>67.66</td><td>22.55333333333333</td><td>10</td></tr><tr><td>CLI-829</td><td>2025-09-11</td><td>2025-09-11</td><td>3</td><td>55.89</td><td>18.63</td><td>11</td></tr><tr><td>CLI-461</td><td>2025-09-11</td><td>2025-09-12</td><td>3</td><td>39.36</td><td>13.12</td><td>12</td></tr><tr><td>CLI-751</td><td>2025-09-11</td><td>2025-09-11</td><td>3</td><td>23.99</td><td>7.996666666666666</td><td>13</td></tr><tr><td>CLI-529</td><td>2025-09-11</td><td>2025-09-11</td><td>3</td><td>11.02</td><td>3.6733333333333333</td><td>14</td></tr><tr><td>CLI-430</td><td>2025-09-11</td><td>2025-09-11</td><td>2</td><td>6858.530000000001</td><td>3429.2650000000003</td><td>15</td></tr><tr><td>CLI-864</td><td>2025-09-11</td><td>2025-09-12</td><td>2</td><td>4590.13</td><td>2295.065</td><td>16</td></tr><tr><td>CLI-618</td><td>2025-09-11</td><td>2025-09-12</td><td>2</td><td>2203.69</td><td>1101.845</td><td>17</td></tr><tr><td>CLI-619</td><td>2025-09-11</td><td>2025-09-11</td><td>2</td><td>2071.48</td><td>1035.74</td><td>18</td></tr><tr><td>CLI-459</td><td>2025-09-11</td><td>2025-09-12</td><td>2</td><td>1687.14</td><td>843.57</td><td>19</td></tr><tr><td>CLI-654</td><td>2025-09-11</td><td>2025-09-12</td><td>2</td><td>1147.77</td><td>573.885</td><td>20</td></tr><tr><td>CLI-340</td><td>2025-09-11</td><td>2025-09-11</td><td>2</td><td>1085.6</td><td>542.8</td><td>21</td></tr><tr><td>CLI-394</td><td>2025-09-11</td><td>2025-09-12</td><td>2</td><td>713.39</td><td>356.695</td><td>22</td></tr><tr><td>CLI-111</td><td>2025-09-11</td><td>2025-09-12</td><td>2</td><td>650.12</td><td>325.06</td><td>23</td></tr><tr><td>CLI-870</td><td>2025-09-11</td><td>2025-09-12</td><td>2</td><td>633.44</td><td>316.72</td><td>24</td></tr><tr><td>CLI-774</td><td>2025-09-11</td><td>2025-09-11</td><td>2</td><td>633.39</td><td>316.695</td><td>25</td></tr><tr><td>CLI-925</td><td>2025-09-11</td><td>2025-09-12</td><td>2</td><td>628.26</td><td>314.13</td><td>26</td></tr><tr><td>CLI-543</td><td>2025-09-12</td><td>2025-09-12</td><td>2</td><td>602.11</td><td>301.055</td><td>27</td></tr><tr><td>CLI-384</td><td>2025-09-11</td><td>2025-09-12</td><td>2</td><td>464.59000000000003</td><td>232.29500000000002</td><td>28</td></tr><tr><td>CLI-319</td><td>2025-09-11</td><td>2025-09-12</td><td>2</td><td>459.15999999999997</td><td>229.57999999999998</td><td>29</td></tr><tr><td>CLI-641</td><td>2025-09-11</td><td>2025-09-11</td><td>2</td><td>391.56</td><td>195.78</td><td>30</td></tr><tr><td>CLI-772</td><td>2025-09-11</td><td>2025-09-12</td><td>2</td><td>387.75</td><td>193.875</td><td>31</td></tr><tr><td>CLI-377</td><td>2025-09-11</td><td>2025-09-11</td><td>2</td><td>326.46000000000004</td><td>163.23000000000002</td><td>32</td></tr><tr><td>CLI-582</td><td>2025-09-12</td><td>2025-09-12</td><td>2</td><td>290.84999999999997</td><td>145.42499999999998</td><td>33</td></tr><tr><td>CLI-092</td><td>2025-09-11</td><td>2025-09-12</td><td>2</td><td>260.21000000000004</td><td>130.10500000000002</td><td>34</td></tr><tr><td>CLI-523</td><td>2025-09-11</td><td>2025-09-12</td><td>2</td><td>253.32</td><td>126.66</td><td>35</td></tr><tr><td>CLI-878</td><td>2025-09-11</td><td>2025-09-12</td><td>2</td><td>198.93</td><td>99.465</td><td>36</td></tr><tr><td>CLI-053</td><td>2025-09-11</td><td>2025-09-12</td><td>2</td><td>195.32</td><td>97.66</td><td>37</td></tr><tr><td>CLI-364</td><td>2025-09-11</td><td>2025-09-12</td><td>2</td><td>183.76</td><td>91.88</td><td>38</td></tr><tr><td>CLI-387</td><td>2025-09-12</td><td>2025-09-12</td><td>2</td><td>178.1</td><td>89.05</td><td>39</td></tr><tr><td>CLI-565</td><td>2025-09-11</td><td>2025-09-12</td><td>2</td><td>168.32</td><td>84.16</td><td>40</td></tr><tr><td>CLI-685</td><td>2025-09-11</td><td>2025-09-12</td><td>2</td><td>128.67</td><td>64.335</td><td>41</td></tr><tr><td>CLI-802</td><td>2025-09-11</td><td>2025-09-11</td><td>2</td><td>125.41000000000001</td><td>62.705000000000005</td><td>42</td></tr><tr><td>CLI-138</td><td>2025-09-11</td><td>2025-09-12</td><td>2</td><td>119.31</td><td>59.655</td><td>43</td></tr><tr><td>CLI-511</td><td>2025-09-11</td><td>2025-09-12</td><td>2</td><td>109.35</td><td>54.675</td><td>44</td></tr><tr><td>CLI-777</td><td>2025-09-11</td><td>2025-09-11</td><td>2</td><td>106.97999999999999</td><td>53.489999999999995</td><td>45</td></tr><tr><td>CLI-479</td><td>2025-09-12</td><td>2025-09-12</td><td>2</td><td>89.30000000000001</td><td>44.650000000000006</td><td>46</td></tr><tr><td>CLI-425</td><td>2025-09-11</td><td>2025-09-12</td><td>2</td><td>85.67</td><td>42.835</td><td>47</td></tr><tr><td>CLI-145</td><td>2025-09-11</td><td>2025-09-12</td><td>2</td><td>76.83</td><td>38.415</td><td>48</td></tr><tr><td>CLI-214</td><td>2025-09-11</td><td>2025-09-12</td><td>2</td><td>75.87</td><td>37.935</td><td>49</td></tr><tr><td>CLI-521</td><td>2025-09-11</td><td>2025-09-12</td><td>2</td><td>75.41</td><td>37.705</td><td>50</td></tr><tr><td>CLI-313</td><td>2025-09-11</td><td>2025-09-11</td><td>2</td><td>70.57000000000001</td><td>35.285000000000004</td><td>51</td></tr><tr><td>CLI-931</td><td>2025-09-11</td><td>2025-09-11</td><td>2</td><td>70.08</td><td>35.04</td><td>52</td></tr><tr><td>CLI-903</td><td>2025-09-12</td><td>2025-09-12</td><td>2</td><td>68.80000000000001</td><td>34.400000000000006</td><td>53</td></tr><tr><td>CLI-732</td><td>2025-09-11</td><td>2025-09-11</td><td>2</td><td>66.19</td><td>33.095</td><td>54</td></tr><tr><td>CLI-001</td><td>2025-09-11</td><td>2025-09-11</td><td>2</td><td>64.36</td><td>32.18</td><td>55</td></tr><tr><td>CLI-539</td><td>2025-09-11</td><td>2025-09-11</td><td>2</td><td>63.779999999999994</td><td>31.889999999999997</td><td>56</td></tr><tr><td>CLI-906</td><td>2025-09-11</td><td>2025-09-12</td><td>2</td><td>61.05</td><td>30.525</td><td>57</td></tr><tr><td>CLI-946</td><td>2025-09-11</td><td>2025-09-12</td><td>2</td><td>58.77</td><td>29.385</td><td>58</td></tr><tr><td>CLI-085</td><td>2025-09-11</td><td>2025-09-12</td><td>2</td><td>56.73</td><td>28.365</td><td>59</td></tr><tr><td>CLI-396</td><td>2025-09-11</td><td>2025-09-12</td><td>2</td><td>55.0</td><td>27.5</td><td>60</td></tr><tr><td>CLI-819</td><td>2025-09-12</td><td>2025-09-12</td><td>2</td><td>54.650000000000006</td><td>27.325000000000003</td><td>61</td></tr><tr><td>CLI-294</td><td>2025-09-11</td><td>2025-09-12</td><td>2</td><td>53.14</td><td>26.57</td><td>62</td></tr><tr><td>CLI-274</td><td>2025-09-11</td><td>2025-09-12</td><td>2</td><td>48.809999999999995</td><td>24.404999999999998</td><td>63</td></tr><tr><td>CLI-738</td><td>2025-09-11</td><td>2025-09-11</td><td>2</td><td>48.239999999999995</td><td>24.119999999999997</td><td>64</td></tr><tr><td>CLI-201</td><td>2025-09-11</td><td>2025-09-11</td><td>2</td><td>43.75</td><td>21.875</td><td>65</td></tr><tr><td>CLI-208</td><td>2025-09-11</td><td>2025-09-12</td><td>2</td><td>42.44</td><td>21.22</td><td>66</td></tr><tr><td>CLI-320</td><td>2025-09-12</td><td>2025-09-12</td><td>2</td><td>35.21</td><td>17.605</td><td>67</td></tr><tr><td>CLI-358</td><td>2025-09-11</td><td>2025-09-11</td><td>2</td><td>33.59</td><td>16.795</td><td>68</td></tr><tr><td>CLI-318</td><td>2025-09-11</td><td>2025-09-12</td><td>2</td><td>33.56999999999999</td><td>16.784999999999997</td><td>69</td></tr><tr><td>CLI-491</td><td>2025-09-11</td><td>2025-09-12</td><td>2</td><td>29.3</td><td>14.65</td><td>70</td></tr><tr><td>CLI-485</td><td>2025-09-11</td><td>2025-09-11</td><td>2</td><td>29.1</td><td>14.55</td><td>71</td></tr><tr><td>CLI-964</td><td>2025-09-11</td><td>2025-09-11</td><td>2</td><td>27.310000000000002</td><td>13.655000000000001</td><td>72</td></tr><tr><td>CLI-173</td><td>2025-09-11</td><td>2025-09-12</td><td>2</td><td>25.39</td><td>12.695</td><td>73</td></tr><tr><td>CLI-927</td><td>2025-09-11</td><td>2025-09-12</td><td>2</td><td>25.380000000000003</td><td>12.690000000000001</td><td>74</td></tr><tr><td>CLI-705</td><td>2025-09-11</td><td>2025-09-12</td><td>2</td><td>25.060000000000002</td><td>12.530000000000001</td><td>75</td></tr><tr><td>CLI-778</td><td>2025-09-11</td><td>2025-09-12</td><td>2</td><td>24.060000000000002</td><td>12.030000000000001</td><td>76</td></tr><tr><td>CLI-063</td><td>2025-09-11</td><td>2025-09-12</td><td>2</td><td>21.97</td><td>10.985</td><td>77</td></tr><tr><td>CLI-616</td><td>2025-09-11</td><td>2025-09-11</td><td>2</td><td>18.51</td><td>9.255</td><td>78</td></tr><tr><td>CLI-515</td><td>2025-09-11</td><td>2025-09-12</td><td>2</td><td>16.62</td><td>8.31</td><td>79</td></tr><tr><td>CLI-966</td><td>2025-09-11</td><td>2025-09-12</td><td>2</td><td>14.870000000000001</td><td>7.4350000000000005</td><td>80</td></tr><tr><td>CLI-216</td><td>2025-09-11</td><td>2025-09-12</td><td>2</td><td>11.8</td><td>5.9</td><td>81</td></tr><tr><td>CLI-229</td><td>2025-09-11</td><td>2025-09-12</td><td>2</td><td>11.57</td><td>5.785</td><td>82</td></tr><tr><td>CLI-969</td><td>2025-09-12</td><td>2025-09-12</td><td>2</td><td>11.059999999999999</td><td>5.529999999999999</td><td>83</td></tr><tr><td>CLI-286</td><td>2025-09-11</td><td>2025-09-11</td><td>2</td><td>8.959999999999999</td><td>4.4799999999999995</td><td>84</td></tr><tr><td>CLI-781</td><td>2025-09-11</td><td>2025-09-11</td><td>2</td><td>5.529999999999999</td><td>2.7649999999999997</td><td>85</td></tr><tr><td>CLI-303</td><td>2025-09-11</td><td>2025-09-11</td><td>1</td><td>8984.8</td><td>8984.8</td><td>86</td></tr><tr><td>CLI-278</td><td>2025-09-11</td><td>2025-09-11</td><td>1</td><td>3706.94</td><td>3706.94</td><td>87</td></tr><tr><td>CLI-110</td><td>2025-09-12</td><td>2025-09-12</td><td>1</td><td>2320.76</td><td>2320.76</td><td>88</td></tr><tr><td>CLI-832</td><td>2025-09-11</td><td>2025-09-11</td><td>1</td><td>2304.94</td><td>2304.94</td><td>89</td></tr><tr><td>CLI-206</td><td>2025-09-12</td><td>2025-09-12</td><td>1</td><td>1977.76</td><td>1977.76</td><td>90</td></tr><tr><td>CLI-571</td><td>2025-09-11</td><td>2025-09-11</td><td>1</td><td>1698.62</td><td>1698.62</td><td>91</td></tr><tr><td>CLI-977</td><td>2025-09-12</td><td>2025-09-12</td><td>1</td><td>1642.74</td><td>1642.74</td><td>92</td></tr><tr><td>CLI-998</td><td>2025-09-12</td><td>2025-09-12</td><td>1</td><td>1469.46</td><td>1469.46</td><td>93</td></tr><tr><td>CLI-895</td><td>2025-09-12</td><td>2025-09-12</td><td>1</td><td>1446.2</td><td>1446.2</td><td>94</td></tr><tr><td>CLI-784</td><td>2025-09-11</td><td>2025-09-11</td><td>1</td><td>1343.7</td><td>1343.7</td><td>95</td></tr><tr><td>CLI-005</td><td>2025-09-11</td><td>2025-09-11</td><td>1</td><td>1272.85</td><td>1272.85</td><td>96</td></tr><tr><td>CLI-137</td><td>2025-09-12</td><td>2025-09-12</td><td>1</td><td>1237.87</td><td>1237.87</td><td>97</td></tr><tr><td>CLI-017</td><td>2025-09-12</td><td>2025-09-12</td><td>1</td><td>1113.12</td><td>1113.12</td><td>98</td></tr><tr><td>CLI-332</td><td>2025-09-11</td><td>2025-09-11</td><td>1</td><td>964.74</td><td>964.74</td><td>99</td></tr><tr><td>CLI-644</td><td>2025-09-11</td><td>2025-09-11</td><td>1</td><td>916.92</td><td>916.92</td><td>100</td></tr><tr><td>CLI-451</td><td>2025-09-11</td><td>2025-09-11</td><td>1</td><td>879.85</td><td>879.85</td><td>101</td></tr><tr><td>CLI-407</td><td>2025-09-11</td><td>2025-09-11</td><td>1</td><td>796.71</td><td>796.71</td><td>102</td></tr><tr><td>CLI-749</td><td>2025-09-11</td><td>2025-09-11</td><td>1</td><td>773.19</td><td>773.19</td><td>103</td></tr><tr><td>CLI-030</td><td>2025-09-11</td><td>2025-09-11</td><td>1</td><td>733.8</td><td>733.8</td><td>104</td></tr><tr><td>CLI-914</td><td>2025-09-12</td><td>2025-09-12</td><td>1</td><td>733.19</td><td>733.19</td><td>105</td></tr><tr><td>CLI-449</td><td>2025-09-11</td><td>2025-09-11</td><td>1</td><td>664.87</td><td>664.87</td><td>106</td></tr><tr><td>CLI-409</td><td>2025-09-11</td><td>2025-09-11</td><td>1</td><td>578.81</td><td>578.81</td><td>107</td></tr><tr><td>CLI-343</td><td>2025-09-12</td><td>2025-09-12</td><td>1</td><td>514.99</td><td>514.99</td><td>108</td></tr><tr><td>CLI-748</td><td>2025-09-11</td><td>2025-09-11</td><td>1</td><td>504.26</td><td>504.26</td><td>109</td></tr><tr><td>CLI-831</td><td>2025-09-12</td><td>2025-09-12</td><td>1</td><td>500.08</td><td>500.08</td><td>110</td></tr><tr><td>CLI-605</td><td>2025-09-12</td><td>2025-09-12</td><td>1</td><td>440.26</td><td>440.26</td><td>111</td></tr><tr><td>CLI-478</td><td>2025-09-11</td><td>2025-09-11</td><td>1</td><td>420.11</td><td>420.11</td><td>112</td></tr><tr><td>CLI-422</td><td>2025-09-11</td><td>2025-09-11</td><td>1</td><td>391.11</td><td>391.11</td><td>113</td></tr><tr><td>CLI-522</td><td>2025-09-11</td><td>2025-09-11</td><td>1</td><td>384.73</td><td>384.73</td><td>114</td></tr><tr><td>CLI-722</td><td>2025-09-11</td><td>2025-09-11</td><td>1</td><td>362.6</td><td>362.6</td><td>115</td></tr><tr><td>CLI-067</td><td>2025-09-11</td><td>2025-09-11</td><td>1</td><td>361.74</td><td>361.74</td><td>116</td></tr><tr><td>CLI-211</td><td>2025-09-12</td><td>2025-09-12</td><td>1</td><td>337.93</td><td>337.93</td><td>117</td></tr><tr><td>CLI-429</td><td>2025-09-12</td><td>2025-09-12</td><td>1</td><td>327.27</td><td>327.27</td><td>118</td></tr><tr><td>CLI-348</td><td>2025-09-12</td><td>2025-09-12</td><td>1</td><td>301.89</td><td>301.89</td><td>119</td></tr><tr><td>CLI-373</td><td>2025-09-11</td><td>2025-09-11</td><td>1</td><td>295.85</td><td>295.85</td><td>120</td></tr><tr><td>CLI-438</td><td>2025-09-11</td><td>2025-09-11</td><td>1</td><td>293.45</td><td>293.45</td><td>121</td></tr><tr><td>CLI-828</td><td>2025-09-11</td><td>2025-09-11</td><td>1</td><td>288.44</td><td>288.44</td><td>122</td></tr><tr><td>CLI-194</td><td>2025-09-12</td><td>2025-09-12</td><td>1</td><td>272.53</td><td>272.53</td><td>123</td></tr><tr><td>CLI-406</td><td>2025-09-11</td><td>2025-09-11</td><td>1</td><td>270.09</td><td>270.09</td><td>124</td></tr><tr><td>CLI-114</td><td>2025-09-12</td><td>2025-09-12</td><td>1</td><td>255.11</td><td>255.11</td><td>125</td></tr><tr><td>CLI-664</td><td>2025-09-12</td><td>2025-09-12</td><td>1</td><td>245.41</td><td>245.41</td><td>126</td></tr><tr><td>CLI-743</td><td>2025-09-11</td><td>2025-09-11</td><td>1</td><td>228.05</td><td>228.05</td><td>127</td></tr><tr><td>CLI-976</td><td>2025-09-11</td><td>2025-09-11</td><td>1</td><td>221.01</td><td>221.01</td><td>128</td></tr><tr><td>CLI-359</td><td>2025-09-12</td><td>2025-09-12</td><td>1</td><td>212.7</td><td>212.7</td><td>129</td></tr><tr><td>CLI-630</td><td>2025-09-11</td><td>2025-09-11</td><td>1</td><td>210.79</td><td>210.79</td><td>130</td></tr><tr><td>CLI-048</td><td>2025-09-11</td><td>2025-09-11</td><td>1</td><td>207.13</td><td>207.13</td><td>131</td></tr><tr><td>CLI-228</td><td>2025-09-11</td><td>2025-09-11</td><td>1</td><td>204.78</td><td>204.78</td><td>132</td></tr><tr><td>CLI-142</td><td>2025-09-11</td><td>2025-09-11</td><td>1</td><td>204.5</td><td>204.5</td><td>133</td></tr><tr><td>CLI-734</td><td>2025-09-12</td><td>2025-09-12</td><td>1</td><td>201.88</td><td>201.88</td><td>134</td></tr><tr><td>CLI-244</td><td>2025-09-11</td><td>2025-09-11</td><td>1</td><td>201.75</td><td>201.75</td><td>135</td></tr><tr><td>CLI-065</td><td>2025-09-11</td><td>2025-09-11</td><td>1</td><td>194.26</td><td>194.26</td><td>136</td></tr><tr><td>CLI-806</td><td>2025-09-12</td><td>2025-09-12</td><td>1</td><td>193.15</td><td>193.15</td><td>137</td></tr><tr><td>CLI-608</td><td>2025-09-11</td><td>2025-09-11</td><td>1</td><td>186.86</td><td>186.86</td><td>138</td></tr><tr><td>CLI-287</td><td>2025-09-12</td><td>2025-09-12</td><td>1</td><td>183.22</td><td>183.22</td><td>139</td></tr><tr><td>CLI-668</td><td>2025-09-12</td><td>2025-09-12</td><td>1</td><td>180.25</td><td>180.25</td><td>140</td></tr><tr><td>CLI-434</td><td>2025-09-11</td><td>2025-09-11</td><td>1</td><td>176.68</td><td>176.68</td><td>141</td></tr><tr><td>CLI-535</td><td>2025-09-12</td><td>2025-09-12</td><td>1</td><td>175.01</td><td>175.01</td><td>142</td></tr><tr><td>CLI-317</td><td>2025-09-11</td><td>2025-09-11</td><td>1</td><td>167.93</td><td>167.93</td><td>143</td></tr><tr><td>CLI-195</td><td>2025-09-11</td><td>2025-09-11</td><td>1</td><td>159.98</td><td>159.98</td><td>144</td></tr><tr><td>CLI-560</td><td>2025-09-11</td><td>2025-09-11</td><td>1</td><td>158.54</td><td>158.54</td><td>145</td></tr><tr><td>CLI-803</td><td>2025-09-11</td><td>2025-09-11</td><td>1</td><td>150.51</td><td>150.51</td><td>146</td></tr><tr><td>CLI-612</td><td>2025-09-11</td><td>2025-09-11</td><td>1</td><td>150.34</td><td>150.34</td><td>147</td></tr><tr><td>CLI-086</td><td>2025-09-11</td><td>2025-09-11</td><td>1</td><td>150.23</td><td>150.23</td><td>148</td></tr><tr><td>CLI-240</td><td>2025-09-12</td><td>2025-09-12</td><td>1</td><td>149.74</td><td>149.74</td><td>149</td></tr><tr><td>CLI-961</td><td>2025-09-11</td><td>2025-09-11</td><td>1</td><td>147.84</td><td>147.84</td><td>150</td></tr><tr><td>CLI-190</td><td>2025-09-11</td><td>2025-09-11</td><td>1</td><td>145.71</td><td>145.71</td><td>151</td></tr><tr><td>CLI-932</td><td>2025-09-12</td><td>2025-09-12</td><td>1</td><td>144.61</td><td>144.61</td><td>152</td></tr><tr><td>CLI-949</td><td>2025-09-11</td><td>2025-09-11</td><td>1</td><td>142.03</td><td>142.03</td><td>153</td></tr><tr><td>CLI-697</td><td>2025-09-11</td><td>2025-09-11</td><td>1</td><td>127.24</td><td>127.24</td><td>154</td></tr><tr><td>CLI-733</td><td>2025-09-12</td><td>2025-09-12</td><td>1</td><td>126.52</td><td>126.52</td><td>155</td></tr><tr><td>CLI-730</td><td>2025-09-12</td><td>2025-09-12</td><td>1</td><td>124.6</td><td>124.6</td><td>156</td></tr><tr><td>CLI-620</td><td>2025-09-12</td><td>2025-09-12</td><td>1</td><td>123.35</td><td>123.35</td><td>157</td></tr><tr><td>CLI-334</td><td>2025-09-12</td><td>2025-09-12</td><td>1</td><td>123.06</td><td>123.06</td><td>158</td></tr><tr><td>CLI-860</td><td>2025-09-12</td><td>2025-09-12</td><td>1</td><td>119.85</td><td>119.85</td><td>159</td></tr><tr><td>CLI-333</td><td>2025-09-12</td><td>2025-09-12</td><td>1</td><td>117.76</td><td>117.76</td><td>160</td></tr><tr><td>CLI-597</td><td>2025-09-11</td><td>2025-09-11</td><td>1</td><td>107.94</td><td>107.94</td><td>161</td></tr><tr><td>CLI-790</td><td>2025-09-11</td><td>2025-09-11</td><td>1</td><td>105.39</td><td>105.39</td><td>162</td></tr><tr><td>CLI-223</td><td>2025-09-12</td><td>2025-09-12</td><td>1</td><td>104.88</td><td>104.88</td><td>163</td></tr><tr><td>CLI-100</td><td>2025-09-11</td><td>2025-09-11</td><td>1</td><td>104.06</td><td>104.06</td><td>164</td></tr><tr><td>CLI-865</td><td>2025-09-12</td><td>2025-09-12</td><td>1</td><td>103.08</td><td>103.08</td><td>165</td></tr><tr><td>CLI-036</td><td>2025-09-11</td><td>2025-09-11</td><td>1</td><td>101.76</td><td>101.76</td><td>166</td></tr><tr><td>CLI-465</td><td>2025-09-12</td><td>2025-09-12</td><td>1</td><td>100.32</td><td>100.32</td><td>167</td></tr><tr><td>CLI-366</td><td>2025-09-12</td><td>2025-09-12</td><td>1</td><td>100.26</td><td>100.26</td><td>168</td></tr><tr><td>CLI-595</td><td>2025-09-11</td><td>2025-09-11</td><td>1</td><td>95.7</td><td>95.7</td><td>169</td></tr><tr><td>CLI-043</td><td>2025-09-11</td><td>2025-09-11</td><td>1</td><td>91.31</td><td>91.31</td><td>170</td></tr><tr><td>CLI-922</td><td>2025-09-11</td><td>2025-09-11</td><td>1</td><td>89.79</td><td>89.79</td><td>171</td></tr><tr><td>CLI-034</td><td>2025-09-11</td><td>2025-09-11</td><td>1</td><td>88.69</td><td>88.69</td><td>172</td></tr><tr><td>CLI-254</td><td>2025-09-12</td><td>2025-09-12</td><td>1</td><td>88.6</td><td>88.6</td><td>173</td></tr><tr><td>CLI-363</td><td>2025-09-12</td><td>2025-09-12</td><td>1</td><td>82.57</td><td>82.57</td><td>174</td></tr><tr><td>CLI-727</td><td>2025-09-11</td><td>2025-09-11</td><td>1</td><td>82.29</td><td>82.29</td><td>175</td></tr><tr><td>CLI-400</td><td>2025-09-11</td><td>2025-09-11</td><td>1</td><td>82.25</td><td>82.25</td><td>176</td></tr><tr><td>CLI-456</td><td>2025-09-11</td><td>2025-09-11</td><td>1</td><td>82.02</td><td>82.02</td><td>177</td></tr><tr><td>CLI-322</td><td>2025-09-11</td><td>2025-09-11</td><td>1</td><td>81.79</td><td>81.79</td><td>178</td></tr><tr><td>CLI-848</td><td>2025-09-11</td><td>2025-09-11</td><td>1</td><td>80.16</td><td>80.16</td><td>179</td></tr><tr><td>CLI-768</td><td>2025-09-11</td><td>2025-09-11</td><td>1</td><td>79.13</td><td>79.13</td><td>180</td></tr><tr><td>CLI-939</td><td>2025-09-12</td><td>2025-09-12</td><td>1</td><td>78.43</td><td>78.43</td><td>181</td></tr><tr><td>CLI-954</td><td>2025-09-12</td><td>2025-09-12</td><td>1</td><td>71.4</td><td>71.4</td><td>182</td></tr><tr><td>CLI-099</td><td>2025-09-12</td><td>2025-09-12</td><td>1</td><td>66.67</td><td>66.67</td><td>183</td></tr><tr><td>CLI-133</td><td>2025-09-12</td><td>2025-09-12</td><td>1</td><td>65.84</td><td>65.84</td><td>184</td></tr><tr><td>CLI-747</td><td>2025-09-12</td><td>2025-09-12</td><td>1</td><td>65.72</td><td>65.72</td><td>185</td></tr><tr><td>CLI-871</td><td>2025-09-11</td><td>2025-09-11</td><td>1</td><td>64.78</td><td>64.78</td><td>186</td></tr><tr><td>CLI-581</td><td>2025-09-12</td><td>2025-09-12</td><td>1</td><td>63.08</td><td>63.08</td><td>187</td></tr><tr><td>CLI-283</td><td>2025-09-11</td><td>2025-09-11</td><td>1</td><td>61.88</td><td>61.88</td><td>188</td></tr><tr><td>CLI-380</td><td>2025-09-11</td><td>2025-09-11</td><td>1</td><td>61.5</td><td>61.5</td><td>189</td></tr><tr><td>CLI-683</td><td>2025-09-11</td><td>2025-09-11</td><td>1</td><td>61.33</td><td>61.33</td><td>190</td></tr><tr><td>CLI-853</td><td>2025-09-11</td><td>2025-09-11</td><td>1</td><td>61.1</td><td>61.1</td><td>191</td></tr><tr><td>CLI-951</td><td>2025-09-12</td><td>2025-09-12</td><td>1</td><td>60.69</td><td>60.69</td><td>192</td></tr><tr><td>CLI-103</td><td>2025-09-12</td><td>2025-09-12</td><td>1</td><td>60.53</td><td>60.53</td><td>193</td></tr><tr><td>CLI-825</td><td>2025-09-11</td><td>2025-09-11</td><td>1</td><td>60.4</td><td>60.4</td><td>194</td></tr><tr><td>CLI-785</td><td>2025-09-11</td><td>2025-09-11</td><td>1</td><td>59.67</td><td>59.67</td><td>195</td></tr><tr><td>CLI-989</td><td>2025-09-12</td><td>2025-09-12</td><td>1</td><td>57.1</td><td>57.1</td><td>196</td></tr><tr><td>CLI-175</td><td>2025-09-12</td><td>2025-09-12</td><td>1</td><td>56.05</td><td>56.05</td><td>197</td></tr><tr><td>CLI-646</td><td>2025-09-12</td><td>2025-09-12</td><td>1</td><td>55.69</td><td>55.69</td><td>198</td></tr><tr><td>CLI-182</td><td>2025-09-11</td><td>2025-09-11</td><td>1</td><td>55.61</td><td>55.61</td><td>199</td></tr><tr><td>CLI-378</td><td>2025-09-11</td><td>2025-09-11</td><td>1</td><td>53.03</td><td>53.03</td><td>200</td></tr><tr><td>CLI-420</td><td>2025-09-11</td><td>2025-09-11</td><td>1</td><td>52.71</td><td>52.71</td><td>201</td></tr><tr><td>CLI-004</td><td>2025-09-11</td><td>2025-09-11</td><td>1</td><td>52.46</td><td>52.46</td><td>202</td></tr><tr><td>CLI-899</td><td>2025-09-11</td><td>2025-09-11</td><td>1</td><td>51.09</td><td>51.09</td><td>203</td></tr><tr><td>CLI-869</td><td>2025-09-12</td><td>2025-09-12</td><td>1</td><td>50.63</td><td>50.63</td><td>204</td></tr><tr><td>CLI-898</td><td>2025-09-11</td><td>2025-09-11</td><td>1</td><td>48.54</td><td>48.54</td><td>205</td></tr><tr><td>CLI-139</td><td>2025-09-11</td><td>2025-09-11</td><td>1</td><td>48.34</td><td>48.34</td><td>206</td></tr><tr><td>CLI-079</td><td>2025-09-12</td><td>2025-09-12</td><td>1</td><td>48.04</td><td>48.04</td><td>207</td></tr><tr><td>CLI-134</td><td>2025-09-11</td><td>2025-09-11</td><td>1</td><td>46.99</td><td>46.99</td><td>208</td></tr><tr><td>CLI-328</td><td>2025-09-11</td><td>2025-09-11</td><td>1</td><td>46.57</td><td>46.57</td><td>209</td></tr><tr><td>CLI-854</td><td>2025-09-12</td><td>2025-09-12</td><td>1</td><td>46.15</td><td>46.15</td><td>210</td></tr><tr><td>CLI-800</td><td>2025-09-11</td><td>2025-09-11</td><td>1</td><td>44.31</td><td>44.31</td><td>211</td></tr><tr><td>CLI-574</td><td>2025-09-11</td><td>2025-09-11</td><td>1</td><td>43.96</td><td>43.96</td><td>212</td></tr><tr><td>CLI-268</td><td>2025-09-11</td><td>2025-09-11</td><td>1</td><td>42.75</td><td>42.75</td><td>213</td></tr><tr><td>CLI-271</td><td>2025-09-12</td><td>2025-09-12</td><td>1</td><td>42.19</td><td>42.19</td><td>214</td></tr><tr><td>CLI-226</td><td>2025-09-12</td><td>2025-09-12</td><td>1</td><td>41.38</td><td>41.38</td><td>215</td></tr><tr><td>CLI-218</td><td>2025-09-11</td><td>2025-09-11</td><td>1</td><td>40.7</td><td>40.7</td><td>216</td></tr><tr><td>CLI-900</td><td>2025-09-11</td><td>2025-09-11</td><td>1</td><td>40.65</td><td>40.65</td><td>217</td></tr><tr><td>CLI-678</td><td>2025-09-12</td><td>2025-09-12</td><td>1</td><td>37.79</td><td>37.79</td><td>218</td></tr><tr><td>CLI-876</td><td>2025-09-11</td><td>2025-09-11</td><td>1</td><td>37.52</td><td>37.52</td><td>219</td></tr><tr><td>CLI-258</td><td>2025-09-12</td><td>2025-09-12</td><td>1</td><td>37.49</td><td>37.49</td><td>220</td></tr><tr><td>CLI-282</td><td>2025-09-12</td><td>2025-09-12</td><td>1</td><td>37.2</td><td>37.2</td><td>221</td></tr><tr><td>CLI-457</td><td>2025-09-12</td><td>2025-09-12</td><td>1</td><td>36.94</td><td>36.94</td><td>222</td></tr><tr><td>CLI-585</td><td>2025-09-11</td><td>2025-09-11</td><td>1</td><td>36.23</td><td>36.23</td><td>223</td></tr><tr><td>CLI-651</td><td>2025-09-11</td><td>2025-09-11</td><td>1</td><td>36.04</td><td>36.04</td><td>224</td></tr><tr><td>CLI-613</td><td>2025-09-11</td><td>2025-09-11</td><td>1</td><td>35.71</td><td>35.71</td><td>225</td></tr><tr><td>CLI-783</td><td>2025-09-12</td><td>2025-09-12</td><td>1</td><td>35.25</td><td>35.25</td><td>226</td></tr><tr><td>CLI-600</td><td>2025-09-11</td><td>2025-09-11</td><td>1</td><td>34.67</td><td>34.67</td><td>227</td></tr><tr><td>CLI-374</td><td>2025-09-11</td><td>2025-09-11</td><td>1</td><td>33.67</td><td>33.67</td><td>228</td></tr><tr><td>CLI-232</td><td>2025-09-12</td><td>2025-09-12</td><td>1</td><td>33.63</td><td>33.63</td><td>229</td></tr><tr><td>CLI-674</td><td>2025-09-12</td><td>2025-09-12</td><td>1</td><td>32.51</td><td>32.51</td><td>230</td></tr><tr><td>CLI-101</td><td>2025-09-11</td><td>2025-09-11</td><td>1</td><td>32.35</td><td>32.35</td><td>231</td></tr><tr><td>CLI-458</td><td>2025-09-11</td><td>2025-09-11</td><td>1</td><td>31.9</td><td>31.9</td><td>232</td></tr><tr><td>CLI-550</td><td>2025-09-11</td><td>2025-09-11</td><td>1</td><td>31.31</td><td>31.31</td><td>233</td></tr><tr><td>CLI-820</td><td>2025-09-11</td><td>2025-09-11</td><td>1</td><td>31.22</td><td>31.22</td><td>234</td></tr><tr><td>CLI-792</td><td>2025-09-11</td><td>2025-09-11</td><td>1</td><td>30.78</td><td>30.78</td><td>235</td></tr><tr><td>CLI-901</td><td>2025-09-11</td><td>2025-09-11</td><td>1</td><td>30.55</td><td>30.55</td><td>236</td></tr><tr><td>CLI-160</td><td>2025-09-11</td><td>2025-09-11</td><td>1</td><td>29.93</td><td>29.93</td><td>237</td></tr><tr><td>CLI-835</td><td>2025-09-11</td><td>2025-09-11</td><td>1</td><td>29.37</td><td>29.37</td><td>238</td></tr><tr><td>CLI-604</td><td>2025-09-11</td><td>2025-09-11</td><td>1</td><td>28.56</td><td>28.56</td><td>239</td></tr><tr><td>CLI-867</td><td>2025-09-11</td><td>2025-09-11</td><td>1</td><td>28.33</td><td>28.33</td><td>240</td></tr><tr><td>CLI-603</td><td>2025-09-11</td><td>2025-09-11</td><td>1</td><td>28.04</td><td>28.04</td><td>241</td></tr><tr><td>CLI-750</td><td>2025-09-12</td><td>2025-09-12</td><td>1</td><td>27.78</td><td>27.78</td><td>242</td></tr><tr><td>CLI-470</td><td>2025-09-11</td><td>2025-09-11</td><td>1</td><td>27.63</td><td>27.63</td><td>243</td></tr><tr><td>CLI-024</td><td>2025-09-12</td><td>2025-09-12</td><td>1</td><td>27.23</td><td>27.23</td><td>244</td></tr><tr><td>CLI-594</td><td>2025-09-11</td><td>2025-09-11</td><td>1</td><td>26.71</td><td>26.71</td><td>245</td></tr><tr><td>CLI-267</td><td>2025-09-12</td><td>2025-09-12</td><td>1</td><td>26.64</td><td>26.64</td><td>246</td></tr><tr><td>CLI-408</td><td>2025-09-12</td><td>2025-09-12</td><td>1</td><td>26.14</td><td>26.14</td><td>247</td></tr><tr><td>CLI-096</td><td>2025-09-12</td><td>2025-09-12</td><td>1</td><td>25.94</td><td>25.94</td><td>248</td></tr><tr><td>CLI-401</td><td>2025-09-11</td><td>2025-09-11</td><td>1</td><td>25.71</td><td>25.71</td><td>249</td></tr><tr><td>CLI-826</td><td>2025-09-12</td><td>2025-09-12</td><td>1</td><td>25.67</td><td>25.67</td><td>250</td></tr><tr><td>CLI-342</td><td>2025-09-11</td><td>2025-09-11</td><td>1</td><td>25.57</td><td>25.57</td><td>251</td></tr><tr><td>CLI-222</td><td>2025-09-11</td><td>2025-09-11</td><td>1</td><td>25.53</td><td>25.53</td><td>252</td></tr><tr><td>CLI-844</td><td>2025-09-11</td><td>2025-09-11</td><td>1</td><td>24.19</td><td>24.19</td><td>253</td></tr><tr><td>CLI-405</td><td>2025-09-12</td><td>2025-09-12</td><td>1</td><td>24.15</td><td>24.15</td><td>254</td></tr><tr><td>CLI-105</td><td>2025-09-12</td><td>2025-09-12</td><td>1</td><td>23.81</td><td>23.81</td><td>255</td></tr><tr><td>CLI-798</td><td>2025-09-11</td><td>2025-09-11</td><td>1</td><td>23.67</td><td>23.67</td><td>256</td></tr><tr><td>CLI-174</td><td>2025-09-12</td><td>2025-09-12</td><td>1</td><td>23.66</td><td>23.66</td><td>257</td></tr><tr><td>CLI-863</td><td>2025-09-11</td><td>2025-09-11</td><td>1</td><td>22.61</td><td>22.61</td><td>258</td></tr><tr><td>CLI-019</td><td>2025-09-12</td><td>2025-09-12</td><td>1</td><td>22.25</td><td>22.25</td><td>259</td></tr><tr><td>CLI-834</td><td>2025-09-11</td><td>2025-09-11</td><td>1</td><td>21.96</td><td>21.96</td><td>260</td></tr><tr><td>CLI-517</td><td>2025-09-12</td><td>2025-09-12</td><td>1</td><td>21.7</td><td>21.7</td><td>261</td></tr><tr><td>CLI-444</td><td>2025-09-11</td><td>2025-09-11</td><td>1</td><td>21.56</td><td>21.56</td><td>262</td></tr><tr><td>CLI-889</td><td>2025-09-12</td><td>2025-09-12</td><td>1</td><td>20.87</td><td>20.87</td><td>263</td></tr><tr><td>CLI-923</td><td>2025-09-12</td><td>2025-09-12</td><td>1</td><td>19.89</td><td>19.89</td><td>264</td></tr><tr><td>CLI-577</td><td>2025-09-11</td><td>2025-09-11</td><td>1</td><td>19.65</td><td>19.65</td><td>265</td></tr><tr><td>CLI-690</td><td>2025-09-11</td><td>2025-09-11</td><td>1</td><td>19.25</td><td>19.25</td><td>266</td></tr><tr><td>CLI-445</td><td>2025-09-12</td><td>2025-09-12</td><td>1</td><td>19.22</td><td>19.22</td><td>267</td></tr><tr><td>CLI-562</td><td>2025-09-12</td><td>2025-09-12</td><td>1</td><td>19.08</td><td>19.08</td><td>268</td></tr><tr><td>CLI-316</td><td>2025-09-12</td><td>2025-09-12</td><td>1</td><td>18.85</td><td>18.85</td><td>269</td></tr><tr><td>CLI-933</td><td>2025-09-12</td><td>2025-09-12</td><td>1</td><td>18.6</td><td>18.6</td><td>270</td></tr><tr><td>CLI-731</td><td>2025-09-12</td><td>2025-09-12</td><td>1</td><td>18.5</td><td>18.5</td><td>271</td></tr><tr><td>CLI-095</td><td>2025-09-11</td><td>2025-09-11</td><td>1</td><td>18.35</td><td>18.35</td><td>272</td></tr><tr><td>CLI-264</td><td>2025-09-11</td><td>2025-09-11</td><td>1</td><td>18.18</td><td>18.18</td><td>273</td></tr><tr><td>CLI-367</td><td>2025-09-12</td><td>2025-09-12</td><td>1</td><td>18.07</td><td>18.07</td><td>274</td></tr><tr><td>CLI-808</td><td>2025-09-12</td><td>2025-09-12</td><td>1</td><td>17.73</td><td>17.73</td><td>275</td></tr><tr><td>CLI-796</td><td>2025-09-11</td><td>2025-09-11</td><td>1</td><td>17.56</td><td>17.56</td><td>276</td></tr><tr><td>CLI-588</td><td>2025-09-11</td><td>2025-09-11</td><td>1</td><td>17.52</td><td>17.52</td><td>277</td></tr><tr><td>CLI-596</td><td>2025-09-12</td><td>2025-09-12</td><td>1</td><td>17.43</td><td>17.43</td><td>278</td></tr><tr><td>CLI-061</td><td>2025-09-11</td><td>2025-09-11</td><td>1</td><td>17.33</td><td>17.33</td><td>279</td></tr><tr><td>CLI-534</td><td>2025-09-12</td><td>2025-09-12</td><td>1</td><td>17.29</td><td>17.29</td><td>280</td></tr><tr><td>CLI-165</td><td>2025-09-12</td><td>2025-09-12</td><td>1</td><td>17.19</td><td>17.19</td><td>281</td></tr><tr><td>CLI-532</td><td>2025-09-12</td><td>2025-09-12</td><td>1</td><td>16.76</td><td>16.76</td><td>282</td></tr><tr><td>CLI-956</td><td>2025-09-12</td><td>2025-09-12</td><td>1</td><td>16.57</td><td>16.57</td><td>283</td></tr><tr><td>CLI-695</td><td>2025-09-12</td><td>2025-09-12</td><td>1</td><td>16.37</td><td>16.37</td><td>284</td></tr><tr><td>CLI-994</td><td>2025-09-11</td><td>2025-09-11</td><td>1</td><td>14.84</td><td>14.84</td><td>285</td></tr><tr><td>CLI-083</td><td>2025-09-11</td><td>2025-09-11</td><td>1</td><td>14.77</td><td>14.77</td><td>286</td></tr><tr><td>CLI-104</td><td>2025-09-12</td><td>2025-09-12</td><td>1</td><td>14.43</td><td>14.43</td><td>287</td></tr><tr><td>CLI-091</td><td>2025-09-11</td><td>2025-09-11</td><td>1</td><td>14.36</td><td>14.36</td><td>288</td></tr><tr><td>CLI-602</td><td>2025-09-12</td><td>2025-09-12</td><td>1</td><td>14.16</td><td>14.16</td><td>289</td></tr><tr><td>CLI-010</td><td>2025-09-11</td><td>2025-09-11</td><td>1</td><td>13.1</td><td>13.1</td><td>290</td></tr><tr><td>CLI-862</td><td>2025-09-12</td><td>2025-09-12</td><td>1</td><td>12.9</td><td>12.9</td><td>291</td></tr><tr><td>CLI-568</td><td>2025-09-11</td><td>2025-09-11</td><td>1</td><td>12.41</td><td>12.41</td><td>292</td></tr><tr><td>CLI-046</td><td>2025-09-11</td><td>2025-09-11</td><td>1</td><td>12.25</td><td>12.25</td><td>293</td></tr><tr><td>CLI-238</td><td>2025-09-11</td><td>2025-09-11</td><td>1</td><td>12.22</td><td>12.22</td><td>294</td></tr><tr><td>CLI-109</td><td>2025-09-11</td><td>2025-09-11</td><td>1</td><td>12.03</td><td>12.03</td><td>295</td></tr><tr><td>CLI-586</td><td>2025-09-11</td><td>2025-09-11</td><td>1</td><td>12.01</td><td>12.01</td><td>296</td></tr><tr><td>CLI-578</td><td>2025-09-11</td><td>2025-09-11</td><td>1</td><td>11.9</td><td>11.9</td><td>297</td></tr><tr><td>CLI-807</td><td>2025-09-12</td><td>2025-09-12</td><td>1</td><td>11.9</td><td>11.9</td><td>298</td></tr><tr><td>CLI-873</td><td>2025-09-12</td><td>2025-09-12</td><td>1</td><td>11.82</td><td>11.82</td><td>299</td></tr><tr><td>CLI-269</td><td>2025-09-11</td><td>2025-09-11</td><td>1</td><td>11.61</td><td>11.61</td><td>300</td></tr><tr><td>CLI-753</td><td>2025-09-11</td><td>2025-09-11</td><td>1</td><td>11.44</td><td>11.44</td><td>301</td></tr><tr><td>CLI-955</td><td>2025-09-11</td><td>2025-09-11</td><td>1</td><td>11.1</td><td>11.1</td><td>302</td></tr><tr><td>CLI-297</td><td>2025-09-11</td><td>2025-09-11</td><td>1</td><td>10.96</td><td>10.96</td><td>303</td></tr><tr><td>CLI-652</td><td>2025-09-11</td><td>2025-09-11</td><td>1</td><td>10.74</td><td>10.74</td><td>304</td></tr><tr><td>CLI-437</td><td>2025-09-12</td><td>2025-09-12</td><td>1</td><td>10.6</td><td>10.6</td><td>305</td></tr><tr><td>CLI-935</td><td>2025-09-11</td><td>2025-09-11</td><td>1</td><td>10.57</td><td>10.57</td><td>306</td></tr><tr><td>CLI-524</td><td>2025-09-11</td><td>2025-09-11</td><td>1</td><td>10.35</td><td>10.35</td><td>307</td></tr><tr><td>CLI-507</td><td>2025-09-12</td><td>2025-09-12</td><td>1</td><td>9.83</td><td>9.83</td><td>308</td></tr><tr><td>CLI-150</td><td>2025-09-12</td><td>2025-09-12</td><td>1</td><td>9.7</td><td>9.7</td><td>309</td></tr><tr><td>CLI-293</td><td>2025-09-11</td><td>2025-09-11</td><td>1</td><td>9.7</td><td>9.7</td><td>310</td></tr><tr><td>CLI-824</td><td>2025-09-11</td><td>2025-09-11</td><td>1</td><td>9.4</td><td>9.4</td><td>311</td></tr><tr><td>CLI-972</td><td>2025-09-12</td><td>2025-09-12</td><td>1</td><td>9.29</td><td>9.29</td><td>312</td></tr><tr><td>CLI-984</td><td>2025-09-12</td><td>2025-09-12</td><td>1</td><td>9.13</td><td>9.13</td><td>313</td></tr><tr><td>CLI-439</td><td>2025-09-11</td><td>2025-09-11</td><td>1</td><td>8.83</td><td>8.83</td><td>314</td></tr><tr><td>CLI-094</td><td>2025-09-11</td><td>2025-09-11</td><td>1</td><td>8.79</td><td>8.79</td><td>315</td></tr><tr><td>CLI-009</td><td>2025-09-11</td><td>2025-09-11</td><td>1</td><td>8.77</td><td>8.77</td><td>316</td></tr><tr><td>CLI-847</td><td>2025-09-12</td><td>2025-09-12</td><td>1</td><td>8.61</td><td>8.61</td><td>317</td></tr><tr><td>CLI-533</td><td>2025-09-11</td><td>2025-09-11</td><td>1</td><td>8.44</td><td>8.44</td><td>318</td></tr><tr><td>CLI-203</td><td>2025-09-11</td><td>2025-09-11</td><td>1</td><td>8.1</td><td>8.1</td><td>319</td></tr><tr><td>CLI-893</td><td>2025-09-12</td><td>2025-09-12</td><td>1</td><td>8.09</td><td>8.09</td><td>320</td></tr><tr><td>CLI-311</td><td>2025-09-11</td><td>2025-09-11</td><td>1</td><td>7.91</td><td>7.91</td><td>321</td></tr><tr><td>CLI-172</td><td>2025-09-11</td><td>2025-09-11</td><td>1</td><td>7.9</td><td>7.9</td><td>322</td></tr><tr><td>CLI-566</td><td>2025-09-12</td><td>2025-09-12</td><td>1</td><td>7.78</td><td>7.78</td><td>323</td></tr><tr><td>CLI-717</td><td>2025-09-11</td><td>2025-09-11</td><td>1</td><td>7.69</td><td>7.69</td><td>324</td></tr><tr><td>CLI-818</td><td>2025-09-11</td><td>2025-09-11</td><td>1</td><td>7.66</td><td>7.66</td><td>325</td></tr><tr><td>CLI-146</td><td>2025-09-11</td><td>2025-09-11</td><td>1</td><td>7.65</td><td>7.65</td><td>326</td></tr><tr><td>CLI-838</td><td>2025-09-12</td><td>2025-09-12</td><td>1</td><td>7.58</td><td>7.58</td><td>327</td></tr><tr><td>CLI-118</td><td>2025-09-11</td><td>2025-09-11</td><td>1</td><td>7.28</td><td>7.28</td><td>328</td></tr><tr><td>CLI-108</td><td>2025-09-12</td><td>2025-09-12</td><td>1</td><td>7.2</td><td>7.2</td><td>329</td></tr><tr><td>CLI-049</td><td>2025-09-12</td><td>2025-09-12</td><td>1</td><td>6.91</td><td>6.91</td><td>330</td></tr><tr><td>CLI-225</td><td>2025-09-11</td><td>2025-09-11</td><td>1</td><td>6.8</td><td>6.8</td><td>331</td></tr><tr><td>CLI-497</td><td>2025-09-12</td><td>2025-09-12</td><td>1</td><td>6.29</td><td>6.29</td><td>332</td></tr><tr><td>CLI-704</td><td>2025-09-11</td><td>2025-09-11</td><td>1</td><td>6.29</td><td>6.29</td><td>333</td></tr><tr><td>CLI-637</td><td>2025-09-11</td><td>2025-09-11</td><td>1</td><td>6.22</td><td>6.22</td><td>334</td></tr><tr><td>CLI-093</td><td>2025-09-12</td><td>2025-09-12</td><td>1</td><td>6.19</td><td>6.19</td><td>335</td></tr><tr><td>CLI-300</td><td>2025-09-12</td><td>2025-09-12</td><td>1</td><td>6.17</td><td>6.17</td><td>336</td></tr><tr><td>CLI-379</td><td>2025-09-11</td><td>2025-09-11</td><td>1</td><td>6.17</td><td>6.17</td><td>337</td></tr><tr><td>CLI-041</td><td>2025-09-11</td><td>2025-09-11</td><td>1</td><td>6.09</td><td>6.09</td><td>338</td></tr><tr><td>CLI-657</td><td>2025-09-11</td><td>2025-09-11</td><td>1</td><td>6.08</td><td>6.08</td><td>339</td></tr><tr><td>CLI-623</td><td>2025-09-11</td><td>2025-09-11</td><td>1</td><td>5.99</td><td>5.99</td><td>340</td></tr><tr><td>CLI-968</td><td>2025-09-12</td><td>2025-09-12</td><td>1</td><td>5.94</td><td>5.94</td><td>341</td></tr><tr><td>CLI-250</td><td>2025-09-11</td><td>2025-09-11</td><td>1</td><td>5.91</td><td>5.91</td><td>342</td></tr><tr><td>CLI-132</td><td>2025-09-12</td><td>2025-09-12</td><td>1</td><td>5.78</td><td>5.78</td><td>343</td></tr><tr><td>CLI-633</td><td>2025-09-12</td><td>2025-09-12</td><td>1</td><td>5.78</td><td>5.78</td><td>344</td></tr><tr><td>CLI-846</td><td>2025-09-11</td><td>2025-09-11</td><td>1</td><td>5.76</td><td>5.76</td><td>345</td></tr><tr><td>CLI-414</td><td>2025-09-11</td><td>2025-09-11</td><td>1</td><td>5.47</td><td>5.47</td><td>346</td></tr><tr><td>CLI-120</td><td>2025-09-11</td><td>2025-09-11</td><td>1</td><td>5.42</td><td>5.42</td><td>347</td></tr><tr><td>CLI-477</td><td>2025-09-11</td><td>2025-09-11</td><td>1</td><td>5.24</td><td>5.24</td><td>348</td></tr><tr><td>CLI-089</td><td>2025-09-11</td><td>2025-09-11</td><td>1</td><td>5.15</td><td>5.15</td><td>349</td></tr><tr><td>CLI-877</td><td>2025-09-12</td><td>2025-09-12</td><td>1</td><td>5.15</td><td>5.15</td><td>350</td></tr><tr><td>CLI-347</td><td>2025-09-11</td><td>2025-09-11</td><td>1</td><td>5.13</td><td>5.13</td><td>351</td></tr><tr><td>CLI-007</td><td>2025-09-11</td><td>2025-09-11</td><td>1</td><td>5.03</td><td>5.03</td><td>352</td></tr><tr><td>CLI-542</td><td>2025-09-11</td><td>2025-09-11</td><td>1</td><td>5.01</td><td>5.01</td><td>353</td></tr><tr><td>CLI-023</td><td>2025-09-11</td><td>2025-09-11</td><td>1</td><td>4.77</td><td>4.77</td><td>354</td></tr><tr><td>CLI-302</td><td>2025-09-12</td><td>2025-09-12</td><td>1</td><td>4.57</td><td>4.57</td><td>355</td></tr><tr><td>CLI-548</td><td>2025-09-12</td><td>2025-09-12</td><td>1</td><td>4.57</td><td>4.57</td><td>356</td></tr><tr><td>CLI-830</td><td>2025-09-11</td><td>2025-09-11</td><td>1</td><td>4.52</td><td>4.52</td><td>357</td></tr><tr><td>CLI-280</td><td>2025-09-12</td><td>2025-09-12</td><td>1</td><td>4.14</td><td>4.14</td><td>358</td></tr><tr><td>CLI-813</td><td>2025-09-11</td><td>2025-09-11</td><td>1</td><td>4.1</td><td>4.1</td><td>359</td></tr><tr><td>CLI-845</td><td>2025-09-11</td><td>2025-09-11</td><td>1</td><td>4.05</td><td>4.05</td><td>360</td></tr><tr><td>CLI-911</td><td>2025-09-12</td><td>2025-09-12</td><td>1</td><td>4.05</td><td>4.05</td><td>361</td></tr><tr><td>CLI-472</td><td>2025-09-12</td><td>2025-09-12</td><td>1</td><td>3.9</td><td>3.9</td><td>362</td></tr><tr><td>CLI-974</td><td>2025-09-11</td><td>2025-09-11</td><td>1</td><td>3.9</td><td>3.9</td><td>363</td></tr><tr><td>CLI-947</td><td>2025-09-11</td><td>2025-09-11</td><td>1</td><td>3.88</td><td>3.88</td><td>364</td></tr><tr><td>CLI-192</td><td>2025-09-11</td><td>2025-09-11</td><td>1</td><td>3.6</td><td>3.6</td><td>365</td></tr><tr><td>CLI-481</td><td>2025-09-12</td><td>2025-09-12</td><td>1</td><td>3.33</td><td>3.33</td><td>366</td></tr><tr><td>CLI-919</td><td>2025-09-11</td><td>2025-09-11</td><td>1</td><td>3.16</td><td>3.16</td><td>367</td></tr><tr><td>CLI-866</td><td>2025-09-11</td><td>2025-09-11</td><td>1</td><td>3.15</td><td>3.15</td><td>368</td></tr><tr><td>CLI-412</td><td>2025-09-12</td><td>2025-09-12</td><td>1</td><td>3.14</td><td>3.14</td><td>369</td></tr><tr><td>CLI-973</td><td>2025-09-11</td><td>2025-09-11</td><td>1</td><td>3.0</td><td>3.0</td><td>370</td></tr><tr><td>CLI-290</td><td>2025-09-11</td><td>2025-09-11</td><td>1</td><td>2.95</td><td>2.95</td><td>371</td></tr><tr><td>CLI-679</td><td>2025-09-11</td><td>2025-09-11</td><td>1</td><td>2.95</td><td>2.95</td><td>372</td></tr><tr><td>CLI-615</td><td>2025-09-11</td><td>2025-09-11</td><td>1</td><td>2.6</td><td>2.6</td><td>373</td></tr><tr><td>CLI-064</td><td>2025-09-11</td><td>2025-09-11</td><td>1</td><td>2.5</td><td>2.5</td><td>374</td></tr><tr><td>CLI-782</td><td>2025-09-11</td><td>2025-09-11</td><td>1</td><td>2.44</td><td>2.44</td><td>375</td></tr><tr><td>CLI-634</td><td>2025-09-12</td><td>2025-09-12</td><td>1</td><td>2.31</td><td>2.31</td><td>376</td></tr><tr><td>CLI-193</td><td>2025-09-12</td><td>2025-09-12</td><td>1</td><td>2.27</td><td>2.27</td><td>377</td></tr><tr><td>CLI-541</td><td>2025-09-12</td><td>2025-09-12</td><td>1</td><td>2.12</td><td>2.12</td><td>378</td></tr><tr><td>CLI-572</td><td>2025-09-11</td><td>2025-09-11</td><td>1</td><td>2.05</td><td>2.05</td><td>379</td></tr><tr><td>CLI-314</td><td>2025-09-12</td><td>2025-09-12</td><td>1</td><td>2.04</td><td>2.04</td><td>380</td></tr><tr><td>CLI-338</td><td>2025-09-11</td><td>2025-09-11</td><td>1</td><td>1.88</td><td>1.88</td><td>381</td></tr><tr><td>CLI-356</td><td>2025-09-11</td><td>2025-09-11</td><td>1</td><td>1.81</td><td>1.81</td><td>382</td></tr><tr><td>CLI-549</td><td>2025-09-11</td><td>2025-09-11</td><td>1</td><td>1.71</td><td>1.71</td><td>383</td></tr><tr><td>CLI-494</td><td>2025-09-11</td><td>2025-09-11</td><td>1</td><td>1.61</td><td>1.61</td><td>384</td></tr><tr><td>CLI-635</td><td>2025-09-12</td><td>2025-09-12</td><td>1</td><td>1.59</td><td>1.59</td><td>385</td></tr><tr><td>CLI-200</td><td>2025-09-11</td><td>2025-09-11</td><td>1</td><td>1.55</td><td>1.55</td><td>386</td></tr><tr><td>CLI-551</td><td>2025-09-11</td><td>2025-09-11</td><td>1</td><td>1.54</td><td>1.54</td><td>387</td></tr><tr><td>CLI-611</td><td>2025-09-11</td><td>2025-09-11</td><td>1</td><td>1.51</td><td>1.51</td><td>388</td></tr><tr><td>CLI-189</td><td>2025-09-12</td><td>2025-09-12</td><td>1</td><td>1.47</td><td>1.47</td><td>389</td></tr><tr><td>CLI-965</td><td>2025-09-11</td><td>2025-09-11</td><td>1</td><td>1.34</td><td>1.34</td><td>390</td></tr><tr><td>CLI-354</td><td>2025-09-12</td><td>2025-09-12</td><td>1</td><td>1.32</td><td>1.32</td><td>391</td></tr><tr><td>CLI-978</td><td>2025-09-11</td><td>2025-09-11</td><td>1</td><td>1.27</td><td>1.27</td><td>392</td></tr><tr><td>CLI-563</td><td>2025-09-12</td><td>2025-09-12</td><td>1</td><td>1.2</td><td>1.2</td><td>393</td></tr><tr><td>CLI-350</td><td>2025-09-11</td><td>2025-09-11</td><td>1</td><td>1.19</td><td>1.19</td><td>394</td></tr><tr><td>CLI-375</td><td>2025-09-11</td><td>2025-09-11</td><td>1</td><td>1.13</td><td>1.13</td><td>395</td></tr><tr><td>CLI-650</td><td>2025-09-11</td><td>2025-09-11</td><td>1</td><td>0.86</td><td>0.86</td><td>396</td></tr><tr><td>CLI-291</td><td>2025-09-11</td><td>2025-09-11</td><td>1</td><td>0.84</td><td>0.84</td><td>397</td></tr><tr><td>CLI-272</td><td>2025-09-11</td><td>2025-09-11</td><td>1</td><td>0.8</td><td>0.8</td><td>398</td></tr><tr><td>CLI-742</td><td>2025-09-12</td><td>2025-09-12</td><td>1</td><td>0.57</td><td>0.57</td><td>399</td></tr><tr><td>CLI-760</td><td>2025-09-11</td><td>2025-09-11</td><td>1</td><td>0.28</td><td>0.28</td><td>400</td></tr></tbody></table></div>"
      ]
     },
     "metadata": {
      "application/vnd.databricks.v1+output": {
       "addedWidgets": {},
       "aggData": [],
       "aggError": "",
       "aggOverflow": false,
       "aggSchema": [],
       "aggSeriesLimitReached": false,
       "aggType": "",
       "arguments": {},
       "columnCustomDisplayInfos": {},
       "data": [
        [
         "CLI-365",
         "2025-09-11",
         "2025-09-12",
         4,
         593.7099999999999,
         148.42749999999998,
         1
        ],
        [
         "CLI-580",
         "2025-09-11",
         "2025-09-12",
         3,
         1966.94,
         655.6466666666666,
         2
        ],
        [
         "CLI-462",
         "2025-09-11",
         "2025-09-12",
         3,
         1107.86,
         369.28666666666663,
         3
        ],
        [
         "CLI-129",
         "2025-09-11",
         "2025-09-12",
         3,
         436.81,
         145.60333333333332,
         4
        ],
        [
         "CLI-823",
         "2025-09-11",
         "2025-09-11",
         3,
         302.26,
         100.75333333333333,
         5
        ],
        [
         "CLI-102",
         "2025-09-11",
         "2025-09-11",
         3,
         232.95,
         77.64999999999999,
         6
        ],
        [
         "CLI-246",
         "2025-09-11",
         "2025-09-12",
         3,
         164.16000000000003,
         54.720000000000006,
         7
        ],
        [
         "CLI-788",
         "2025-09-11",
         "2025-09-12",
         3,
         151.44,
         50.48,
         8
        ],
        [
         "CLI-028",
         "2025-09-12",
         "2025-09-12",
         3,
         87.49,
         29.16333333333333,
         9
        ],
        [
         "CLI-447",
         "2025-09-11",
         "2025-09-12",
         3,
         67.66,
         22.55333333333333,
         10
        ],
        [
         "CLI-829",
         "2025-09-11",
         "2025-09-11",
         3,
         55.89,
         18.63,
         11
        ],
        [
         "CLI-461",
         "2025-09-11",
         "2025-09-12",
         3,
         39.36,
         13.12,
         12
        ],
        [
         "CLI-751",
         "2025-09-11",
         "2025-09-11",
         3,
         23.99,
         7.996666666666666,
         13
        ],
        [
         "CLI-529",
         "2025-09-11",
         "2025-09-11",
         3,
         11.02,
         3.6733333333333333,
         14
        ],
        [
         "CLI-430",
         "2025-09-11",
         "2025-09-11",
         2,
         6858.530000000001,
         3429.2650000000003,
         15
        ],
        [
         "CLI-864",
         "2025-09-11",
         "2025-09-12",
         2,
         4590.13,
         2295.065,
         16
        ],
        [
         "CLI-618",
         "2025-09-11",
         "2025-09-12",
         2,
         2203.69,
         1101.845,
         17
        ],
        [
         "CLI-619",
         "2025-09-11",
         "2025-09-11",
         2,
         2071.48,
         1035.74,
         18
        ],
        [
         "CLI-459",
         "2025-09-11",
         "2025-09-12",
         2,
         1687.14,
         843.57,
         19
        ],
        [
         "CLI-654",
         "2025-09-11",
         "2025-09-12",
         2,
         1147.77,
         573.885,
         20
        ],
        [
         "CLI-340",
         "2025-09-11",
         "2025-09-11",
         2,
         1085.6,
         542.8,
         21
        ],
        [
         "CLI-394",
         "2025-09-11",
         "2025-09-12",
         2,
         713.39,
         356.695,
         22
        ],
        [
         "CLI-111",
         "2025-09-11",
         "2025-09-12",
         2,
         650.12,
         325.06,
         23
        ],
        [
         "CLI-870",
         "2025-09-11",
         "2025-09-12",
         2,
         633.44,
         316.72,
         24
        ],
        [
         "CLI-774",
         "2025-09-11",
         "2025-09-11",
         2,
         633.39,
         316.695,
         25
        ],
        [
         "CLI-925",
         "2025-09-11",
         "2025-09-12",
         2,
         628.26,
         314.13,
         26
        ],
        [
         "CLI-543",
         "2025-09-12",
         "2025-09-12",
         2,
         602.11,
         301.055,
         27
        ],
        [
         "CLI-384",
         "2025-09-11",
         "2025-09-12",
         2,
         464.59000000000003,
         232.29500000000002,
         28
        ],
        [
         "CLI-319",
         "2025-09-11",
         "2025-09-12",
         2,
         459.15999999999997,
         229.57999999999998,
         29
        ],
        [
         "CLI-641",
         "2025-09-11",
         "2025-09-11",
         2,
         391.56,
         195.78,
         30
        ],
        [
         "CLI-772",
         "2025-09-11",
         "2025-09-12",
         2,
         387.75,
         193.875,
         31
        ],
        [
         "CLI-377",
         "2025-09-11",
         "2025-09-11",
         2,
         326.46000000000004,
         163.23000000000002,
         32
        ],
        [
         "CLI-582",
         "2025-09-12",
         "2025-09-12",
         2,
         290.84999999999997,
         145.42499999999998,
         33
        ],
        [
         "CLI-092",
         "2025-09-11",
         "2025-09-12",
         2,
         260.21000000000004,
         130.10500000000002,
         34
        ],
        [
         "CLI-523",
         "2025-09-11",
         "2025-09-12",
         2,
         253.32,
         126.66,
         35
        ],
        [
         "CLI-878",
         "2025-09-11",
         "2025-09-12",
         2,
         198.93,
         99.465,
         36
        ],
        [
         "CLI-053",
         "2025-09-11",
         "2025-09-12",
         2,
         195.32,
         97.66,
         37
        ],
        [
         "CLI-364",
         "2025-09-11",
         "2025-09-12",
         2,
         183.76,
         91.88,
         38
        ],
        [
         "CLI-387",
         "2025-09-12",
         "2025-09-12",
         2,
         178.1,
         89.05,
         39
        ],
        [
         "CLI-565",
         "2025-09-11",
         "2025-09-12",
         2,
         168.32,
         84.16,
         40
        ],
        [
         "CLI-685",
         "2025-09-11",
         "2025-09-12",
         2,
         128.67,
         64.335,
         41
        ],
        [
         "CLI-802",
         "2025-09-11",
         "2025-09-11",
         2,
         125.41000000000001,
         62.705000000000005,
         42
        ],
        [
         "CLI-138",
         "2025-09-11",
         "2025-09-12",
         2,
         119.31,
         59.655,
         43
        ],
        [
         "CLI-511",
         "2025-09-11",
         "2025-09-12",
         2,
         109.35,
         54.675,
         44
        ],
        [
         "CLI-777",
         "2025-09-11",
         "2025-09-11",
         2,
         106.97999999999999,
         53.489999999999995,
         45
        ],
        [
         "CLI-479",
         "2025-09-12",
         "2025-09-12",
         2,
         89.30000000000001,
         44.650000000000006,
         46
        ],
        [
         "CLI-425",
         "2025-09-11",
         "2025-09-12",
         2,
         85.67,
         42.835,
         47
        ],
        [
         "CLI-145",
         "2025-09-11",
         "2025-09-12",
         2,
         76.83,
         38.415,
         48
        ],
        [
         "CLI-214",
         "2025-09-11",
         "2025-09-12",
         2,
         75.87,
         37.935,
         49
        ],
        [
         "CLI-521",
         "2025-09-11",
         "2025-09-12",
         2,
         75.41,
         37.705,
         50
        ],
        [
         "CLI-313",
         "2025-09-11",
         "2025-09-11",
         2,
         70.57000000000001,
         35.285000000000004,
         51
        ],
        [
         "CLI-931",
         "2025-09-11",
         "2025-09-11",
         2,
         70.08,
         35.04,
         52
        ],
        [
         "CLI-903",
         "2025-09-12",
         "2025-09-12",
         2,
         68.80000000000001,
         34.400000000000006,
         53
        ],
        [
         "CLI-732",
         "2025-09-11",
         "2025-09-11",
         2,
         66.19,
         33.095,
         54
        ],
        [
         "CLI-001",
         "2025-09-11",
         "2025-09-11",
         2,
         64.36,
         32.18,
         55
        ],
        [
         "CLI-539",
         "2025-09-11",
         "2025-09-11",
         2,
         63.779999999999994,
         31.889999999999997,
         56
        ],
        [
         "CLI-906",
         "2025-09-11",
         "2025-09-12",
         2,
         61.05,
         30.525,
         57
        ],
        [
         "CLI-946",
         "2025-09-11",
         "2025-09-12",
         2,
         58.77,
         29.385,
         58
        ],
        [
         "CLI-085",
         "2025-09-11",
         "2025-09-12",
         2,
         56.73,
         28.365,
         59
        ],
        [
         "CLI-396",
         "2025-09-11",
         "2025-09-12",
         2,
         55.0,
         27.5,
         60
        ],
        [
         "CLI-819",
         "2025-09-12",
         "2025-09-12",
         2,
         54.650000000000006,
         27.325000000000003,
         61
        ],
        [
         "CLI-294",
         "2025-09-11",
         "2025-09-12",
         2,
         53.14,
         26.57,
         62
        ],
        [
         "CLI-274",
         "2025-09-11",
         "2025-09-12",
         2,
         48.809999999999995,
         24.404999999999998,
         63
        ],
        [
         "CLI-738",
         "2025-09-11",
         "2025-09-11",
         2,
         48.239999999999995,
         24.119999999999997,
         64
        ],
        [
         "CLI-201",
         "2025-09-11",
         "2025-09-11",
         2,
         43.75,
         21.875,
         65
        ],
        [
         "CLI-208",
         "2025-09-11",
         "2025-09-12",
         2,
         42.44,
         21.22,
         66
        ],
        [
         "CLI-320",
         "2025-09-12",
         "2025-09-12",
         2,
         35.21,
         17.605,
         67
        ],
        [
         "CLI-358",
         "2025-09-11",
         "2025-09-11",
         2,
         33.59,
         16.795,
         68
        ],
        [
         "CLI-318",
         "2025-09-11",
         "2025-09-12",
         2,
         33.56999999999999,
         16.784999999999997,
         69
        ],
        [
         "CLI-491",
         "2025-09-11",
         "2025-09-12",
         2,
         29.3,
         14.65,
         70
        ],
        [
         "CLI-485",
         "2025-09-11",
         "2025-09-11",
         2,
         29.1,
         14.55,
         71
        ],
        [
         "CLI-964",
         "2025-09-11",
         "2025-09-11",
         2,
         27.310000000000002,
         13.655000000000001,
         72
        ],
        [
         "CLI-173",
         "2025-09-11",
         "2025-09-12",
         2,
         25.39,
         12.695,
         73
        ],
        [
         "CLI-927",
         "2025-09-11",
         "2025-09-12",
         2,
         25.380000000000003,
         12.690000000000001,
         74
        ],
        [
         "CLI-705",
         "2025-09-11",
         "2025-09-12",
         2,
         25.060000000000002,
         12.530000000000001,
         75
        ],
        [
         "CLI-778",
         "2025-09-11",
         "2025-09-12",
         2,
         24.060000000000002,
         12.030000000000001,
         76
        ],
        [
         "CLI-063",
         "2025-09-11",
         "2025-09-12",
         2,
         21.97,
         10.985,
         77
        ],
        [
         "CLI-616",
         "2025-09-11",
         "2025-09-11",
         2,
         18.51,
         9.255,
         78
        ],
        [
         "CLI-515",
         "2025-09-11",
         "2025-09-12",
         2,
         16.62,
         8.31,
         79
        ],
        [
         "CLI-966",
         "2025-09-11",
         "2025-09-12",
         2,
         14.870000000000001,
         7.4350000000000005,
         80
        ],
        [
         "CLI-216",
         "2025-09-11",
         "2025-09-12",
         2,
         11.8,
         5.9,
         81
        ],
        [
         "CLI-229",
         "2025-09-11",
         "2025-09-12",
         2,
         11.57,
         5.785,
         82
        ],
        [
         "CLI-969",
         "2025-09-12",
         "2025-09-12",
         2,
         11.059999999999999,
         5.529999999999999,
         83
        ],
        [
         "CLI-286",
         "2025-09-11",
         "2025-09-11",
         2,
         8.959999999999999,
         4.4799999999999995,
         84
        ],
        [
         "CLI-781",
         "2025-09-11",
         "2025-09-11",
         2,
         5.529999999999999,
         2.7649999999999997,
         85
        ],
        [
         "CLI-303",
         "2025-09-11",
         "2025-09-11",
         1,
         8984.8,
         8984.8,
         86
        ],
        [
         "CLI-278",
         "2025-09-11",
         "2025-09-11",
         1,
         3706.94,
         3706.94,
         87
        ],
        [
         "CLI-110",
         "2025-09-12",
         "2025-09-12",
         1,
         2320.76,
         2320.76,
         88
        ],
        [
         "CLI-832",
         "2025-09-11",
         "2025-09-11",
         1,
         2304.94,
         2304.94,
         89
        ],
        [
         "CLI-206",
         "2025-09-12",
         "2025-09-12",
         1,
         1977.76,
         1977.76,
         90
        ],
        [
         "CLI-571",
         "2025-09-11",
         "2025-09-11",
         1,
         1698.62,
         1698.62,
         91
        ],
        [
         "CLI-977",
         "2025-09-12",
         "2025-09-12",
         1,
         1642.74,
         1642.74,
         92
        ],
        [
         "CLI-998",
         "2025-09-12",
         "2025-09-12",
         1,
         1469.46,
         1469.46,
         93
        ],
        [
         "CLI-895",
         "2025-09-12",
         "2025-09-12",
         1,
         1446.2,
         1446.2,
         94
        ],
        [
         "CLI-784",
         "2025-09-11",
         "2025-09-11",
         1,
         1343.7,
         1343.7,
         95
        ],
        [
         "CLI-005",
         "2025-09-11",
         "2025-09-11",
         1,
         1272.85,
         1272.85,
         96
        ],
        [
         "CLI-137",
         "2025-09-12",
         "2025-09-12",
         1,
         1237.87,
         1237.87,
         97
        ],
        [
         "CLI-017",
         "2025-09-12",
         "2025-09-12",
         1,
         1113.12,
         1113.12,
         98
        ],
        [
         "CLI-332",
         "2025-09-11",
         "2025-09-11",
         1,
         964.74,
         964.74,
         99
        ],
        [
         "CLI-644",
         "2025-09-11",
         "2025-09-11",
         1,
         916.92,
         916.92,
         100
        ],
        [
         "CLI-451",
         "2025-09-11",
         "2025-09-11",
         1,
         879.85,
         879.85,
         101
        ],
        [
         "CLI-407",
         "2025-09-11",
         "2025-09-11",
         1,
         796.71,
         796.71,
         102
        ],
        [
         "CLI-749",
         "2025-09-11",
         "2025-09-11",
         1,
         773.19,
         773.19,
         103
        ],
        [
         "CLI-030",
         "2025-09-11",
         "2025-09-11",
         1,
         733.8,
         733.8,
         104
        ],
        [
         "CLI-914",
         "2025-09-12",
         "2025-09-12",
         1,
         733.19,
         733.19,
         105
        ],
        [
         "CLI-449",
         "2025-09-11",
         "2025-09-11",
         1,
         664.87,
         664.87,
         106
        ],
        [
         "CLI-409",
         "2025-09-11",
         "2025-09-11",
         1,
         578.81,
         578.81,
         107
        ],
        [
         "CLI-343",
         "2025-09-12",
         "2025-09-12",
         1,
         514.99,
         514.99,
         108
        ],
        [
         "CLI-748",
         "2025-09-11",
         "2025-09-11",
         1,
         504.26,
         504.26,
         109
        ],
        [
         "CLI-831",
         "2025-09-12",
         "2025-09-12",
         1,
         500.08,
         500.08,
         110
        ],
        [
         "CLI-605",
         "2025-09-12",
         "2025-09-12",
         1,
         440.26,
         440.26,
         111
        ],
        [
         "CLI-478",
         "2025-09-11",
         "2025-09-11",
         1,
         420.11,
         420.11,
         112
        ],
        [
         "CLI-422",
         "2025-09-11",
         "2025-09-11",
         1,
         391.11,
         391.11,
         113
        ],
        [
         "CLI-522",
         "2025-09-11",
         "2025-09-11",
         1,
         384.73,
         384.73,
         114
        ],
        [
         "CLI-722",
         "2025-09-11",
         "2025-09-11",
         1,
         362.6,
         362.6,
         115
        ],
        [
         "CLI-067",
         "2025-09-11",
         "2025-09-11",
         1,
         361.74,
         361.74,
         116
        ],
        [
         "CLI-211",
         "2025-09-12",
         "2025-09-12",
         1,
         337.93,
         337.93,
         117
        ],
        [
         "CLI-429",
         "2025-09-12",
         "2025-09-12",
         1,
         327.27,
         327.27,
         118
        ],
        [
         "CLI-348",
         "2025-09-12",
         "2025-09-12",
         1,
         301.89,
         301.89,
         119
        ],
        [
         "CLI-373",
         "2025-09-11",
         "2025-09-11",
         1,
         295.85,
         295.85,
         120
        ],
        [
         "CLI-438",
         "2025-09-11",
         "2025-09-11",
         1,
         293.45,
         293.45,
         121
        ],
        [
         "CLI-828",
         "2025-09-11",
         "2025-09-11",
         1,
         288.44,
         288.44,
         122
        ],
        [
         "CLI-194",
         "2025-09-12",
         "2025-09-12",
         1,
         272.53,
         272.53,
         123
        ],
        [
         "CLI-406",
         "2025-09-11",
         "2025-09-11",
         1,
         270.09,
         270.09,
         124
        ],
        [
         "CLI-114",
         "2025-09-12",
         "2025-09-12",
         1,
         255.11,
         255.11,
         125
        ],
        [
         "CLI-664",
         "2025-09-12",
         "2025-09-12",
         1,
         245.41,
         245.41,
         126
        ],
        [
         "CLI-743",
         "2025-09-11",
         "2025-09-11",
         1,
         228.05,
         228.05,
         127
        ],
        [
         "CLI-976",
         "2025-09-11",
         "2025-09-11",
         1,
         221.01,
         221.01,
         128
        ],
        [
         "CLI-359",
         "2025-09-12",
         "2025-09-12",
         1,
         212.7,
         212.7,
         129
        ],
        [
         "CLI-630",
         "2025-09-11",
         "2025-09-11",
         1,
         210.79,
         210.79,
         130
        ],
        [
         "CLI-048",
         "2025-09-11",
         "2025-09-11",
         1,
         207.13,
         207.13,
         131
        ],
        [
         "CLI-228",
         "2025-09-11",
         "2025-09-11",
         1,
         204.78,
         204.78,
         132
        ],
        [
         "CLI-142",
         "2025-09-11",
         "2025-09-11",
         1,
         204.5,
         204.5,
         133
        ],
        [
         "CLI-734",
         "2025-09-12",
         "2025-09-12",
         1,
         201.88,
         201.88,
         134
        ],
        [
         "CLI-244",
         "2025-09-11",
         "2025-09-11",
         1,
         201.75,
         201.75,
         135
        ],
        [
         "CLI-065",
         "2025-09-11",
         "2025-09-11",
         1,
         194.26,
         194.26,
         136
        ],
        [
         "CLI-806",
         "2025-09-12",
         "2025-09-12",
         1,
         193.15,
         193.15,
         137
        ],
        [
         "CLI-608",
         "2025-09-11",
         "2025-09-11",
         1,
         186.86,
         186.86,
         138
        ],
        [
         "CLI-287",
         "2025-09-12",
         "2025-09-12",
         1,
         183.22,
         183.22,
         139
        ],
        [
         "CLI-668",
         "2025-09-12",
         "2025-09-12",
         1,
         180.25,
         180.25,
         140
        ],
        [
         "CLI-434",
         "2025-09-11",
         "2025-09-11",
         1,
         176.68,
         176.68,
         141
        ],
        [
         "CLI-535",
         "2025-09-12",
         "2025-09-12",
         1,
         175.01,
         175.01,
         142
        ],
        [
         "CLI-317",
         "2025-09-11",
         "2025-09-11",
         1,
         167.93,
         167.93,
         143
        ],
        [
         "CLI-195",
         "2025-09-11",
         "2025-09-11",
         1,
         159.98,
         159.98,
         144
        ],
        [
         "CLI-560",
         "2025-09-11",
         "2025-09-11",
         1,
         158.54,
         158.54,
         145
        ],
        [
         "CLI-803",
         "2025-09-11",
         "2025-09-11",
         1,
         150.51,
         150.51,
         146
        ],
        [
         "CLI-612",
         "2025-09-11",
         "2025-09-11",
         1,
         150.34,
         150.34,
         147
        ],
        [
         "CLI-086",
         "2025-09-11",
         "2025-09-11",
         1,
         150.23,
         150.23,
         148
        ],
        [
         "CLI-240",
         "2025-09-12",
         "2025-09-12",
         1,
         149.74,
         149.74,
         149
        ],
        [
         "CLI-961",
         "2025-09-11",
         "2025-09-11",
         1,
         147.84,
         147.84,
         150
        ],
        [
         "CLI-190",
         "2025-09-11",
         "2025-09-11",
         1,
         145.71,
         145.71,
         151
        ],
        [
         "CLI-932",
         "2025-09-12",
         "2025-09-12",
         1,
         144.61,
         144.61,
         152
        ],
        [
         "CLI-949",
         "2025-09-11",
         "2025-09-11",
         1,
         142.03,
         142.03,
         153
        ],
        [
         "CLI-697",
         "2025-09-11",
         "2025-09-11",
         1,
         127.24,
         127.24,
         154
        ],
        [
         "CLI-733",
         "2025-09-12",
         "2025-09-12",
         1,
         126.52,
         126.52,
         155
        ],
        [
         "CLI-730",
         "2025-09-12",
         "2025-09-12",
         1,
         124.6,
         124.6,
         156
        ],
        [
         "CLI-620",
         "2025-09-12",
         "2025-09-12",
         1,
         123.35,
         123.35,
         157
        ],
        [
         "CLI-334",
         "2025-09-12",
         "2025-09-12",
         1,
         123.06,
         123.06,
         158
        ],
        [
         "CLI-860",
         "2025-09-12",
         "2025-09-12",
         1,
         119.85,
         119.85,
         159
        ],
        [
         "CLI-333",
         "2025-09-12",
         "2025-09-12",
         1,
         117.76,
         117.76,
         160
        ],
        [
         "CLI-597",
         "2025-09-11",
         "2025-09-11",
         1,
         107.94,
         107.94,
         161
        ],
        [
         "CLI-790",
         "2025-09-11",
         "2025-09-11",
         1,
         105.39,
         105.39,
         162
        ],
        [
         "CLI-223",
         "2025-09-12",
         "2025-09-12",
         1,
         104.88,
         104.88,
         163
        ],
        [
         "CLI-100",
         "2025-09-11",
         "2025-09-11",
         1,
         104.06,
         104.06,
         164
        ],
        [
         "CLI-865",
         "2025-09-12",
         "2025-09-12",
         1,
         103.08,
         103.08,
         165
        ],
        [
         "CLI-036",
         "2025-09-11",
         "2025-09-11",
         1,
         101.76,
         101.76,
         166
        ],
        [
         "CLI-465",
         "2025-09-12",
         "2025-09-12",
         1,
         100.32,
         100.32,
         167
        ],
        [
         "CLI-366",
         "2025-09-12",
         "2025-09-12",
         1,
         100.26,
         100.26,
         168
        ],
        [
         "CLI-595",
         "2025-09-11",
         "2025-09-11",
         1,
         95.7,
         95.7,
         169
        ],
        [
         "CLI-043",
         "2025-09-11",
         "2025-09-11",
         1,
         91.31,
         91.31,
         170
        ],
        [
         "CLI-922",
         "2025-09-11",
         "2025-09-11",
         1,
         89.79,
         89.79,
         171
        ],
        [
         "CLI-034",
         "2025-09-11",
         "2025-09-11",
         1,
         88.69,
         88.69,
         172
        ],
        [
         "CLI-254",
         "2025-09-12",
         "2025-09-12",
         1,
         88.6,
         88.6,
         173
        ],
        [
         "CLI-363",
         "2025-09-12",
         "2025-09-12",
         1,
         82.57,
         82.57,
         174
        ],
        [
         "CLI-727",
         "2025-09-11",
         "2025-09-11",
         1,
         82.29,
         82.29,
         175
        ],
        [
         "CLI-400",
         "2025-09-11",
         "2025-09-11",
         1,
         82.25,
         82.25,
         176
        ],
        [
         "CLI-456",
         "2025-09-11",
         "2025-09-11",
         1,
         82.02,
         82.02,
         177
        ],
        [
         "CLI-322",
         "2025-09-11",
         "2025-09-11",
         1,
         81.79,
         81.79,
         178
        ],
        [
         "CLI-848",
         "2025-09-11",
         "2025-09-11",
         1,
         80.16,
         80.16,
         179
        ],
        [
         "CLI-768",
         "2025-09-11",
         "2025-09-11",
         1,
         79.13,
         79.13,
         180
        ],
        [
         "CLI-939",
         "2025-09-12",
         "2025-09-12",
         1,
         78.43,
         78.43,
         181
        ],
        [
         "CLI-954",
         "2025-09-12",
         "2025-09-12",
         1,
         71.4,
         71.4,
         182
        ],
        [
         "CLI-099",
         "2025-09-12",
         "2025-09-12",
         1,
         66.67,
         66.67,
         183
        ],
        [
         "CLI-133",
         "2025-09-12",
         "2025-09-12",
         1,
         65.84,
         65.84,
         184
        ],
        [
         "CLI-747",
         "2025-09-12",
         "2025-09-12",
         1,
         65.72,
         65.72,
         185
        ],
        [
         "CLI-871",
         "2025-09-11",
         "2025-09-11",
         1,
         64.78,
         64.78,
         186
        ],
        [
         "CLI-581",
         "2025-09-12",
         "2025-09-12",
         1,
         63.08,
         63.08,
         187
        ],
        [
         "CLI-283",
         "2025-09-11",
         "2025-09-11",
         1,
         61.88,
         61.88,
         188
        ],
        [
         "CLI-380",
         "2025-09-11",
         "2025-09-11",
         1,
         61.5,
         61.5,
         189
        ],
        [
         "CLI-683",
         "2025-09-11",
         "2025-09-11",
         1,
         61.33,
         61.33,
         190
        ],
        [
         "CLI-853",
         "2025-09-11",
         "2025-09-11",
         1,
         61.1,
         61.1,
         191
        ],
        [
         "CLI-951",
         "2025-09-12",
         "2025-09-12",
         1,
         60.69,
         60.69,
         192
        ],
        [
         "CLI-103",
         "2025-09-12",
         "2025-09-12",
         1,
         60.53,
         60.53,
         193
        ],
        [
         "CLI-825",
         "2025-09-11",
         "2025-09-11",
         1,
         60.4,
         60.4,
         194
        ],
        [
         "CLI-785",
         "2025-09-11",
         "2025-09-11",
         1,
         59.67,
         59.67,
         195
        ],
        [
         "CLI-989",
         "2025-09-12",
         "2025-09-12",
         1,
         57.1,
         57.1,
         196
        ],
        [
         "CLI-175",
         "2025-09-12",
         "2025-09-12",
         1,
         56.05,
         56.05,
         197
        ],
        [
         "CLI-646",
         "2025-09-12",
         "2025-09-12",
         1,
         55.69,
         55.69,
         198
        ],
        [
         "CLI-182",
         "2025-09-11",
         "2025-09-11",
         1,
         55.61,
         55.61,
         199
        ],
        [
         "CLI-378",
         "2025-09-11",
         "2025-09-11",
         1,
         53.03,
         53.03,
         200
        ],
        [
         "CLI-420",
         "2025-09-11",
         "2025-09-11",
         1,
         52.71,
         52.71,
         201
        ],
        [
         "CLI-004",
         "2025-09-11",
         "2025-09-11",
         1,
         52.46,
         52.46,
         202
        ],
        [
         "CLI-899",
         "2025-09-11",
         "2025-09-11",
         1,
         51.09,
         51.09,
         203
        ],
        [
         "CLI-869",
         "2025-09-12",
         "2025-09-12",
         1,
         50.63,
         50.63,
         204
        ],
        [
         "CLI-898",
         "2025-09-11",
         "2025-09-11",
         1,
         48.54,
         48.54,
         205
        ],
        [
         "CLI-139",
         "2025-09-11",
         "2025-09-11",
         1,
         48.34,
         48.34,
         206
        ],
        [
         "CLI-079",
         "2025-09-12",
         "2025-09-12",
         1,
         48.04,
         48.04,
         207
        ],
        [
         "CLI-134",
         "2025-09-11",
         "2025-09-11",
         1,
         46.99,
         46.99,
         208
        ],
        [
         "CLI-328",
         "2025-09-11",
         "2025-09-11",
         1,
         46.57,
         46.57,
         209
        ],
        [
         "CLI-854",
         "2025-09-12",
         "2025-09-12",
         1,
         46.15,
         46.15,
         210
        ],
        [
         "CLI-800",
         "2025-09-11",
         "2025-09-11",
         1,
         44.31,
         44.31,
         211
        ],
        [
         "CLI-574",
         "2025-09-11",
         "2025-09-11",
         1,
         43.96,
         43.96,
         212
        ],
        [
         "CLI-268",
         "2025-09-11",
         "2025-09-11",
         1,
         42.75,
         42.75,
         213
        ],
        [
         "CLI-271",
         "2025-09-12",
         "2025-09-12",
         1,
         42.19,
         42.19,
         214
        ],
        [
         "CLI-226",
         "2025-09-12",
         "2025-09-12",
         1,
         41.38,
         41.38,
         215
        ],
        [
         "CLI-218",
         "2025-09-11",
         "2025-09-11",
         1,
         40.7,
         40.7,
         216
        ],
        [
         "CLI-900",
         "2025-09-11",
         "2025-09-11",
         1,
         40.65,
         40.65,
         217
        ],
        [
         "CLI-678",
         "2025-09-12",
         "2025-09-12",
         1,
         37.79,
         37.79,
         218
        ],
        [
         "CLI-876",
         "2025-09-11",
         "2025-09-11",
         1,
         37.52,
         37.52,
         219
        ],
        [
         "CLI-258",
         "2025-09-12",
         "2025-09-12",
         1,
         37.49,
         37.49,
         220
        ],
        [
         "CLI-282",
         "2025-09-12",
         "2025-09-12",
         1,
         37.2,
         37.2,
         221
        ],
        [
         "CLI-457",
         "2025-09-12",
         "2025-09-12",
         1,
         36.94,
         36.94,
         222
        ],
        [
         "CLI-585",
         "2025-09-11",
         "2025-09-11",
         1,
         36.23,
         36.23,
         223
        ],
        [
         "CLI-651",
         "2025-09-11",
         "2025-09-11",
         1,
         36.04,
         36.04,
         224
        ],
        [
         "CLI-613",
         "2025-09-11",
         "2025-09-11",
         1,
         35.71,
         35.71,
         225
        ],
        [
         "CLI-783",
         "2025-09-12",
         "2025-09-12",
         1,
         35.25,
         35.25,
         226
        ],
        [
         "CLI-600",
         "2025-09-11",
         "2025-09-11",
         1,
         34.67,
         34.67,
         227
        ],
        [
         "CLI-374",
         "2025-09-11",
         "2025-09-11",
         1,
         33.67,
         33.67,
         228
        ],
        [
         "CLI-232",
         "2025-09-12",
         "2025-09-12",
         1,
         33.63,
         33.63,
         229
        ],
        [
         "CLI-674",
         "2025-09-12",
         "2025-09-12",
         1,
         32.51,
         32.51,
         230
        ],
        [
         "CLI-101",
         "2025-09-11",
         "2025-09-11",
         1,
         32.35,
         32.35,
         231
        ],
        [
         "CLI-458",
         "2025-09-11",
         "2025-09-11",
         1,
         31.9,
         31.9,
         232
        ],
        [
         "CLI-550",
         "2025-09-11",
         "2025-09-11",
         1,
         31.31,
         31.31,
         233
        ],
        [
         "CLI-820",
         "2025-09-11",
         "2025-09-11",
         1,
         31.22,
         31.22,
         234
        ],
        [
         "CLI-792",
         "2025-09-11",
         "2025-09-11",
         1,
         30.78,
         30.78,
         235
        ],
        [
         "CLI-901",
         "2025-09-11",
         "2025-09-11",
         1,
         30.55,
         30.55,
         236
        ],
        [
         "CLI-160",
         "2025-09-11",
         "2025-09-11",
         1,
         29.93,
         29.93,
         237
        ],
        [
         "CLI-835",
         "2025-09-11",
         "2025-09-11",
         1,
         29.37,
         29.37,
         238
        ],
        [
         "CLI-604",
         "2025-09-11",
         "2025-09-11",
         1,
         28.56,
         28.56,
         239
        ],
        [
         "CLI-867",
         "2025-09-11",
         "2025-09-11",
         1,
         28.33,
         28.33,
         240
        ],
        [
         "CLI-603",
         "2025-09-11",
         "2025-09-11",
         1,
         28.04,
         28.04,
         241
        ],
        [
         "CLI-750",
         "2025-09-12",
         "2025-09-12",
         1,
         27.78,
         27.78,
         242
        ],
        [
         "CLI-470",
         "2025-09-11",
         "2025-09-11",
         1,
         27.63,
         27.63,
         243
        ],
        [
         "CLI-024",
         "2025-09-12",
         "2025-09-12",
         1,
         27.23,
         27.23,
         244
        ],
        [
         "CLI-594",
         "2025-09-11",
         "2025-09-11",
         1,
         26.71,
         26.71,
         245
        ],
        [
         "CLI-267",
         "2025-09-12",
         "2025-09-12",
         1,
         26.64,
         26.64,
         246
        ],
        [
         "CLI-408",
         "2025-09-12",
         "2025-09-12",
         1,
         26.14,
         26.14,
         247
        ],
        [
         "CLI-096",
         "2025-09-12",
         "2025-09-12",
         1,
         25.94,
         25.94,
         248
        ],
        [
         "CLI-401",
         "2025-09-11",
         "2025-09-11",
         1,
         25.71,
         25.71,
         249
        ],
        [
         "CLI-826",
         "2025-09-12",
         "2025-09-12",
         1,
         25.67,
         25.67,
         250
        ],
        [
         "CLI-342",
         "2025-09-11",
         "2025-09-11",
         1,
         25.57,
         25.57,
         251
        ],
        [
         "CLI-222",
         "2025-09-11",
         "2025-09-11",
         1,
         25.53,
         25.53,
         252
        ],
        [
         "CLI-844",
         "2025-09-11",
         "2025-09-11",
         1,
         24.19,
         24.19,
         253
        ],
        [
         "CLI-405",
         "2025-09-12",
         "2025-09-12",
         1,
         24.15,
         24.15,
         254
        ],
        [
         "CLI-105",
         "2025-09-12",
         "2025-09-12",
         1,
         23.81,
         23.81,
         255
        ],
        [
         "CLI-798",
         "2025-09-11",
         "2025-09-11",
         1,
         23.67,
         23.67,
         256
        ],
        [
         "CLI-174",
         "2025-09-12",
         "2025-09-12",
         1,
         23.66,
         23.66,
         257
        ],
        [
         "CLI-863",
         "2025-09-11",
         "2025-09-11",
         1,
         22.61,
         22.61,
         258
        ],
        [
         "CLI-019",
         "2025-09-12",
         "2025-09-12",
         1,
         22.25,
         22.25,
         259
        ],
        [
         "CLI-834",
         "2025-09-11",
         "2025-09-11",
         1,
         21.96,
         21.96,
         260
        ],
        [
         "CLI-517",
         "2025-09-12",
         "2025-09-12",
         1,
         21.7,
         21.7,
         261
        ],
        [
         "CLI-444",
         "2025-09-11",
         "2025-09-11",
         1,
         21.56,
         21.56,
         262
        ],
        [
         "CLI-889",
         "2025-09-12",
         "2025-09-12",
         1,
         20.87,
         20.87,
         263
        ],
        [
         "CLI-923",
         "2025-09-12",
         "2025-09-12",
         1,
         19.89,
         19.89,
         264
        ],
        [
         "CLI-577",
         "2025-09-11",
         "2025-09-11",
         1,
         19.65,
         19.65,
         265
        ],
        [
         "CLI-690",
         "2025-09-11",
         "2025-09-11",
         1,
         19.25,
         19.25,
         266
        ],
        [
         "CLI-445",
         "2025-09-12",
         "2025-09-12",
         1,
         19.22,
         19.22,
         267
        ],
        [
         "CLI-562",
         "2025-09-12",
         "2025-09-12",
         1,
         19.08,
         19.08,
         268
        ],
        [
         "CLI-316",
         "2025-09-12",
         "2025-09-12",
         1,
         18.85,
         18.85,
         269
        ],
        [
         "CLI-933",
         "2025-09-12",
         "2025-09-12",
         1,
         18.6,
         18.6,
         270
        ],
        [
         "CLI-731",
         "2025-09-12",
         "2025-09-12",
         1,
         18.5,
         18.5,
         271
        ],
        [
         "CLI-095",
         "2025-09-11",
         "2025-09-11",
         1,
         18.35,
         18.35,
         272
        ],
        [
         "CLI-264",
         "2025-09-11",
         "2025-09-11",
         1,
         18.18,
         18.18,
         273
        ],
        [
         "CLI-367",
         "2025-09-12",
         "2025-09-12",
         1,
         18.07,
         18.07,
         274
        ],
        [
         "CLI-808",
         "2025-09-12",
         "2025-09-12",
         1,
         17.73,
         17.73,
         275
        ],
        [
         "CLI-796",
         "2025-09-11",
         "2025-09-11",
         1,
         17.56,
         17.56,
         276
        ],
        [
         "CLI-588",
         "2025-09-11",
         "2025-09-11",
         1,
         17.52,
         17.52,
         277
        ],
        [
         "CLI-596",
         "2025-09-12",
         "2025-09-12",
         1,
         17.43,
         17.43,
         278
        ],
        [
         "CLI-061",
         "2025-09-11",
         "2025-09-11",
         1,
         17.33,
         17.33,
         279
        ],
        [
         "CLI-534",
         "2025-09-12",
         "2025-09-12",
         1,
         17.29,
         17.29,
         280
        ],
        [
         "CLI-165",
         "2025-09-12",
         "2025-09-12",
         1,
         17.19,
         17.19,
         281
        ],
        [
         "CLI-532",
         "2025-09-12",
         "2025-09-12",
         1,
         16.76,
         16.76,
         282
        ],
        [
         "CLI-956",
         "2025-09-12",
         "2025-09-12",
         1,
         16.57,
         16.57,
         283
        ],
        [
         "CLI-695",
         "2025-09-12",
         "2025-09-12",
         1,
         16.37,
         16.37,
         284
        ],
        [
         "CLI-994",
         "2025-09-11",
         "2025-09-11",
         1,
         14.84,
         14.84,
         285
        ],
        [
         "CLI-083",
         "2025-09-11",
         "2025-09-11",
         1,
         14.77,
         14.77,
         286
        ],
        [
         "CLI-104",
         "2025-09-12",
         "2025-09-12",
         1,
         14.43,
         14.43,
         287
        ],
        [
         "CLI-091",
         "2025-09-11",
         "2025-09-11",
         1,
         14.36,
         14.36,
         288
        ],
        [
         "CLI-602",
         "2025-09-12",
         "2025-09-12",
         1,
         14.16,
         14.16,
         289
        ],
        [
         "CLI-010",
         "2025-09-11",
         "2025-09-11",
         1,
         13.1,
         13.1,
         290
        ],
        [
         "CLI-862",
         "2025-09-12",
         "2025-09-12",
         1,
         12.9,
         12.9,
         291
        ],
        [
         "CLI-568",
         "2025-09-11",
         "2025-09-11",
         1,
         12.41,
         12.41,
         292
        ],
        [
         "CLI-046",
         "2025-09-11",
         "2025-09-11",
         1,
         12.25,
         12.25,
         293
        ],
        [
         "CLI-238",
         "2025-09-11",
         "2025-09-11",
         1,
         12.22,
         12.22,
         294
        ],
        [
         "CLI-109",
         "2025-09-11",
         "2025-09-11",
         1,
         12.03,
         12.03,
         295
        ],
        [
         "CLI-586",
         "2025-09-11",
         "2025-09-11",
         1,
         12.01,
         12.01,
         296
        ],
        [
         "CLI-578",
         "2025-09-11",
         "2025-09-11",
         1,
         11.9,
         11.9,
         297
        ],
        [
         "CLI-807",
         "2025-09-12",
         "2025-09-12",
         1,
         11.9,
         11.9,
         298
        ],
        [
         "CLI-873",
         "2025-09-12",
         "2025-09-12",
         1,
         11.82,
         11.82,
         299
        ],
        [
         "CLI-269",
         "2025-09-11",
         "2025-09-11",
         1,
         11.61,
         11.61,
         300
        ],
        [
         "CLI-753",
         "2025-09-11",
         "2025-09-11",
         1,
         11.44,
         11.44,
         301
        ],
        [
         "CLI-955",
         "2025-09-11",
         "2025-09-11",
         1,
         11.1,
         11.1,
         302
        ],
        [
         "CLI-297",
         "2025-09-11",
         "2025-09-11",
         1,
         10.96,
         10.96,
         303
        ],
        [
         "CLI-652",
         "2025-09-11",
         "2025-09-11",
         1,
         10.74,
         10.74,
         304
        ],
        [
         "CLI-437",
         "2025-09-12",
         "2025-09-12",
         1,
         10.6,
         10.6,
         305
        ],
        [
         "CLI-935",
         "2025-09-11",
         "2025-09-11",
         1,
         10.57,
         10.57,
         306
        ],
        [
         "CLI-524",
         "2025-09-11",
         "2025-09-11",
         1,
         10.35,
         10.35,
         307
        ],
        [
         "CLI-507",
         "2025-09-12",
         "2025-09-12",
         1,
         9.83,
         9.83,
         308
        ],
        [
         "CLI-150",
         "2025-09-12",
         "2025-09-12",
         1,
         9.7,
         9.7,
         309
        ],
        [
         "CLI-293",
         "2025-09-11",
         "2025-09-11",
         1,
         9.7,
         9.7,
         310
        ],
        [
         "CLI-824",
         "2025-09-11",
         "2025-09-11",
         1,
         9.4,
         9.4,
         311
        ],
        [
         "CLI-972",
         "2025-09-12",
         "2025-09-12",
         1,
         9.29,
         9.29,
         312
        ],
        [
         "CLI-984",
         "2025-09-12",
         "2025-09-12",
         1,
         9.13,
         9.13,
         313
        ],
        [
         "CLI-439",
         "2025-09-11",
         "2025-09-11",
         1,
         8.83,
         8.83,
         314
        ],
        [
         "CLI-094",
         "2025-09-11",
         "2025-09-11",
         1,
         8.79,
         8.79,
         315
        ],
        [
         "CLI-009",
         "2025-09-11",
         "2025-09-11",
         1,
         8.77,
         8.77,
         316
        ],
        [
         "CLI-847",
         "2025-09-12",
         "2025-09-12",
         1,
         8.61,
         8.61,
         317
        ],
        [
         "CLI-533",
         "2025-09-11",
         "2025-09-11",
         1,
         8.44,
         8.44,
         318
        ],
        [
         "CLI-203",
         "2025-09-11",
         "2025-09-11",
         1,
         8.1,
         8.1,
         319
        ],
        [
         "CLI-893",
         "2025-09-12",
         "2025-09-12",
         1,
         8.09,
         8.09,
         320
        ],
        [
         "CLI-311",
         "2025-09-11",
         "2025-09-11",
         1,
         7.91,
         7.91,
         321
        ],
        [
         "CLI-172",
         "2025-09-11",
         "2025-09-11",
         1,
         7.9,
         7.9,
         322
        ],
        [
         "CLI-566",
         "2025-09-12",
         "2025-09-12",
         1,
         7.78,
         7.78,
         323
        ],
        [
         "CLI-717",
         "2025-09-11",
         "2025-09-11",
         1,
         7.69,
         7.69,
         324
        ],
        [
         "CLI-818",
         "2025-09-11",
         "2025-09-11",
         1,
         7.66,
         7.66,
         325
        ],
        [
         "CLI-146",
         "2025-09-11",
         "2025-09-11",
         1,
         7.65,
         7.65,
         326
        ],
        [
         "CLI-838",
         "2025-09-12",
         "2025-09-12",
         1,
         7.58,
         7.58,
         327
        ],
        [
         "CLI-118",
         "2025-09-11",
         "2025-09-11",
         1,
         7.28,
         7.28,
         328
        ],
        [
         "CLI-108",
         "2025-09-12",
         "2025-09-12",
         1,
         7.2,
         7.2,
         329
        ],
        [
         "CLI-049",
         "2025-09-12",
         "2025-09-12",
         1,
         6.91,
         6.91,
         330
        ],
        [
         "CLI-225",
         "2025-09-11",
         "2025-09-11",
         1,
         6.8,
         6.8,
         331
        ],
        [
         "CLI-497",
         "2025-09-12",
         "2025-09-12",
         1,
         6.29,
         6.29,
         332
        ],
        [
         "CLI-704",
         "2025-09-11",
         "2025-09-11",
         1,
         6.29,
         6.29,
         333
        ],
        [
         "CLI-637",
         "2025-09-11",
         "2025-09-11",
         1,
         6.22,
         6.22,
         334
        ],
        [
         "CLI-093",
         "2025-09-12",
         "2025-09-12",
         1,
         6.19,
         6.19,
         335
        ],
        [
         "CLI-300",
         "2025-09-12",
         "2025-09-12",
         1,
         6.17,
         6.17,
         336
        ],
        [
         "CLI-379",
         "2025-09-11",
         "2025-09-11",
         1,
         6.17,
         6.17,
         337
        ],
        [
         "CLI-041",
         "2025-09-11",
         "2025-09-11",
         1,
         6.09,
         6.09,
         338
        ],
        [
         "CLI-657",
         "2025-09-11",
         "2025-09-11",
         1,
         6.08,
         6.08,
         339
        ],
        [
         "CLI-623",
         "2025-09-11",
         "2025-09-11",
         1,
         5.99,
         5.99,
         340
        ],
        [
         "CLI-968",
         "2025-09-12",
         "2025-09-12",
         1,
         5.94,
         5.94,
         341
        ],
        [
         "CLI-250",
         "2025-09-11",
         "2025-09-11",
         1,
         5.91,
         5.91,
         342
        ],
        [
         "CLI-132",
         "2025-09-12",
         "2025-09-12",
         1,
         5.78,
         5.78,
         343
        ],
        [
         "CLI-633",
         "2025-09-12",
         "2025-09-12",
         1,
         5.78,
         5.78,
         344
        ],
        [
         "CLI-846",
         "2025-09-11",
         "2025-09-11",
         1,
         5.76,
         5.76,
         345
        ],
        [
         "CLI-414",
         "2025-09-11",
         "2025-09-11",
         1,
         5.47,
         5.47,
         346
        ],
        [
         "CLI-120",
         "2025-09-11",
         "2025-09-11",
         1,
         5.42,
         5.42,
         347
        ],
        [
         "CLI-477",
         "2025-09-11",
         "2025-09-11",
         1,
         5.24,
         5.24,
         348
        ],
        [
         "CLI-089",
         "2025-09-11",
         "2025-09-11",
         1,
         5.15,
         5.15,
         349
        ],
        [
         "CLI-877",
         "2025-09-12",
         "2025-09-12",
         1,
         5.15,
         5.15,
         350
        ],
        [
         "CLI-347",
         "2025-09-11",
         "2025-09-11",
         1,
         5.13,
         5.13,
         351
        ],
        [
         "CLI-007",
         "2025-09-11",
         "2025-09-11",
         1,
         5.03,
         5.03,
         352
        ],
        [
         "CLI-542",
         "2025-09-11",
         "2025-09-11",
         1,
         5.01,
         5.01,
         353
        ],
        [
         "CLI-023",
         "2025-09-11",
         "2025-09-11",
         1,
         4.77,
         4.77,
         354
        ],
        [
         "CLI-302",
         "2025-09-12",
         "2025-09-12",
         1,
         4.57,
         4.57,
         355
        ],
        [
         "CLI-548",
         "2025-09-12",
         "2025-09-12",
         1,
         4.57,
         4.57,
         356
        ],
        [
         "CLI-830",
         "2025-09-11",
         "2025-09-11",
         1,
         4.52,
         4.52,
         357
        ],
        [
         "CLI-280",
         "2025-09-12",
         "2025-09-12",
         1,
         4.14,
         4.14,
         358
        ],
        [
         "CLI-813",
         "2025-09-11",
         "2025-09-11",
         1,
         4.1,
         4.1,
         359
        ],
        [
         "CLI-845",
         "2025-09-11",
         "2025-09-11",
         1,
         4.05,
         4.05,
         360
        ],
        [
         "CLI-911",
         "2025-09-12",
         "2025-09-12",
         1,
         4.05,
         4.05,
         361
        ],
        [
         "CLI-472",
         "2025-09-12",
         "2025-09-12",
         1,
         3.9,
         3.9,
         362
        ],
        [
         "CLI-974",
         "2025-09-11",
         "2025-09-11",
         1,
         3.9,
         3.9,
         363
        ],
        [
         "CLI-947",
         "2025-09-11",
         "2025-09-11",
         1,
         3.88,
         3.88,
         364
        ],
        [
         "CLI-192",
         "2025-09-11",
         "2025-09-11",
         1,
         3.6,
         3.6,
         365
        ],
        [
         "CLI-481",
         "2025-09-12",
         "2025-09-12",
         1,
         3.33,
         3.33,
         366
        ],
        [
         "CLI-919",
         "2025-09-11",
         "2025-09-11",
         1,
         3.16,
         3.16,
         367
        ],
        [
         "CLI-866",
         "2025-09-11",
         "2025-09-11",
         1,
         3.15,
         3.15,
         368
        ],
        [
         "CLI-412",
         "2025-09-12",
         "2025-09-12",
         1,
         3.14,
         3.14,
         369
        ],
        [
         "CLI-973",
         "2025-09-11",
         "2025-09-11",
         1,
         3.0,
         3.0,
         370
        ],
        [
         "CLI-290",
         "2025-09-11",
         "2025-09-11",
         1,
         2.95,
         2.95,
         371
        ],
        [
         "CLI-679",
         "2025-09-11",
         "2025-09-11",
         1,
         2.95,
         2.95,
         372
        ],
        [
         "CLI-615",
         "2025-09-11",
         "2025-09-11",
         1,
         2.6,
         2.6,
         373
        ],
        [
         "CLI-064",
         "2025-09-11",
         "2025-09-11",
         1,
         2.5,
         2.5,
         374
        ],
        [
         "CLI-782",
         "2025-09-11",
         "2025-09-11",
         1,
         2.44,
         2.44,
         375
        ],
        [
         "CLI-634",
         "2025-09-12",
         "2025-09-12",
         1,
         2.31,
         2.31,
         376
        ],
        [
         "CLI-193",
         "2025-09-12",
         "2025-09-12",
         1,
         2.27,
         2.27,
         377
        ],
        [
         "CLI-541",
         "2025-09-12",
         "2025-09-12",
         1,
         2.12,
         2.12,
         378
        ],
        [
         "CLI-572",
         "2025-09-11",
         "2025-09-11",
         1,
         2.05,
         2.05,
         379
        ],
        [
         "CLI-314",
         "2025-09-12",
         "2025-09-12",
         1,
         2.04,
         2.04,
         380
        ],
        [
         "CLI-338",
         "2025-09-11",
         "2025-09-11",
         1,
         1.88,
         1.88,
         381
        ],
        [
         "CLI-356",
         "2025-09-11",
         "2025-09-11",
         1,
         1.81,
         1.81,
         382
        ],
        [
         "CLI-549",
         "2025-09-11",
         "2025-09-11",
         1,
         1.71,
         1.71,
         383
        ],
        [
         "CLI-494",
         "2025-09-11",
         "2025-09-11",
         1,
         1.61,
         1.61,
         384
        ],
        [
         "CLI-635",
         "2025-09-12",
         "2025-09-12",
         1,
         1.59,
         1.59,
         385
        ],
        [
         "CLI-200",
         "2025-09-11",
         "2025-09-11",
         1,
         1.55,
         1.55,
         386
        ],
        [
         "CLI-551",
         "2025-09-11",
         "2025-09-11",
         1,
         1.54,
         1.54,
         387
        ],
        [
         "CLI-611",
         "2025-09-11",
         "2025-09-11",
         1,
         1.51,
         1.51,
         388
        ],
        [
         "CLI-189",
         "2025-09-12",
         "2025-09-12",
         1,
         1.47,
         1.47,
         389
        ],
        [
         "CLI-965",
         "2025-09-11",
         "2025-09-11",
         1,
         1.34,
         1.34,
         390
        ],
        [
         "CLI-354",
         "2025-09-12",
         "2025-09-12",
         1,
         1.32,
         1.32,
         391
        ],
        [
         "CLI-978",
         "2025-09-11",
         "2025-09-11",
         1,
         1.27,
         1.27,
         392
        ],
        [
         "CLI-563",
         "2025-09-12",
         "2025-09-12",
         1,
         1.2,
         1.2,
         393
        ],
        [
         "CLI-350",
         "2025-09-11",
         "2025-09-11",
         1,
         1.19,
         1.19,
         394
        ],
        [
         "CLI-375",
         "2025-09-11",
         "2025-09-11",
         1,
         1.13,
         1.13,
         395
        ],
        [
         "CLI-650",
         "2025-09-11",
         "2025-09-11",
         1,
         0.86,
         0.86,
         396
        ],
        [
         "CLI-291",
         "2025-09-11",
         "2025-09-11",
         1,
         0.84,
         0.84,
         397
        ],
        [
         "CLI-272",
         "2025-09-11",
         "2025-09-11",
         1,
         0.8,
         0.8,
         398
        ],
        [
         "CLI-742",
         "2025-09-12",
         "2025-09-12",
         1,
         0.57,
         0.57,
         399
        ],
        [
         "CLI-760",
         "2025-09-11",
         "2025-09-11",
         1,
         0.28,
         0.28,
         400
        ]
       ],
       "datasetInfos": [
        {
         "name": "_sqldf",
         "schema": {
          "fields": [
           {
            "metadata": {},
            "name": "client_id",
            "nullable": true,
            "type": "string"
           },
           {
            "metadata": {},
            "name": "first_order_date",
            "nullable": true,
            "type": "date"
           },
           {
            "metadata": {},
            "name": "last_order_date",
            "nullable": true,
            "type": "date"
           },
           {
            "metadata": {},
            "name": "orders_cnt",
            "nullable": true,
            "type": "long"
           },
           {
            "metadata": {},
            "name": "net_sales",
            "nullable": true,
            "type": "double"
           },
           {
            "metadata": {},
            "name": "avg_order_value",
            "nullable": true,
            "type": "double"
           },
           {
            "metadata": {},
            "name": "rnk_by_orders",
            "nullable": false,
            "type": "integer"
           }
          ],
          "type": "struct"
         },
         "tableIdentifier": null,
         "typeStr": "pyspark.sql.connect.dataframe.DataFrame"
        }
       ],
       "dbfsResultPath": null,
       "isJsonSchema": true,
       "metadata": {
        "createTempViewForImplicitDf": true,
        "dataframeName": "_sqldf",
        "executionCount": 4
       },
       "overflow": false,
       "plotOptions": {
        "customPlotOptions": {},
        "displayType": "table",
        "pivotAggregation": null,
        "pivotColumns": null,
        "xColumns": null,
        "yColumns": null
       },
       "removedWidgets": [],
       "schema": [
        {
         "metadata": "{}",
         "name": "client_id",
         "type": "\"string\""
        },
        {
         "metadata": "{}",
         "name": "first_order_date",
         "type": "\"date\""
        },
        {
         "metadata": "{}",
         "name": "last_order_date",
         "type": "\"date\""
        },
        {
         "metadata": "{}",
         "name": "orders_cnt",
         "type": "\"long\""
        },
        {
         "metadata": "{}",
         "name": "net_sales",
         "type": "\"double\""
        },
        {
         "metadata": "{}",
         "name": "avg_order_value",
         "type": "\"double\""
        },
        {
         "metadata": "{}",
         "name": "rnk_by_orders",
         "type": "\"integer\""
        }
       ],
       "type": "table"
      }
     },
     "output_type": "display_data"
    }
   ],
   "source": [
    "%sql\n",
    "-- Deben existir:\n",
    "SELECT COUNT(*) AS n FROM farma.gold.product_lifetime_by_pharmacy;\n",
    "SELECT COUNT(*) AS n FROM farma.gold.daily_kpis_by_pharmacy_base;\n",
    "SELECT COUNT(*) AS n FROM farma.gold.client_lifetime;\n",
    "\n",
    "-- Muestras:\n",
    "SELECT * FROM farma.gold.top_products_by_pharmacy ORDER BY id_farmacia DESC LIMIT 7;\n",
    "SELECT * FROM farma.gold.daily_kpis_by_pharmacy_base ORDER BY order_date DESC, id_farmacia LIMIT 10;\n",
    "SELECT * FROM farma.gold.top_clients_by_orders;"
   ]
  }
 ],
 "metadata": {
  "application/vnd.databricks.v1+notebook": {
   "computePreferences": null,
   "dashboards": [],
   "environmentMetadata": {
    "base_environment": "",
    "environment_version": "3"
   },
   "inputWidgetPreferences": null,
   "language": "python",
   "notebookMetadata": {
    "mostRecentlyExecutedCommandWithImplicitDF": {
     "commandId": 8601058284981604,
     "dataframes": [
      "_sqldf"
     ]
    },
    "pythonIndentUnit": 4
   },
   "notebookName": "03_farmahorra_gold",
   "widgets": {}
  },
  "language_info": {
   "name": "python"
  }
 },
 "nbformat": 4,
 "nbformat_minor": 0
}